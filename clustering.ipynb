{
  "cells": [
    {
      "attachments": {},
      "cell_type": "markdown",
      "metadata": {},
      "source": [
        "# Actual Clustering\n",
        "\n",
        "In this notebook we produce clusters for all tasks using two clustering algorithms: `Kruskal MST` and `Affinity Propagation` as described below."
      ]
    },
    {
      "cell_type": "code",
      "execution_count": 1,
      "metadata": {
        "id": "W1dlMguUxlNk"
      },
      "outputs": [],
      "source": [
        "import os\n",
        "import numpy as np\n",
        "import pandas as pd\n",
        "from sklearn.cluster import AffinityPropagation\n",
        "from IPython.display import Image"
      ]
    },
    {
      "attachments": {},
      "cell_type": "markdown",
      "metadata": {},
      "source": [
        "### Similarity matrices\n",
        "\n",
        "For the ease of processing, we serialised similarity matrices we obtained as csv files.\n",
        "\n",
        "They can be conveniently read as dataframes that consequently serve as an input to functions described below to produce clusters."
      ]
    },
    {
      "cell_type": "code",
      "execution_count": 2,
      "metadata": {},
      "outputs": [
        {
          "data": {
            "text/html": [
              "<div>\n",
              "<style scoped>\n",
              "    .dataframe tbody tr th:only-of-type {\n",
              "        vertical-align: middle;\n",
              "    }\n",
              "\n",
              "    .dataframe tbody tr th {\n",
              "        vertical-align: top;\n",
              "    }\n",
              "\n",
              "    .dataframe thead th {\n",
              "        text-align: right;\n",
              "    }\n",
              "</style>\n",
              "<table border=\"1\" class=\"dataframe\">\n",
              "  <thead>\n",
              "    <tr style=\"text-align: right;\">\n",
              "      <th></th>\n",
              "      <th>S001</th>\n",
              "      <th>S002</th>\n",
              "      <th>S003</th>\n",
              "      <th>S004</th>\n",
              "      <th>S006</th>\n",
              "      <th>S007</th>\n",
              "      <th>S008</th>\n",
              "      <th>S010</th>\n",
              "      <th>S011</th>\n",
              "      <th>S012</th>\n",
              "      <th>...</th>\n",
              "      <th>S363</th>\n",
              "      <th>S365</th>\n",
              "      <th>S367</th>\n",
              "      <th>S369</th>\n",
              "      <th>S370</th>\n",
              "      <th>S371</th>\n",
              "      <th>S372</th>\n",
              "      <th>S373</th>\n",
              "      <th>S374</th>\n",
              "      <th>S376</th>\n",
              "    </tr>\n",
              "    <tr>\n",
              "      <th>idx</th>\n",
              "      <th></th>\n",
              "      <th></th>\n",
              "      <th></th>\n",
              "      <th></th>\n",
              "      <th></th>\n",
              "      <th></th>\n",
              "      <th></th>\n",
              "      <th></th>\n",
              "      <th></th>\n",
              "      <th></th>\n",
              "      <th></th>\n",
              "      <th></th>\n",
              "      <th></th>\n",
              "      <th></th>\n",
              "      <th></th>\n",
              "      <th></th>\n",
              "      <th></th>\n",
              "      <th></th>\n",
              "      <th></th>\n",
              "      <th></th>\n",
              "      <th></th>\n",
              "    </tr>\n",
              "  </thead>\n",
              "  <tbody>\n",
              "    <tr>\n",
              "      <th>S001</th>\n",
              "      <td>1.000000</td>\n",
              "      <td>0.343750</td>\n",
              "      <td>0.816667</td>\n",
              "      <td>0.482759</td>\n",
              "      <td>0.564516</td>\n",
              "      <td>0.634921</td>\n",
              "      <td>0.479452</td>\n",
              "      <td>0.449275</td>\n",
              "      <td>0.553846</td>\n",
              "      <td>0.892308</td>\n",
              "      <td>...</td>\n",
              "      <td>0.769231</td>\n",
              "      <td>0.500000</td>\n",
              "      <td>0.545455</td>\n",
              "      <td>0.534247</td>\n",
              "      <td>0.561404</td>\n",
              "      <td>0.465753</td>\n",
              "      <td>0.246575</td>\n",
              "      <td>0.684211</td>\n",
              "      <td>0.700000</td>\n",
              "      <td>0.260274</td>\n",
              "    </tr>\n",
              "    <tr>\n",
              "      <th>S002</th>\n",
              "      <td>0.343750</td>\n",
              "      <td>1.000000</td>\n",
              "      <td>0.125000</td>\n",
              "      <td>0.166667</td>\n",
              "      <td>0.406250</td>\n",
              "      <td>0.290323</td>\n",
              "      <td>0.343750</td>\n",
              "      <td>0.343750</td>\n",
              "      <td>0.166667</td>\n",
              "      <td>0.125000</td>\n",
              "      <td>...</td>\n",
              "      <td>0.125000</td>\n",
              "      <td>0.343750</td>\n",
              "      <td>0.125000</td>\n",
              "      <td>0.406250</td>\n",
              "      <td>0.406250</td>\n",
              "      <td>0.375000</td>\n",
              "      <td>0.468750</td>\n",
              "      <td>0.473684</td>\n",
              "      <td>0.125000</td>\n",
              "      <td>0.937500</td>\n",
              "    </tr>\n",
              "    <tr>\n",
              "      <th>S003</th>\n",
              "      <td>0.816667</td>\n",
              "      <td>0.125000</td>\n",
              "      <td>1.000000</td>\n",
              "      <td>0.344828</td>\n",
              "      <td>0.444444</td>\n",
              "      <td>0.446429</td>\n",
              "      <td>0.350000</td>\n",
              "      <td>0.283333</td>\n",
              "      <td>0.433333</td>\n",
              "      <td>0.700000</td>\n",
              "      <td>...</td>\n",
              "      <td>0.616667</td>\n",
              "      <td>0.384615</td>\n",
              "      <td>0.409091</td>\n",
              "      <td>0.483333</td>\n",
              "      <td>0.408163</td>\n",
              "      <td>0.350000</td>\n",
              "      <td>0.100000</td>\n",
              "      <td>0.545455</td>\n",
              "      <td>0.650000</td>\n",
              "      <td>0.116667</td>\n",
              "    </tr>\n",
              "    <tr>\n",
              "      <th>S004</th>\n",
              "      <td>0.482759</td>\n",
              "      <td>0.166667</td>\n",
              "      <td>0.344828</td>\n",
              "      <td>1.000000</td>\n",
              "      <td>0.592593</td>\n",
              "      <td>0.696429</td>\n",
              "      <td>0.413793</td>\n",
              "      <td>0.310345</td>\n",
              "      <td>0.620690</td>\n",
              "      <td>0.586207</td>\n",
              "      <td>...</td>\n",
              "      <td>0.655172</td>\n",
              "      <td>0.384615</td>\n",
              "      <td>0.409091</td>\n",
              "      <td>0.396552</td>\n",
              "      <td>0.530612</td>\n",
              "      <td>0.448276</td>\n",
              "      <td>0.155172</td>\n",
              "      <td>0.454545</td>\n",
              "      <td>0.293103</td>\n",
              "      <td>0.293103</td>\n",
              "    </tr>\n",
              "    <tr>\n",
              "      <th>S006</th>\n",
              "      <td>0.564516</td>\n",
              "      <td>0.406250</td>\n",
              "      <td>0.444444</td>\n",
              "      <td>0.592593</td>\n",
              "      <td>1.000000</td>\n",
              "      <td>0.655738</td>\n",
              "      <td>0.532258</td>\n",
              "      <td>0.483871</td>\n",
              "      <td>0.703704</td>\n",
              "      <td>0.685185</td>\n",
              "      <td>...</td>\n",
              "      <td>0.629630</td>\n",
              "      <td>0.500000</td>\n",
              "      <td>0.477273</td>\n",
              "      <td>0.725806</td>\n",
              "      <td>0.807018</td>\n",
              "      <td>0.548387</td>\n",
              "      <td>0.403226</td>\n",
              "      <td>0.736842</td>\n",
              "      <td>0.351852</td>\n",
              "      <td>0.354839</td>\n",
              "    </tr>\n",
              "    <tr>\n",
              "      <th>...</th>\n",
              "      <td>...</td>\n",
              "      <td>...</td>\n",
              "      <td>...</td>\n",
              "      <td>...</td>\n",
              "      <td>...</td>\n",
              "      <td>...</td>\n",
              "      <td>...</td>\n",
              "      <td>...</td>\n",
              "      <td>...</td>\n",
              "      <td>...</td>\n",
              "      <td>...</td>\n",
              "      <td>...</td>\n",
              "      <td>...</td>\n",
              "      <td>...</td>\n",
              "      <td>...</td>\n",
              "      <td>...</td>\n",
              "      <td>...</td>\n",
              "      <td>...</td>\n",
              "      <td>...</td>\n",
              "      <td>...</td>\n",
              "      <td>...</td>\n",
              "    </tr>\n",
              "    <tr>\n",
              "      <th>S371</th>\n",
              "      <td>0.465753</td>\n",
              "      <td>0.375000</td>\n",
              "      <td>0.350000</td>\n",
              "      <td>0.448276</td>\n",
              "      <td>0.548387</td>\n",
              "      <td>0.555556</td>\n",
              "      <td>0.358974</td>\n",
              "      <td>0.579710</td>\n",
              "      <td>0.442857</td>\n",
              "      <td>0.470588</td>\n",
              "      <td>...</td>\n",
              "      <td>0.328571</td>\n",
              "      <td>0.583333</td>\n",
              "      <td>0.363636</td>\n",
              "      <td>0.461538</td>\n",
              "      <td>0.456140</td>\n",
              "      <td>1.000000</td>\n",
              "      <td>0.526316</td>\n",
              "      <td>0.631579</td>\n",
              "      <td>0.400000</td>\n",
              "      <td>0.216216</td>\n",
              "    </tr>\n",
              "    <tr>\n",
              "      <th>S372</th>\n",
              "      <td>0.246575</td>\n",
              "      <td>0.468750</td>\n",
              "      <td>0.100000</td>\n",
              "      <td>0.155172</td>\n",
              "      <td>0.403226</td>\n",
              "      <td>0.206349</td>\n",
              "      <td>0.486842</td>\n",
              "      <td>0.652174</td>\n",
              "      <td>0.250000</td>\n",
              "      <td>0.147059</td>\n",
              "      <td>...</td>\n",
              "      <td>0.147059</td>\n",
              "      <td>0.233333</td>\n",
              "      <td>0.454545</td>\n",
              "      <td>0.263158</td>\n",
              "      <td>0.385965</td>\n",
              "      <td>0.526316</td>\n",
              "      <td>1.000000</td>\n",
              "      <td>0.526316</td>\n",
              "      <td>0.150000</td>\n",
              "      <td>0.445946</td>\n",
              "    </tr>\n",
              "    <tr>\n",
              "      <th>S373</th>\n",
              "      <td>0.684211</td>\n",
              "      <td>0.473684</td>\n",
              "      <td>0.545455</td>\n",
              "      <td>0.454545</td>\n",
              "      <td>0.736842</td>\n",
              "      <td>0.722222</td>\n",
              "      <td>0.684211</td>\n",
              "      <td>0.473684</td>\n",
              "      <td>0.636364</td>\n",
              "      <td>0.636364</td>\n",
              "      <td>...</td>\n",
              "      <td>0.545455</td>\n",
              "      <td>0.684211</td>\n",
              "      <td>0.272727</td>\n",
              "      <td>0.684211</td>\n",
              "      <td>0.526316</td>\n",
              "      <td>0.631579</td>\n",
              "      <td>0.526316</td>\n",
              "      <td>1.000000</td>\n",
              "      <td>0.545455</td>\n",
              "      <td>0.631579</td>\n",
              "    </tr>\n",
              "    <tr>\n",
              "      <th>S374</th>\n",
              "      <td>0.700000</td>\n",
              "      <td>0.125000</td>\n",
              "      <td>0.650000</td>\n",
              "      <td>0.293103</td>\n",
              "      <td>0.351852</td>\n",
              "      <td>0.446429</td>\n",
              "      <td>0.200000</td>\n",
              "      <td>0.116667</td>\n",
              "      <td>0.416667</td>\n",
              "      <td>0.700000</td>\n",
              "      <td>...</td>\n",
              "      <td>0.583333</td>\n",
              "      <td>0.538462</td>\n",
              "      <td>0.204545</td>\n",
              "      <td>0.266667</td>\n",
              "      <td>0.367347</td>\n",
              "      <td>0.400000</td>\n",
              "      <td>0.150000</td>\n",
              "      <td>0.545455</td>\n",
              "      <td>1.000000</td>\n",
              "      <td>0.166667</td>\n",
              "    </tr>\n",
              "    <tr>\n",
              "      <th>S376</th>\n",
              "      <td>0.260274</td>\n",
              "      <td>0.937500</td>\n",
              "      <td>0.116667</td>\n",
              "      <td>0.293103</td>\n",
              "      <td>0.354839</td>\n",
              "      <td>0.349206</td>\n",
              "      <td>0.297297</td>\n",
              "      <td>0.231884</td>\n",
              "      <td>0.227273</td>\n",
              "      <td>0.166667</td>\n",
              "      <td>...</td>\n",
              "      <td>0.166667</td>\n",
              "      <td>0.250000</td>\n",
              "      <td>0.181818</td>\n",
              "      <td>0.283784</td>\n",
              "      <td>0.333333</td>\n",
              "      <td>0.216216</td>\n",
              "      <td>0.445946</td>\n",
              "      <td>0.631579</td>\n",
              "      <td>0.166667</td>\n",
              "      <td>1.000000</td>\n",
              "    </tr>\n",
              "  </tbody>\n",
              "</table>\n",
              "<p>289 rows × 289 columns</p>\n",
              "</div>"
            ],
            "text/plain": [
              "          S001      S002      S003      S004      S006      S007      S008  \\\n",
              "idx                                                                          \n",
              "S001  1.000000  0.343750  0.816667  0.482759  0.564516  0.634921  0.479452   \n",
              "S002  0.343750  1.000000  0.125000  0.166667  0.406250  0.290323  0.343750   \n",
              "S003  0.816667  0.125000  1.000000  0.344828  0.444444  0.446429  0.350000   \n",
              "S004  0.482759  0.166667  0.344828  1.000000  0.592593  0.696429  0.413793   \n",
              "S006  0.564516  0.406250  0.444444  0.592593  1.000000  0.655738  0.532258   \n",
              "...        ...       ...       ...       ...       ...       ...       ...   \n",
              "S371  0.465753  0.375000  0.350000  0.448276  0.548387  0.555556  0.358974   \n",
              "S372  0.246575  0.468750  0.100000  0.155172  0.403226  0.206349  0.486842   \n",
              "S373  0.684211  0.473684  0.545455  0.454545  0.736842  0.722222  0.684211   \n",
              "S374  0.700000  0.125000  0.650000  0.293103  0.351852  0.446429  0.200000   \n",
              "S376  0.260274  0.937500  0.116667  0.293103  0.354839  0.349206  0.297297   \n",
              "\n",
              "          S010      S011      S012  ...      S363      S365      S367  \\\n",
              "idx                                 ...                                 \n",
              "S001  0.449275  0.553846  0.892308  ...  0.769231  0.500000  0.545455   \n",
              "S002  0.343750  0.166667  0.125000  ...  0.125000  0.343750  0.125000   \n",
              "S003  0.283333  0.433333  0.700000  ...  0.616667  0.384615  0.409091   \n",
              "S004  0.310345  0.620690  0.586207  ...  0.655172  0.384615  0.409091   \n",
              "S006  0.483871  0.703704  0.685185  ...  0.629630  0.500000  0.477273   \n",
              "...        ...       ...       ...  ...       ...       ...       ...   \n",
              "S371  0.579710  0.442857  0.470588  ...  0.328571  0.583333  0.363636   \n",
              "S372  0.652174  0.250000  0.147059  ...  0.147059  0.233333  0.454545   \n",
              "S373  0.473684  0.636364  0.636364  ...  0.545455  0.684211  0.272727   \n",
              "S374  0.116667  0.416667  0.700000  ...  0.583333  0.538462  0.204545   \n",
              "S376  0.231884  0.227273  0.166667  ...  0.166667  0.250000  0.181818   \n",
              "\n",
              "          S369      S370      S371      S372      S373      S374      S376  \n",
              "idx                                                                         \n",
              "S001  0.534247  0.561404  0.465753  0.246575  0.684211  0.700000  0.260274  \n",
              "S002  0.406250  0.406250  0.375000  0.468750  0.473684  0.125000  0.937500  \n",
              "S003  0.483333  0.408163  0.350000  0.100000  0.545455  0.650000  0.116667  \n",
              "S004  0.396552  0.530612  0.448276  0.155172  0.454545  0.293103  0.293103  \n",
              "S006  0.725806  0.807018  0.548387  0.403226  0.736842  0.351852  0.354839  \n",
              "...        ...       ...       ...       ...       ...       ...       ...  \n",
              "S371  0.461538  0.456140  1.000000  0.526316  0.631579  0.400000  0.216216  \n",
              "S372  0.263158  0.385965  0.526316  1.000000  0.526316  0.150000  0.445946  \n",
              "S373  0.684211  0.526316  0.631579  0.526316  1.000000  0.545455  0.631579  \n",
              "S374  0.266667  0.367347  0.400000  0.150000  0.545455  1.000000  0.166667  \n",
              "S376  0.283784  0.333333  0.216216  0.445946  0.631579  0.166667  1.000000  \n",
              "\n",
              "[289 rows x 289 columns]"
            ]
          },
          "execution_count": 2,
          "metadata": {},
          "output_type": "execute_result"
        }
      ],
      "source": [
        "pd.read_csv(\"matrices/reference.csv\", index_col=\"idx\")"
      ]
    },
    {
      "attachments": {},
      "cell_type": "markdown",
      "metadata": {},
      "source": [
        "### Code for Kruskal's Minimal Spanning Tree"
      ]
    },
    {
      "attachments": {},
      "cell_type": "markdown",
      "metadata": {},
      "source": [
        "Kruskal algorithm takes a connected weighted edge graph and returns Minimal cost Spanning Tree* (picture below).\n",
        "\n",
        "When a graph is not connected Kruskal returns a forest (a graph with more than one tree) of MSTs.\n",
        "\n",
        "We use it as a foundation for clustering: each MST can be viewed as a cluster.\n",
        "Since we are rather interested in what vertex belongs to what component rather that how exactly they are conected (a=b and b=c or a=c and c=b), we can omit MST construction part for optimisation and readability purposes. \n",
        "\n",
        "Following this modification, our algorithm basically serves as a disjoint set unification algorithm. \n",
        "To denote the origin of the idea for algorithm, we still name it `kruskal`.\n",
        "\n",
        "*MST or Minimal cost Spanning Tree -- tree connecting all vertices of the weighted edge graph that has the minimal possible weight."
      ]
    },
    {
      "cell_type": "code",
      "execution_count": 3,
      "metadata": {},
      "outputs": [
        {
          "data": {
            "image/png": "[encoded data removed]",
            "text/plain": [
              "<IPython.core.display.Image object>"
            ]
          },
          "execution_count": 3,
          "metadata": {},
          "output_type": "execute_result"
        }
      ],
      "source": [
        "Image('assets/mst.png') #[1]"
      ]
    },
    {
      "cell_type": "code",
      "execution_count": 4,
      "metadata": {},
      "outputs": [],
      "source": [
        "class Edge():\n",
        "    \"\"\"\n",
        "    Class that represents an edge in a weighted graph\n",
        "    fields: \n",
        "        a, b  - indices in the dataframe corresponding to a vertex\n",
        "        distance - distance between vertices, (1 - similarity of programs coresponding to indices)\n",
        "    \"\"\"\n",
        "    def __init__(self, a: int, b: int, distance: float) -> None:\n",
        "        self.a = a\n",
        "        self.b = b\n",
        "        self.distance = distance\n",
        "\n",
        "def kruskal(df: pd.DataFrame, threshold=0.85) -> list[list[str]]:\n",
        "    \"\"\"\n",
        "    Kruskal algorithm takes a graph and returns Minimal cost Spanning Tree for it\n",
        "    Run Kruskal MST algorithm's part(merging connected components) on the similarity matrix\n",
        "\n",
        "    params:\n",
        "        df - similarity matrix\n",
        "        threshold - if a distance between vertices is above this value we do not add this edge, submissions won't be connected\n",
        "                    yet they can be connected through other components \n",
        "    \"\"\"\n",
        "    edges = sorted(createEdges(df, threshold), key=lambda edge : edge.distance)\n",
        "    #Initially each component is in a cluster of its own\n",
        "    connected_components = [{i} for i in range(len(df))]\n",
        "\n",
        "    for edge in edges:\n",
        "        component_A, component_B = -1, -1\n",
        "        for i in range(len(connected_components)):\n",
        "            if edge.a in connected_components[i]:\n",
        "                component_A = i\n",
        "            if edge.b in connected_components[i]:\n",
        "                component_B = i\n",
        "        if component_A == component_B:\n",
        "            continue\n",
        "        #Merge connected components\n",
        "        connected_components[component_A].update(connected_components.pop(component_B))\n",
        "\n",
        "    return [[df.index[i] for i in connected_component] for connected_component in connected_components]\n",
        "\n",
        "def createEdges(df: pd.DataFrame, threshold: float) -> list[Edge]:\n",
        "    \"\"\"\n",
        "    Function creates edges from the given dataframe (distance between programms)\n",
        "    Only edges that are above threshold are added\n",
        "    \"\"\"\n",
        "    n, _ = df.shape \n",
        "    #Formula for distance: distance = 1 - similarity\n",
        "    #Since distance is reflexive property and we do not need to add loops (edge from vertex to itself) \n",
        "    #we can just iterate over triangle of the matrix\n",
        "    return [Edge(i, j, 1 - df.iloc[i][j]) for i in range(n) for j in range(i+1, n) if df.iloc[i][j] > threshold]\n"
      ]
    },
    {
      "attachments": {},
      "cell_type": "markdown",
      "metadata": {},
      "source": [
        "### Code to get clusters of students from Affinity Propagation"
      ]
    },
    {
      "attachments": {},
      "cell_type": "markdown",
      "metadata": {},
      "source": [
        "Affinitiy propagation can take affinity matrix as a custom distance measure. So, we feed it a similarity matrix that can be viewed as an affinity matrix."
      ]
    },
    {
      "cell_type": "code",
      "execution_count": 5,
      "metadata": {},
      "outputs": [],
      "source": [
        "def affinity_Propagation(df: pd.DataFrame) -> list[list[str]]:\n",
        "    \"\"\"\n",
        "        params:\n",
        "        df -- similarity matrix\n",
        "    \"\"\"    \n",
        "    af = AffinityPropagation(affinity='precomputed', random_state=42)\n",
        "    af.fit(df)\n",
        "    cluster_centers = af.cluster_centers_indices_\n",
        "    labels = af.labels_\n",
        "    n_clusters_ = len(cluster_centers)\n",
        "    clusters=[list() for i in range(len(cluster_centers))]\n",
        "    for i, cluster in enumerate(labels):\n",
        "        clusters[cluster].append(df.index[i])\n",
        "    return clusters"
      ]
    },
    {
      "attachments": {},
      "cell_type": "markdown",
      "metadata": {},
      "source": [
        "## Clusters"
      ]
    },
    {
      "attachments": {},
      "cell_type": "markdown",
      "metadata": {},
      "source": [
        "Since we deal with similarities/distances that are abstracted from 2D plane (triangle inequality does not hold), visualisation does not seem reasonable. On top of that, it will be quite hard to read out student labels if they are in the same big cluster. For that reason we are just content with printing student code clusters in a form of a list."
      ]
    },
    {
      "cell_type": "code",
      "execution_count": 6,
      "metadata": {},
      "outputs": [
        {
          "name": "stdout",
          "output_type": "stream",
          "text": [
            "Files we work with:\n",
            "['matrices/K01_kodu1.csv', 'matrices/K02_kodu2.csv', 'matrices/K02_kodu3.csv', 'matrices/K02_kodu4.csv', 'matrices/K03_kodu1.csv', 'matrices/K03_kodu2.csv', 'matrices/K03_kodu3.csv', 'matrices/K03_kodu4.csv', 'matrices/K04_kodu1.csv', 'matrices/K04_kodu2.csv', 'matrices/K04_kodu3.csv', 'matrices/K05_kodu1.csv', 'matrices/K05_kodu2.csv', 'matrices/K05_kodu3.csv', 'matrices/K07_kodu1.csv', 'matrices/K07_kodu2.csv', 'matrices/K07_kodu3.csv', 'matrices/K08_film.csv', 'matrices/K08_kodu1.csv', 'matrices/K08_kodu3.csv', 'matrices/K09_kodu1.csv', 'matrices/K09_kodu2.csv', 'matrices/K10_kodu1.csv', 'matrices/K10_kodu2.csv', 'matrices/K11_kodu1.csv', 'matrices/K11_kodu2.csv', 'matrices/K13_kodu1.csv', 'matrices/K13_kodu2.csv', 'matrices/K14_kodu1.csv', 'matrices/K14_kodu2.csv', 'matrices/K15_kodu1.csv', 'matrices/K15_kodu2.csv', 'matrices/K15_kodu3.csv', 'matrices/reference.csv']\n"
          ]
        }
      ],
      "source": [
        "files = [f\"matrices/{file_name}\" for file_name in sorted(filter(lambda file: file.endswith('.csv'), next(os.walk('matrices'))[2]))]\n",
        "print(f\"Files we work with:\\n{files}\")"
      ]
    },
    {
      "cell_type": "code",
      "execution_count": 7,
      "metadata": {},
      "outputs": [],
      "source": [
        "def printer(clusters):\n",
        "    i = 0\n",
        "    for cluster in clusters:\n",
        "        i += len(cluster)\n",
        "        end = ' '\n",
        "        if i > 17:\n",
        "            end = '\\n'\n",
        "            i = 0\n",
        "        print(cluster, end=end)"
      ]
    },
    {
      "cell_type": "code",
      "execution_count": 8,
      "metadata": {},
      "outputs": [],
      "source": [
        "K01_kodu1 = pd.read_csv(\"matrices/K01_kodu1.csv\", index_col=\"idx\")"
      ]
    },
    {
      "cell_type": "code",
      "execution_count": 9,
      "metadata": {},
      "outputs": [
        {
          "name": "stdout",
          "output_type": "stream",
          "text": [
            "['S008', 'S019', 'S027', 'S029', 'S077', 'S085', 'S099', 'S126', 'S185', 'S187', 'S189', 'S220', 'S244', 'S297', 'S329', 'S344'] ['S035', 'S040', 'S042', 'S044', 'S087', 'S093', 'S107', 'S109', 'S119', 'S124', 'S130', 'S146', 'S172', 'S219', 'S225', 'S235', 'S245', 'S277', 'S340', 'S341', 'S351', 'S361', 'S364', 'S367']\n",
            "['S006', 'S041', 'S053', 'S056', 'S062', 'S082', 'S113', 'S127', 'S141', 'S143', 'S160', 'S167', 'S177', 'S184', 'S224', 'S234', 'S249', 'S259', 'S260', 'S270', 'S271', 'S300', 'S306', 'S310', 'S350']\n",
            "['S001', 'S002', 'S003', 'S004', 'S005', 'S007', 'S009', 'S010', 'S011', 'S012', 'S013', 'S014', 'S015', 'S016', 'S017', 'S018', 'S020', 'S021', 'S022', 'S023', 'S024', 'S025', 'S026', 'S028', 'S030', 'S031', 'S032', 'S033', 'S034', 'S036', 'S037', 'S038', 'S039', 'S043', 'S045', 'S048', 'S049', 'S050', 'S051', 'S052', 'S054', 'S055', 'S057', 'S058', 'S059', 'S060', 'S061', 'S063', 'S064', 'S065', 'S066', 'S067', 'S068', 'S069', 'S070', 'S071', 'S072', 'S073', 'S074', 'S075', 'S076', 'S078', 'S079', 'S080', 'S081', 'S083', 'S084', 'S086', 'S088', 'S089', 'S090', 'S091', 'S092', 'S094', 'S095', 'S096', 'S097', 'S098', 'S100', 'S101', 'S102', 'S103', 'S104', 'S105', 'S106', 'S108', 'S110', 'S111', 'S112', 'S114', 'S115', 'S116', 'S117', 'S120', 'S121', 'S122', 'S123', 'S125', 'S128', 'S129', 'S131', 'S132', 'S133', 'S134', 'S135', 'S136', 'S137', 'S138', 'S139', 'S140', 'S142', 'S144', 'S145', 'S147', 'S148', 'S149', 'S150', 'S151', 'S152', 'S153', 'S155', 'S156', 'S157', 'S158', 'S159', 'S161', 'S162', 'S163', 'S164', 'S165', 'S166', 'S168', 'S169', 'S170', 'S171', 'S173', 'S174', 'S175', 'S176', 'S178', 'S179', 'S180', 'S181', 'S182', 'S183', 'S186', 'S188', 'S190', 'S191', 'S192', 'S193', 'S194', 'S195', 'S196', 'S197', 'S198', 'S199', 'S200', 'S201', 'S202', 'S203', 'S204', 'S205', 'S206', 'S207', 'S208', 'S209', 'S210', 'S211', 'S212', 'S213', 'S214', 'S215', 'S216', 'S217', 'S218', 'S221', 'S222', 'S223', 'S226', 'S227', 'S228', 'S229', 'S230', 'S232', 'S233', 'S236', 'S237', 'S238', 'S239', 'S240', 'S241', 'S242', 'S243', 'S246', 'S247', 'S248', 'S250', 'S251', 'S253', 'S254', 'S255', 'S256', 'S257', 'S258', 'S261', 'S262', 'S263', 'S264', 'S265', 'S266', 'S267', 'S268', 'S269', 'S272', 'S273', 'S274', 'S275', 'S276', 'S278', 'S279', 'S280', 'S281', 'S282', 'S283', 'S284', 'S285', 'S286', 'S287', 'S288', 'S289', 'S290', 'S291', 'S293', 'S294', 'S295', 'S296', 'S298', 'S299', 'S301', 'S302', 'S303', 'S304', 'S305', 'S307', 'S308', 'S309', 'S311', 'S312', 'S313', 'S314', 'S315', 'S316', 'S317', 'S318', 'S319', 'S320', 'S321', 'S324', 'S325', 'S326', 'S327', 'S328', 'S330', 'S331', 'S332', 'S333', 'S334', 'S335', 'S336', 'S337', 'S338', 'S339', 'S342', 'S343', 'S345', 'S346', 'S347', 'S348', 'S349', 'S352', 'S353', 'S354', 'S355', 'S356', 'S357', 'S358', 'S359', 'S360', 'S362', 'S363', 'S365', 'S366', 'S368', 'S369', 'S370', 'S371', 'S372', 'S373', 'S374', 'S375', 'S376', 'S377']\n"
          ]
        }
      ],
      "source": [
        "printer(affinity_Propagation(K01_kodu1))"
      ]
    },
    {
      "cell_type": "code",
      "execution_count": 10,
      "metadata": {},
      "outputs": [
        {
          "name": "stdout",
          "output_type": "stream",
          "text": [
            "['S006'] ['S014'] ['S040'] ['S050'] ['S084'] ['S120'] ['S001', 'S002', 'S003', 'S004', 'S005', 'S007', 'S008', 'S009', 'S010', 'S011', 'S012', 'S013', 'S015', 'S016', 'S017', 'S018', 'S019', 'S020', 'S021', 'S022', 'S023', 'S024', 'S025', 'S026', 'S027', 'S028', 'S029', 'S030', 'S031', 'S032', 'S033', 'S034', 'S035', 'S036', 'S037', 'S038', 'S039', 'S041', 'S042', 'S043', 'S044', 'S045', 'S048', 'S049', 'S051', 'S052', 'S053', 'S054', 'S055', 'S056', 'S057', 'S058', 'S059', 'S060', 'S061', 'S062', 'S063', 'S064', 'S065', 'S066', 'S067', 'S068', 'S069', 'S070', 'S071', 'S072', 'S073', 'S074', 'S075', 'S076', 'S077', 'S078', 'S079', 'S080', 'S081', 'S082', 'S083', 'S085', 'S086', 'S087', 'S088', 'S089', 'S090', 'S091', 'S092', 'S093', 'S094', 'S095', 'S096', 'S097', 'S098', 'S099', 'S100', 'S101', 'S102', 'S103', 'S104', 'S105', 'S106', 'S107', 'S108', 'S109', 'S110', 'S111', 'S112', 'S113', 'S114', 'S115', 'S116', 'S117', 'S119', 'S121', 'S122', 'S123', 'S124', 'S125', 'S126', 'S127', 'S128', 'S129', 'S130', 'S131', 'S132', 'S133', 'S134', 'S135', 'S136', 'S137', 'S138', 'S139', 'S140', 'S141', 'S142', 'S143', 'S144', 'S145', 'S146', 'S147', 'S148', 'S149', 'S151', 'S152', 'S153', 'S155', 'S156', 'S157', 'S158', 'S159', 'S160', 'S161', 'S162', 'S163', 'S164', 'S165', 'S166', 'S167', 'S168', 'S169', 'S170', 'S171', 'S172', 'S173', 'S174', 'S176', 'S177', 'S178', 'S179', 'S180', 'S181', 'S182', 'S183', 'S184', 'S185', 'S186', 'S187', 'S188', 'S191', 'S192', 'S193', 'S195', 'S196', 'S197', 'S198', 'S199', 'S200', 'S201', 'S202', 'S203', 'S204', 'S205', 'S206', 'S207', 'S209', 'S210', 'S211', 'S212', 'S213', 'S214', 'S216', 'S217', 'S218', 'S219', 'S220', 'S221', 'S222', 'S223', 'S224', 'S225', 'S226', 'S228', 'S229', 'S230', 'S232', 'S233', 'S234', 'S235', 'S236', 'S237', 'S238', 'S239', 'S240', 'S241', 'S242', 'S243', 'S245', 'S246', 'S247', 'S248', 'S249', 'S250', 'S251', 'S253', 'S254', 'S256', 'S257', 'S258', 'S259', 'S260', 'S261', 'S262', 'S263', 'S264', 'S266', 'S267', 'S268', 'S269', 'S270', 'S271', 'S272', 'S273', 'S274', 'S275', 'S276', 'S277', 'S278', 'S279', 'S280', 'S281', 'S282', 'S283', 'S284', 'S285', 'S286', 'S287', 'S288', 'S289', 'S291', 'S293', 'S294', 'S295', 'S296', 'S297', 'S298', 'S299', 'S300', 'S301', 'S302', 'S304', 'S305', 'S306', 'S307', 'S308', 'S309', 'S310', 'S311', 'S312', 'S313', 'S314', 'S315', 'S316', 'S317', 'S318', 'S319', 'S320', 'S321', 'S324', 'S325', 'S326', 'S328', 'S329', 'S330', 'S331', 'S332', 'S333', 'S334', 'S335', 'S337', 'S338', 'S339', 'S340', 'S341', 'S342', 'S343', 'S344', 'S345', 'S346', 'S347', 'S348', 'S349', 'S350', 'S351', 'S352', 'S353', 'S354', 'S355', 'S356', 'S357', 'S358', 'S359', 'S360', 'S361', 'S362', 'S363', 'S365', 'S366', 'S367', 'S368', 'S369', 'S370', 'S371', 'S372', 'S374', 'S375', 'S376', 'S377']\n",
            "['S150'] ['S175'] ['S189'] ['S190'] ['S194'] ['S208'] ['S215'] ['S227'] ['S244'] ['S255'] ['S265'] ['S290'] ['S303'] ['S327'] ['S336'] ['S364'] ['S373'] "
          ]
        }
      ],
      "source": [
        "printer(kruskal(K01_kodu1))"
      ]
    },
    {
      "cell_type": "code",
      "execution_count": 11,
      "metadata": {},
      "outputs": [],
      "source": [
        "K02_kodu2 = pd.read_csv(\"matrices/K02_kodu2.csv\", index_col=\"idx\")"
      ]
    },
    {
      "cell_type": "code",
      "execution_count": 12,
      "metadata": {},
      "outputs": [
        {
          "name": "stdout",
          "output_type": "stream",
          "text": [
            "['S003', 'S352'] ['S004', 'S007', 'S010', 'S018', 'S032', 'S057', 'S061', 'S063', 'S068', 'S074', 'S079', 'S120', 'S135', 'S159', 'S164', 'S170', 'S174', 'S179', 'S207', 'S212', 'S237', 'S238', 'S239', 'S251', 'S257', 'S261', 'S271', 'S278', 'S279', 'S286', 'S287', 'S289', 'S297', 'S302', 'S309', 'S318', 'S325', 'S372', 'S373', 'S376']\n",
            "['S013', 'S036', 'S099'] ['S021', 'S304', 'S313'] ['S024', 'S030', 'S039', 'S040', 'S124', 'S167', 'S176', 'S186', 'S229', 'S254'] ['S025', 'S048', 'S121', 'S203', 'S208', 'S259', 'S293', 'S300', 'S328']\n",
            "['S029', 'S046', 'S236'] ['S041'] ['S043', 'S110'] ['S053', 'S064', 'S268'] ['S075'] ['S077', 'S094', 'S232'] ['S081', 'S085', 'S223'] ['S087', 'S092', 'S114', 'S123', 'S154', 'S168', 'S234', 'S262', 'S345']\n",
            "['S095'] ['S019', 'S038', 'S067', 'S100', 'S169', 'S260', 'S368'] ['S005', 'S017', 'S037', 'S044', 'S052', 'S060', 'S062', 'S065', 'S070', 'S080', 'S106', 'S117', 'S118', 'S137', 'S157', 'S163', 'S172', 'S199', 'S213', 'S218', 'S221', 'S240', 'S272', 'S277', 'S298', 'S312', 'S319', 'S324', 'S365', 'S375']\n",
            "['S128', 'S189'] ['S131'] ['S056', 'S133'] ['S093', 'S140', 'S166', 'S323'] ['S142', 'S143'] ['S026', 'S148', 'S215'] ['S027', 'S152'] ['S116', 'S155']\n",
            "['S160'] ['S138', 'S165'] ['S181'] ['S182'] ['S200', 'S210', 'S266'] ['S201', 'S265', 'S331'] ['S217'] ['S083', 'S136', 'S220', 'S275'] ['S011', 'S014', 'S022', 'S049', 'S071', 'S072', 'S088', 'S098', 'S111', 'S119', 'S141', 'S190', 'S193', 'S195', 'S198', 'S225', 'S250', 'S282', 'S294', 'S329', 'S333', 'S341', 'S342', 'S367', 'S377']\n",
            "['S230'] ['S231'] ['S001', 'S008', 'S009', 'S012', 'S015', 'S016', 'S020', 'S023', 'S028', 'S033', 'S034', 'S035', 'S051', 'S055', 'S066', 'S069', 'S078', 'S082', 'S084', 'S086', 'S089', 'S090', 'S091', 'S096', 'S097', 'S101', 'S102', 'S103', 'S105', 'S107', 'S108', 'S109', 'S112', 'S115', 'S122', 'S126', 'S127', 'S129', 'S132', 'S147', 'S151', 'S162', 'S173', 'S180', 'S183', 'S188', 'S191', 'S192', 'S194', 'S197', 'S202', 'S204', 'S206', 'S209', 'S216', 'S219', 'S224', 'S227', 'S228', 'S233', 'S241', 'S243', 'S244', 'S245', 'S248', 'S249', 'S253', 'S255', 'S256', 'S263', 'S267', 'S274', 'S276', 'S280', 'S283', 'S284', 'S285', 'S291', 'S295', 'S296', 'S303', 'S314', 'S315', 'S316', 'S317', 'S320', 'S326', 'S330', 'S334', 'S335', 'S337', 'S339', 'S343', 'S347', 'S350', 'S351', 'S353', 'S357', 'S363', 'S364', 'S366', 'S370', 'S374']\n",
            "['S246'] ['S252'] ['S178', 'S264'] ['S006', 'S153', 'S158', 'S177', 'S222', 'S235', 'S242', 'S247', 'S270', 'S356', 'S359'] ['S299'] ['S031', 'S042', 'S045', 'S144', 'S149', 'S171', 'S211', 'S258', 'S273', 'S301', 'S358']\n",
            "['S305'] ['S306'] ['S073', 'S130', 'S145', 'S156', 'S175', 'S214', 'S288', 'S290', 'S307', 'S340', 'S344', 'S346', 'S354'] ['S187', 'S308'] ['S310']\n",
            "['S311'] ['S205', 'S327'] ['S348'] ['S047', 'S050', 'S058', 'S125', 'S184', 'S349'] ['S355'] ['S362'] ['S371'] "
          ]
        },
        {
          "name": "stderr",
          "output_type": "stream",
          "text": [
            "c:\\Python310\\lib\\site-packages\\sklearn\\cluster\\_affinity_propagation.py:236: ConvergenceWarning: Affinity propagation did not converge, this model may return degenerate cluster centers and labels.\n",
            "  warnings.warn(\n"
          ]
        }
      ],
      "source": [
        "printer(affinity_Propagation(K02_kodu2))"
      ]
    },
    {
      "cell_type": "code",
      "execution_count": 13,
      "metadata": {},
      "outputs": [
        {
          "name": "stdout",
          "output_type": "stream",
          "text": [
            "['S015'] ['S001', 'S003', 'S004', 'S005', 'S006', 'S007', 'S008', 'S009', 'S010', 'S011', 'S012', 'S013', 'S014', 'S016', 'S017', 'S018', 'S019', 'S020', 'S021', 'S022', 'S023', 'S024', 'S025', 'S026', 'S027', 'S028', 'S029', 'S030', 'S031', 'S032', 'S033', 'S034', 'S035', 'S036', 'S037', 'S038', 'S039', 'S040', 'S041', 'S043', 'S045', 'S046', 'S048', 'S049', 'S050', 'S051', 'S052', 'S053', 'S055', 'S058', 'S060', 'S061', 'S062', 'S063', 'S064', 'S065', 'S066', 'S068', 'S069', 'S070', 'S071', 'S072', 'S073', 'S074', 'S075', 'S078', 'S079', 'S080', 'S081', 'S082', 'S083', 'S084', 'S086', 'S087', 'S088', 'S089', 'S090', 'S091', 'S092', 'S096', 'S097', 'S098', 'S099', 'S100', 'S103', 'S105', 'S106', 'S107', 'S108', 'S109', 'S110', 'S111', 'S112', 'S115', 'S116', 'S117', 'S118', 'S119', 'S120', 'S121', 'S122', 'S123', 'S124', 'S125', 'S126', 'S127', 'S128', 'S129', 'S130', 'S132', 'S135', 'S136', 'S138', 'S141', 'S144', 'S145', 'S148', 'S149', 'S151', 'S152', 'S153', 'S154', 'S155', 'S156', 'S157', 'S158', 'S162', 'S163', 'S164', 'S165', 'S167', 'S170', 'S171', 'S172', 'S173', 'S174', 'S175', 'S176', 'S177', 'S178', 'S179', 'S180', 'S182', 'S183', 'S186', 'S187', 'S188', 'S189', 'S190', 'S191', 'S192', 'S193', 'S194', 'S195', 'S197', 'S198', 'S199', 'S200', 'S201', 'S202', 'S204', 'S205', 'S206', 'S207', 'S208', 'S209', 'S210', 'S211', 'S212', 'S213', 'S215', 'S216', 'S217', 'S218', 'S219', 'S220', 'S221', 'S222', 'S223', 'S224', 'S225', 'S227', 'S228', 'S229', 'S230', 'S233', 'S234', 'S235', 'S236', 'S237', 'S238', 'S241', 'S243', 'S244', 'S245', 'S246', 'S247', 'S249', 'S250', 'S251', 'S252', 'S253', 'S254', 'S255', 'S257', 'S258', 'S259', 'S260', 'S261', 'S263', 'S264', 'S265', 'S266', 'S267', 'S268', 'S270', 'S271', 'S272', 'S273', 'S274', 'S275', 'S276', 'S277', 'S279', 'S280', 'S282', 'S283', 'S284', 'S286', 'S287', 'S288', 'S289', 'S290', 'S291', 'S293', 'S294', 'S295', 'S297', 'S298', 'S299', 'S300', 'S301', 'S302', 'S303', 'S304', 'S305', 'S307', 'S308', 'S309', 'S311', 'S312', 'S313', 'S314', 'S315', 'S316', 'S318', 'S319', 'S320', 'S324', 'S325', 'S326', 'S327', 'S328', 'S329', 'S330', 'S331', 'S333', 'S334', 'S335', 'S337', 'S339', 'S340', 'S341', 'S342', 'S343', 'S344', 'S345', 'S346', 'S347', 'S348', 'S349', 'S350', 'S351', 'S352', 'S353', 'S354', 'S357', 'S358', 'S359', 'S362', 'S363', 'S364', 'S365', 'S366', 'S367', 'S368', 'S370', 'S371', 'S372', 'S373', 'S374', 'S375', 'S376', 'S377']\n",
            "['S042'] ['S044'] ['S047'] ['S056', 'S133'] ['S057'] ['S067'] ['S077', 'S232', 'S094'] ['S085'] ['S093', 'S140', 'S323'] ['S095'] ['S101'] ['S102'] ['S114']\n",
            "['S131'] ['S137'] ['S142', 'S143'] ['S147'] ['S159'] ['S160'] ['S166'] ['S168'] ['S169'] ['S181'] ['S184'] ['S203'] ['S214'] ['S231'] ['S239', 'S242'] ['S240']\n",
            "['S248'] ['S256'] ['S262'] ['S278'] ['S285'] ['S296'] ['S306'] ['S310'] ['S317'] ['S355'] ['S356'] "
          ]
        }
      ],
      "source": [
        "printer(kruskal(K02_kodu2))"
      ]
    },
    {
      "cell_type": "code",
      "execution_count": 14,
      "metadata": {},
      "outputs": [],
      "source": [
        "K02_kodu3 = pd.read_csv(\"matrices/K02_kodu3.csv\", index_col=\"idx\")"
      ]
    },
    {
      "cell_type": "code",
      "execution_count": 15,
      "metadata": {},
      "outputs": [
        {
          "name": "stdout",
          "output_type": "stream",
          "text": [
            "['S012'] ['S014', 'S042', 'S050'] ['S001', 'S003', 'S005', 'S013', 'S015', 'S026', 'S030', 'S034', 'S043', 'S044', 'S049', 'S065', 'S079', 'S086', 'S089', 'S091', 'S099', 'S102', 'S106', 'S114', 'S136', 'S137', 'S155', 'S160', 'S164', 'S183', 'S184', 'S187', 'S190', 'S193', 'S195', 'S201', 'S220', 'S221', 'S222', 'S234', 'S244', 'S253', 'S256', 'S262', 'S263', 'S265', 'S284', 'S296', 'S328', 'S331', 'S333', 'S341', 'S349']\n",
            "['S016', 'S032', 'S062', 'S063', 'S088', 'S119', 'S120', 'S172', 'S217', 'S228', 'S236', 'S237', 'S251', 'S286', 'S299', 'S315', 'S329', 'S332', 'S363']\n",
            "['S033', 'S124', 'S170', 'S241', 'S326', 'S330'] ['S006', 'S017', 'S020', 'S021', 'S023', 'S024', 'S031', 'S035', 'S036', 'S037', 'S040', 'S051', 'S052', 'S056', 'S057', 'S058', 'S060', 'S064', 'S067', 'S068', 'S069', 'S071', 'S075', 'S080', 'S081', 'S083', 'S087', 'S092', 'S098', 'S101', 'S103', 'S105', 'S108', 'S109', 'S110', 'S115', 'S117', 'S121', 'S122', 'S123', 'S125', 'S133', 'S140', 'S141', 'S142', 'S143', 'S144', 'S147', 'S148', 'S149', 'S152', 'S154', 'S159', 'S163', 'S165', 'S166', 'S174', 'S182', 'S188', 'S202', 'S208', 'S209', 'S210', 'S219', 'S225', 'S229', 'S233', 'S240', 'S245', 'S246', 'S249', 'S252', 'S259', 'S260', 'S261', 'S266', 'S271', 'S273', 'S275', 'S276', 'S278', 'S285', 'S289', 'S290', 'S293', 'S298', 'S301', 'S302', 'S303', 'S305', 'S308', 'S312', 'S316', 'S317', 'S318', 'S320', 'S337', 'S339', 'S340', 'S344', 'S348', 'S350', 'S354', 'S358', 'S365', 'S367', 'S368', 'S373', 'S374', 'S375', 'S377']\n",
            "['S097'] ['S111'] ['S077', 'S094', 'S112', 'S186', 'S197', 'S203', 'S211', 'S232', 'S304'] ['S158'] ['S173'] ['S176'] ['S004', 'S008', 'S022', 'S025', 'S028', 'S029', 'S041', 'S045', 'S046', 'S047', 'S073', 'S074', 'S093', 'S100', 'S107', 'S131', 'S138', 'S145', 'S151', 'S153', 'S175', 'S177', 'S178', 'S179', 'S189', 'S198', 'S204', 'S212', 'S214', 'S215', 'S224', 'S235', 'S248', 'S250', 'S267', 'S277', 'S280', 'S283', 'S288', 'S306', 'S311', 'S314', 'S319', 'S323', 'S324', 'S335', 'S343', 'S345', 'S347', 'S353', 'S359', 'S362', 'S364', 'S366', 'S372']\n",
            "['S180'] ['S181'] ['S213'] ['S009', 'S010', 'S019', 'S038', 'S048', 'S055', 'S061', 'S072', 'S084', 'S090', 'S095', 'S116', 'S118', 'S126', 'S127', 'S128', 'S132', 'S135', 'S169', 'S194', 'S200', 'S206', 'S218', 'S238', 'S258', 'S270', 'S274', 'S279', 'S282', 'S291', 'S297', 'S334', 'S357', 'S370', 'S371']\n",
            "['S227'] ['S231'] ['S239', 'S355'] ['S096', 'S242'] ['S247'] ['S027', 'S053', 'S168', 'S243', 'S257', 'S300'] ['S294'] ['S007', 'S011', 'S039', 'S085', 'S129', 'S162', 'S205', 'S207', 'S216', 'S254', 'S272', 'S309', 'S313', 'S327', 'S376']\n",
            "['S310'] ['S082', 'S167', 'S171', 'S264', 'S325', 'S351'] ['S018', 'S066', 'S070', 'S078', 'S130', 'S156', 'S157', 'S191', 'S192', 'S199', 'S223', 'S230', 'S255', 'S268', 'S287', 'S295', 'S307', 'S342', 'S346']\n",
            "['S352'] ['S356'] "
          ]
        },
        {
          "name": "stderr",
          "output_type": "stream",
          "text": [
            "c:\\Python310\\lib\\site-packages\\sklearn\\cluster\\_affinity_propagation.py:236: ConvergenceWarning: Affinity propagation did not converge, this model may return degenerate cluster centers and labels.\n",
            "  warnings.warn(\n"
          ]
        }
      ],
      "source": [
        "printer(affinity_Propagation(K02_kodu3))"
      ]
    },
    {
      "cell_type": "code",
      "execution_count": 16,
      "metadata": {},
      "outputs": [
        {
          "name": "stdout",
          "output_type": "stream",
          "text": [
            "['S001', 'S003', 'S004', 'S005', 'S006', 'S007', 'S008', 'S009', 'S010', 'S011', 'S012', 'S013', 'S014', 'S015', 'S016', 'S017', 'S018', 'S019', 'S020', 'S021', 'S022', 'S023', 'S024', 'S025', 'S026', 'S027', 'S028', 'S029', 'S030', 'S031', 'S032', 'S033', 'S034', 'S035', 'S036', 'S037', 'S038', 'S039', 'S040', 'S041', 'S042', 'S043', 'S044', 'S045', 'S046', 'S047', 'S048', 'S049', 'S050', 'S051', 'S052', 'S053', 'S055', 'S056', 'S057', 'S058', 'S060', 'S061', 'S062', 'S063', 'S064', 'S065', 'S066', 'S067', 'S068', 'S069', 'S070', 'S071', 'S072', 'S073', 'S074', 'S075', 'S077', 'S078', 'S079', 'S080', 'S081', 'S082', 'S083', 'S084', 'S085', 'S086', 'S087', 'S088', 'S089', 'S090', 'S091', 'S092', 'S093', 'S094', 'S095', 'S096', 'S097', 'S098', 'S099', 'S100', 'S101', 'S102', 'S103', 'S105', 'S106', 'S107', 'S108', 'S109', 'S110', 'S111', 'S112', 'S114', 'S115', 'S116', 'S117', 'S118', 'S119', 'S120', 'S121', 'S122', 'S123', 'S124', 'S125', 'S126', 'S127', 'S128', 'S129', 'S130', 'S131', 'S132', 'S133', 'S135', 'S136', 'S137', 'S138', 'S140', 'S141', 'S142', 'S143', 'S144', 'S145', 'S147', 'S148', 'S149', 'S151', 'S152', 'S153', 'S154', 'S155', 'S156', 'S157', 'S158', 'S159', 'S160', 'S162', 'S163', 'S164', 'S165', 'S166', 'S167', 'S168', 'S169', 'S170', 'S171', 'S172', 'S174', 'S175', 'S176', 'S177', 'S178', 'S179', 'S180', 'S182', 'S183', 'S184', 'S186', 'S187', 'S188', 'S189', 'S190', 'S191', 'S192', 'S193', 'S194', 'S195', 'S197', 'S198', 'S199', 'S200', 'S201', 'S202', 'S203', 'S204', 'S205', 'S206', 'S207', 'S208', 'S209', 'S210', 'S211', 'S212', 'S213', 'S214', 'S215', 'S216', 'S217', 'S218', 'S219', 'S220', 'S221', 'S222', 'S223', 'S224', 'S225', 'S227', 'S228', 'S229', 'S230', 'S232', 'S233', 'S234', 'S235', 'S236', 'S237', 'S238', 'S239', 'S240', 'S241', 'S242', 'S243', 'S244', 'S245', 'S246', 'S247', 'S248', 'S249', 'S250', 'S251', 'S252', 'S253', 'S254', 'S255', 'S256', 'S257', 'S258', 'S259', 'S260', 'S261', 'S262', 'S263', 'S264', 'S265', 'S266', 'S267', 'S268', 'S270', 'S271', 'S272', 'S273', 'S274', 'S275', 'S276', 'S277', 'S278', 'S279', 'S280', 'S282', 'S283', 'S284', 'S285', 'S286', 'S287', 'S288', 'S289', 'S290', 'S291', 'S293', 'S295', 'S296', 'S297', 'S298', 'S299', 'S300', 'S301', 'S302', 'S303', 'S304', 'S305', 'S306', 'S307', 'S308', 'S309', 'S311', 'S312', 'S313', 'S314', 'S315', 'S316', 'S317', 'S318', 'S319', 'S320', 'S323', 'S324', 'S325', 'S326', 'S327', 'S328', 'S329', 'S330', 'S331', 'S332', 'S333', 'S334', 'S335', 'S337', 'S339', 'S340', 'S341', 'S342', 'S343', 'S344', 'S345', 'S346', 'S347', 'S348', 'S349', 'S350', 'S351', 'S352', 'S353', 'S354', 'S355', 'S356', 'S357', 'S358', 'S359', 'S362', 'S363', 'S364', 'S365', 'S366', 'S367', 'S368', 'S370', 'S371', 'S372', 'S373', 'S374', 'S375', 'S376', 'S377']\n",
            "['S173'] ['S181'] ['S231'] ['S294'] ['S310'] "
          ]
        }
      ],
      "source": [
        "printer(kruskal(K02_kodu3))"
      ]
    },
    {
      "cell_type": "code",
      "execution_count": 17,
      "metadata": {},
      "outputs": [],
      "source": [
        "K02_kodu4 = pd.read_csv(\"matrices/K02_kodu4.csv\", index_col=\"idx\")"
      ]
    },
    {
      "cell_type": "code",
      "execution_count": 18,
      "metadata": {},
      "outputs": [
        {
          "name": "stdout",
          "output_type": "stream",
          "text": [
            "['S042'] ['S045'] ['S006', 'S018', 'S019', 'S023', 'S036', 'S043', 'S044', 'S064', 'S065', 'S066', 'S067', 'S096', 'S098', 'S120', 'S128', 'S131', 'S142', 'S144', 'S168', 'S191', 'S198', 'S204', 'S210', 'S215', 'S224', 'S289', 'S309', 'S371']\n",
            "['S005', 'S015', 'S072'] ['S007', 'S009', 'S020', 'S035', 'S079', 'S084', 'S093', 'S102', 'S135', 'S145', 'S148', 'S152', 'S162', 'S171', 'S172', 'S181', 'S182', 'S184', 'S189', 'S197', 'S218', 'S248', 'S258', 'S274', 'S283', 'S288', 'S306', 'S314', 'S315', 'S320', 'S346']\n",
            "['S008', 'S013', 'S014', 'S030', 'S034', 'S052', 'S053', 'S085', 'S090', 'S109', 'S110', 'S111', 'S114', 'S117', 'S119', 'S125', 'S129', 'S136', 'S138', 'S159', 'S175', 'S176', 'S186', 'S202', 'S205', 'S229', 'S237', 'S244', 'S249', 'S251', 'S262', 'S267', 'S270', 'S275', 'S285', 'S298', 'S302', 'S313', 'S324', 'S328', 'S334', 'S355', 'S356', 'S370', 'S373', 'S374', 'S375']\n",
            "['S143'] ['S194', 'S206', 'S303'] ['S012', 'S016', 'S025', 'S029', 'S039', 'S041', 'S048', 'S049', 'S058', 'S063', 'S075', 'S087', 'S088', 'S123', 'S124', 'S130', 'S140', 'S149', 'S174', 'S180', 'S187', 'S188', 'S190', 'S208', 'S217', 'S222', 'S225', 'S235', 'S239', 'S240', 'S257', 'S259', 'S291', 'S293', 'S295', 'S296', 'S333', 'S337', 'S339', 'S343', 'S345', 'S350', 'S354', 'S357', 'S365', 'S366']\n",
            "['S231'] ['S031', 'S046', 'S055', 'S056', 'S068', 'S081', 'S082', 'S108', 'S116', 'S132', 'S163', 'S166', 'S193', 'S209', 'S219', 'S227', 'S234', 'S238', 'S241', 'S278', 'S280', 'S308', 'S311', 'S323', 'S329', 'S348', 'S351', 'S368']\n",
            "['S037', 'S078', 'S103', 'S170', 'S200', 'S245', 'S253', 'S260', 'S266', 'S271', 'S341', 'S347', 'S364'] ['S252'] ['S255'] ['S004', 'S032', 'S047', 'S051', 'S060', 'S069', 'S070', 'S083', 'S086', 'S099', 'S107', 'S115', 'S156', 'S173', 'S177', 'S201', 'S221', 'S233', 'S242', 'S264', 'S265', 'S287', 'S316', 'S319', 'S325', 'S330', 'S332', 'S342', 'S344', 'S358', 'S362', 'S363', 'S372']\n",
            "['S024', 'S033', 'S071', 'S091', 'S094', 'S095', 'S101', 'S121', 'S137', 'S155', 'S157', 'S158', 'S169', 'S183', 'S223', 'S228', 'S232', 'S250', 'S256', 'S263', 'S272', 'S273', 'S282', 'S299', 'S318', 'S340', 'S349', 'S367']\n",
            "['S028', 'S062', 'S160', 'S212', 'S213', 'S216', 'S276', 'S326'] ['S001', 'S003', 'S011', 'S017', 'S026', 'S027', 'S038', 'S040', 'S050', 'S057', 'S074', 'S077', 'S080', 'S092', 'S097', 'S100', 'S105', 'S106', 'S118', 'S133', 'S147', 'S151', 'S178', 'S179', 'S192', 'S195', 'S220', 'S236', 'S243', 'S246', 'S247', 'S290', 'S317', 'S327', 'S331', 'S352', 'S376']\n",
            "['S294'] ['S073', 'S112', 'S141', 'S154', 'S167', 'S207', 'S230', 'S254', 'S261', 'S277', 'S286', 'S304'] ['S310'] ['S010', 'S021', 'S022', 'S061', 'S089', 'S122', 'S127', 'S153', 'S164', 'S165', 'S203', 'S211', 'S214', 'S279', 'S300', 'S305', 'S307', 'S312', 'S353', 'S359', 'S377']\n"
          ]
        }
      ],
      "source": [
        "printer(affinity_Propagation(K02_kodu4))"
      ]
    },
    {
      "cell_type": "code",
      "execution_count": 19,
      "metadata": {},
      "outputs": [
        {
          "name": "stdout",
          "output_type": "stream",
          "text": [
            "['S005'] ['S015'] ['S042'] ['S045'] ['S143'] ['S144'] ['S001', 'S003', 'S004', 'S006', 'S007', 'S008', 'S009', 'S010', 'S011', 'S012', 'S013', 'S014', 'S016', 'S017', 'S018', 'S019', 'S020', 'S021', 'S022', 'S023', 'S024', 'S025', 'S026', 'S027', 'S028', 'S029', 'S030', 'S031', 'S032', 'S033', 'S034', 'S035', 'S036', 'S037', 'S038', 'S039', 'S040', 'S041', 'S043', 'S044', 'S046', 'S047', 'S048', 'S049', 'S050', 'S051', 'S052', 'S053', 'S055', 'S056', 'S057', 'S058', 'S060', 'S061', 'S062', 'S063', 'S064', 'S065', 'S066', 'S067', 'S068', 'S069', 'S070', 'S071', 'S072', 'S073', 'S074', 'S075', 'S077', 'S078', 'S079', 'S080', 'S081', 'S082', 'S083', 'S084', 'S085', 'S086', 'S087', 'S088', 'S089', 'S090', 'S091', 'S092', 'S093', 'S094', 'S095', 'S096', 'S097', 'S098', 'S099', 'S100', 'S101', 'S102', 'S103', 'S105', 'S106', 'S107', 'S108', 'S109', 'S110', 'S111', 'S112', 'S114', 'S115', 'S116', 'S117', 'S118', 'S119', 'S120', 'S121', 'S122', 'S123', 'S124', 'S125', 'S127', 'S128', 'S129', 'S130', 'S131', 'S132', 'S133', 'S135', 'S136', 'S137', 'S138', 'S140', 'S141', 'S142', 'S145', 'S147', 'S148', 'S149', 'S151', 'S152', 'S153', 'S154', 'S155', 'S156', 'S157', 'S158', 'S159', 'S160', 'S162', 'S163', 'S164', 'S165', 'S166', 'S167', 'S169', 'S170', 'S171', 'S172', 'S174', 'S175', 'S176', 'S178', 'S179', 'S180', 'S181', 'S182', 'S183', 'S184', 'S186', 'S187', 'S188', 'S189', 'S190', 'S191', 'S192', 'S193', 'S194', 'S195', 'S197', 'S198', 'S200', 'S201', 'S202', 'S203', 'S205', 'S207', 'S208', 'S209', 'S210', 'S211', 'S213', 'S214', 'S215', 'S216', 'S217', 'S218', 'S219', 'S220', 'S221', 'S222', 'S223', 'S224', 'S225', 'S227', 'S228', 'S229', 'S230', 'S232', 'S233', 'S234', 'S235', 'S236', 'S237', 'S238', 'S239', 'S240', 'S241', 'S242', 'S243', 'S244', 'S245', 'S246', 'S247', 'S248', 'S249', 'S250', 'S251', 'S253', 'S254', 'S256', 'S257', 'S258', 'S259', 'S260', 'S261', 'S262', 'S263', 'S264', 'S265', 'S266', 'S267', 'S270', 'S271', 'S272', 'S273', 'S274', 'S275', 'S276', 'S277', 'S278', 'S279', 'S280', 'S282', 'S283', 'S285', 'S286', 'S287', 'S288', 'S289', 'S290', 'S291', 'S293', 'S295', 'S296', 'S298', 'S299', 'S300', 'S302', 'S304', 'S305', 'S306', 'S307', 'S308', 'S309', 'S311', 'S312', 'S313', 'S314', 'S315', 'S316', 'S318', 'S319', 'S320', 'S323', 'S324', 'S325', 'S326', 'S327', 'S328', 'S329', 'S330', 'S331', 'S332', 'S333', 'S334', 'S337', 'S339', 'S340', 'S341', 'S342', 'S343', 'S344', 'S345', 'S346', 'S347', 'S348', 'S349', 'S350', 'S351', 'S352', 'S353', 'S354', 'S355', 'S356', 'S357', 'S358', 'S359', 'S362', 'S363', 'S364', 'S365', 'S366', 'S367', 'S368', 'S370', 'S371', 'S372', 'S373', 'S374', 'S375', 'S376', 'S377']\n",
            "['S168'] ['S173'] ['S177'] ['S204'] ['S206'] ['S212'] ['S231'] ['S252'] ['S255'] ['S294'] ['S303'] ['S310'] ['S317'] "
          ]
        }
      ],
      "source": [
        "printer(kruskal(K02_kodu4))"
      ]
    },
    {
      "cell_type": "code",
      "execution_count": 20,
      "metadata": {},
      "outputs": [],
      "source": [
        "K03_kodu1 = pd.read_csv(\"matrices/K03_kodu1.csv\", index_col=\"idx\")"
      ]
    },
    {
      "cell_type": "code",
      "execution_count": 21,
      "metadata": {},
      "outputs": [
        {
          "name": "stdout",
          "output_type": "stream",
          "text": [
            "['S003', 'S019', 'S025', 'S078', 'S079', 'S095', 'S123', 'S132', 'S170', 'S176', 'S239', 'S243', 'S292', 'S330', 'S341'] ['S023', 'S048', 'S067', 'S107', 'S137', 'S164', 'S201', 'S224', 'S260', 'S373']\n",
            "['S081', 'S191', 'S301', 'S320', 'S328', 'S329'] ['S011', 'S087', 'S122', 'S219', 'S242'] ['S021', 'S034', 'S069', 'S103', 'S105', 'S140', 'S213', 'S318', 'S337']\n",
            "['S010', 'S014', 'S043', 'S121', 'S141', 'S190', 'S205', 'S313', 'S335', 'S372'] ['S084', 'S168', 'S370'] ['S007', 'S035', 'S093', 'S126', 'S145', 'S147', 'S177', 'S186', 'S202', 'S221', 'S256', 'S263', 'S289', 'S309', 'S347', 'S357']\n",
            "['S098', 'S130', 'S155', 'S211', 'S231', 'S251', 'S283', 'S286', 'S296', 'S297', 'S367'] ['S022', 'S073', 'S112', 'S124', 'S162', 'S196', 'S217', 'S376']\n",
            "['S001', 'S009', 'S016', 'S017', 'S018', 'S020', 'S027', 'S029', 'S030', 'S032', 'S036', 'S037', 'S038', 'S039', 'S040', 'S041', 'S045', 'S047', 'S050', 'S051', 'S053', 'S055', 'S056', 'S058', 'S060', 'S061', 'S063', 'S070', 'S071', 'S072', 'S082', 'S097', 'S099', 'S100', 'S101', 'S108', 'S110', 'S115', 'S116', 'S117', 'S118', 'S119', 'S120', 'S125', 'S127', 'S135', 'S138', 'S143', 'S144', 'S148', 'S153', 'S158', 'S160', 'S163', 'S165', 'S167', 'S169', 'S171', 'S172', 'S173', 'S174', 'S175', 'S179', 'S183', 'S184', 'S185', 'S187', 'S188', 'S189', 'S193', 'S194', 'S195', 'S197', 'S199', 'S204', 'S206', 'S207', 'S208', 'S209', 'S210', 'S212', 'S214', 'S218', 'S223', 'S225', 'S228', 'S229', 'S230', 'S234', 'S235', 'S240', 'S244', 'S246', 'S247', 'S248', 'S249', 'S250', 'S254', 'S257', 'S258', 'S259', 'S261', 'S262', 'S264', 'S266', 'S267', 'S268', 'S271', 'S272', 'S276', 'S279', 'S280', 'S282', 'S290', 'S291', 'S295', 'S298', 'S303', 'S304', 'S305', 'S307', 'S308', 'S310', 'S311', 'S315', 'S322', 'S323', 'S324', 'S325', 'S326', 'S327', 'S334', 'S339', 'S340', 'S342', 'S348', 'S349', 'S350', 'S352', 'S353', 'S355', 'S359', 'S360', 'S362', 'S363', 'S365', 'S374', 'S377']\n",
            "['S049', 'S065', 'S074', 'S085', 'S192', 'S226', 'S236', 'S293', 'S299'] ['S004', 'S064', 'S077', 'S080', 'S222', 'S233', 'S277', 'S300', 'S338', 'S344']\n",
            "['S024', 'S083', 'S086', 'S109', 'S238', 'S241', 'S312', 'S314', 'S333'] ['S002', 'S133', 'S149', 'S151', 'S178', 'S255', 'S269', 'S273', 'S358']\n",
            "['S114', 'S134', 'S152', 'S182', 'S220', 'S278', 'S316', 'S331', 'S346', 'S364'] ['S008', 'S012', 'S181', 'S343', 'S356'] ['S006', 'S026', 'S044', 'S046', 'S052', 'S088', 'S090', 'S102', 'S245', 'S275', 'S287', 'S345', 'S369']\n",
            "['S033', 'S091', 'S106', 'S113', 'S136', 'S139', 'S166', 'S180', 'S200', 'S203', 'S252', 'S274', 'S288', 'S317', 'S354', 'S371'] ['S013', 'S068', 'S075', 'S094', 'S096', 'S128', 'S216', 'S227', 'S232', 'S351', 'S375']\n"
          ]
        }
      ],
      "source": [
        "printer(affinity_Propagation(K03_kodu1))"
      ]
    },
    {
      "cell_type": "code",
      "execution_count": 22,
      "metadata": {},
      "outputs": [
        {
          "name": "stdout",
          "output_type": "stream",
          "text": [
            "['S006'] ['S009'] ['S010'] ['S292', 'S003', 'S079', 'S078', 'S011', 'S087', 'S019', 'S095', 'S239', 'S170', 'S242', 'S025', 'S243', 'S176', 'S330', 'S122', 'S123', 'S219']\n",
            "['S012', 'S356', 'S343', 'S008'] ['S001', 'S004', 'S013', 'S014', 'S016', 'S017', 'S018', 'S020', 'S027', 'S029', 'S030', 'S032', 'S033', 'S036', 'S037', 'S038', 'S039', 'S040', 'S041', 'S043', 'S044', 'S045', 'S046', 'S049', 'S050', 'S051', 'S053', 'S055', 'S056', 'S058', 'S060', 'S061', 'S063', 'S064', 'S065', 'S068', 'S071', 'S072', 'S074', 'S075', 'S080', 'S082', 'S084', 'S085', 'S088', 'S090', 'S091', 'S094', 'S096', 'S098', 'S099', 'S100', 'S101', 'S102', 'S106', 'S108', 'S110', 'S113', 'S114', 'S115', 'S116', 'S117', 'S118', 'S120', 'S121', 'S125', 'S127', 'S128', 'S130', 'S134', 'S138', 'S139', 'S141', 'S143', 'S148', 'S152', 'S153', 'S155', 'S158', 'S160', 'S165', 'S166', 'S168', 'S169', 'S171', 'S172', 'S174', 'S175', 'S179', 'S180', 'S182', 'S183', 'S184', 'S185', 'S187', 'S188', 'S189', 'S190', 'S192', 'S194', 'S195', 'S197', 'S199', 'S200', 'S203', 'S204', 'S205', 'S206', 'S207', 'S208', 'S209', 'S210', 'S211', 'S212', 'S216', 'S218', 'S220', 'S222', 'S223', 'S226', 'S227', 'S228', 'S229', 'S230', 'S232', 'S233', 'S234', 'S235', 'S240', 'S245', 'S246', 'S247', 'S248', 'S249', 'S250', 'S251', 'S252', 'S254', 'S257', 'S258', 'S259', 'S261', 'S262', 'S264', 'S266', 'S267', 'S268', 'S271', 'S272', 'S274', 'S276', 'S277', 'S278', 'S279', 'S280', 'S282', 'S283', 'S286', 'S287', 'S291', 'S295', 'S296', 'S297', 'S298', 'S299', 'S300', 'S303', 'S304', 'S305', 'S307', 'S308', 'S310', 'S311', 'S313', 'S315', 'S316', 'S317', 'S322', 'S323', 'S324', 'S325', 'S327', 'S331', 'S334', 'S335', 'S338', 'S340', 'S341', 'S342', 'S344', 'S345', 'S346', 'S348', 'S349', 'S351', 'S352', 'S353', 'S354', 'S355', 'S359', 'S360', 'S362', 'S363', 'S364', 'S365', 'S367', 'S369', 'S370', 'S371', 'S372', 'S374', 'S375']\n",
            "['S022'] ['S023', 'S137', 'S067', 'S164', 'S107', 'S201'] ['S026'] ['S318', 'S034'] ['S047'] ['S048'] ['S052'] ['S069'] ['S070'] ['S073'] ['S077', 'S293']\n",
            "['S241', 'S109', 'S083'] ['S086'] ['S097'] ['S112'] ['S119'] ['S124'] ['S221', 'S002', 'S149', 'S007', 'S093', 'S309', 'S177', 'S178', 'S035', 'S186', 'S263', 'S126', 'S269', 'S202', 'S273', 'S357', 'S145']\n",
            "['S132'] ['S133'] ['S135'] ['S136'] ['S140'] ['S144'] ['S147'] ['S151'] ['S162'] ['S163'] ['S167'] ['S173'] ['S181'] ['S328', 'S329', 'S103', 'S191', 'S081', 'S337', 'S213', 'S021', 'S312', 'S024', 'S320', 'S105']\n",
            "['S193'] ['S196'] ['S214'] ['S376', 'S217'] ['S224'] ['S225'] ['S231'] ['S236'] ['S238', 'S333'] ['S244'] ['S255'] ['S256'] ['S260'] ['S275'] ['S288'] ['S289']\n",
            "['S290'] ['S301'] ['S314'] ['S326'] ['S339'] ['S347'] ['S350'] ['S358'] ['S373'] ['S377'] "
          ]
        }
      ],
      "source": [
        "printer(kruskal(K03_kodu1))"
      ]
    },
    {
      "cell_type": "code",
      "execution_count": 23,
      "metadata": {},
      "outputs": [],
      "source": [
        "K03_kodu2 = pd.read_csv(\"matrices/K03_kodu2.csv\", index_col=\"idx\")"
      ]
    },
    {
      "cell_type": "code",
      "execution_count": 24,
      "metadata": {},
      "outputs": [
        {
          "name": "stdout",
          "output_type": "stream",
          "text": [
            "['S016'] ['S014', 'S019', 'S027', 'S034', 'S037', 'S038', 'S041', 'S044', 'S052', 'S053', 'S063', 'S067', 'S073', 'S077', 'S100', 'S116', 'S119', 'S120', 'S121', 'S125', 'S127', 'S128', 'S153', 'S163', 'S164', 'S165', 'S168', 'S174', 'S195', 'S197', 'S203', 'S219', 'S247', 'S248', 'S249', 'S257', 'S272', 'S277', 'S280', 'S286', 'S287', 'S293', 'S318', 'S325', 'S328', 'S330', 'S331', 'S333', 'S335', 'S342', 'S344', 'S367', 'S370', 'S373']\n",
            "['S011', 'S021', 'S026', 'S030', 'S051', 'S080', 'S099', 'S106', 'S112', 'S113', 'S130', 'S148', 'S155', 'S166', 'S177', 'S202', 'S208', 'S224', 'S233', 'S238', 'S243', 'S288', 'S299', 'S313', 'S377']\n",
            "['S002', 'S023', 'S045', 'S046', 'S049', 'S065', 'S070', 'S086', 'S093', 'S118', 'S169', 'S179', 'S212', 'S228', 'S266', 'S275', 'S311', 'S320', 'S322', 'S347', 'S351', 'S364']\n",
            "['S048', 'S255', 'S258', 'S271', 'S354'] ['S010', 'S036', 'S040', 'S050', 'S061', 'S079', 'S126', 'S171', 'S173', 'S182', 'S187', 'S191', 'S192', 'S207', 'S210', 'S211', 'S218', 'S220', 'S229', 'S230', 'S232', 'S241', 'S252', 'S259', 'S263', 'S279', 'S290', 'S298', 'S316', 'S323', 'S353', 'S356']\n",
            "['S020', 'S075', 'S085', 'S090', 'S091', 'S096', 'S117', 'S124', 'S132', 'S151', 'S167', 'S181', 'S193', 'S216', 'S244', 'S264', 'S278', 'S292', 'S296', 'S376']\n",
            "['S001', 'S009', 'S071', 'S115', 'S140', 'S178', 'S214', 'S262', 'S269', 'S276'] ['S007', 'S013', 'S032', 'S039', 'S047', 'S064', 'S068', 'S082', 'S139', 'S143', 'S183', 'S184', 'S200', 'S206', 'S239', 'S246', 'S274', 'S291', 'S305', 'S307', 'S310', 'S327', 'S337', 'S348', 'S358']\n",
            "['S003', 'S012', 'S025', 'S033', 'S043', 'S056', 'S074', 'S103', 'S105', 'S110', 'S134', 'S135', 'S185', 'S186', 'S189', 'S204', 'S205', 'S227', 'S240', 'S251', 'S282', 'S283', 'S289', 'S315', 'S317', 'S340', 'S346', 'S355', 'S365', 'S374']\n",
            "['S004', 'S018', 'S029', 'S069', 'S097', 'S123', 'S158', 'S194', 'S217', 'S221', 'S235', 'S242', 'S329', 'S339'] ['S060', 'S133', 'S209', 'S234', 'S245', 'S341', 'S360']\n",
            "['S055', 'S072', 'S108', 'S170', 'S254', 'S260', 'S300', 'S308', 'S372'] ['S261'] ['S035', 'S081', 'S101', 'S102', 'S109', 'S144', 'S149', 'S160', 'S188', 'S196', 'S199', 'S213', 'S222', 'S223', 'S231', 'S256', 'S303', 'S309', 'S345', 'S359', 'S362', 'S375']\n",
            "['S006', 'S017', 'S022', 'S024', 'S078', 'S083', 'S084', 'S088', 'S094', 'S095', 'S098', 'S104', 'S107', 'S136', 'S137', 'S138', 'S141', 'S145', 'S147', 'S162', 'S172', 'S176', 'S180', 'S190', 'S225', 'S250', 'S273', 'S295', 'S297', 'S304', 'S312', 'S314', 'S324', 'S326', 'S334', 'S343', 'S352', 'S357', 'S371']\n",
            "['S008', 'S087', 'S114', 'S122', 'S152', 'S201', 'S268', 'S338', 'S350', 'S363', 'S369'] "
          ]
        },
        {
          "name": "stderr",
          "output_type": "stream",
          "text": [
            "c:\\Python310\\lib\\site-packages\\sklearn\\cluster\\_affinity_propagation.py:236: ConvergenceWarning: Affinity propagation did not converge, this model may return degenerate cluster centers and labels.\n",
            "  warnings.warn(\n"
          ]
        }
      ],
      "source": [
        "printer(affinity_Propagation(K03_kodu2))"
      ]
    },
    {
      "cell_type": "code",
      "execution_count": 25,
      "metadata": {},
      "outputs": [
        {
          "name": "stdout",
          "output_type": "stream",
          "text": [
            "['S001', 'S002', 'S003', 'S004', 'S006', 'S007', 'S008', 'S010', 'S011', 'S012', 'S013', 'S014', 'S017', 'S018', 'S019', 'S020', 'S021', 'S022', 'S023', 'S024', 'S025', 'S026', 'S029', 'S030', 'S032', 'S033', 'S035', 'S036', 'S037', 'S038', 'S039', 'S040', 'S041', 'S043', 'S044', 'S045', 'S046', 'S047', 'S048', 'S049', 'S050', 'S051', 'S052', 'S053', 'S055', 'S056', 'S061', 'S063', 'S064', 'S065', 'S068', 'S069', 'S070', 'S072', 'S074', 'S075', 'S077', 'S078', 'S079', 'S080', 'S081', 'S082', 'S083', 'S084', 'S085', 'S086', 'S087', 'S088', 'S090', 'S091', 'S093', 'S094', 'S095', 'S096', 'S097', 'S098', 'S099', 'S100', 'S102', 'S103', 'S104', 'S105', 'S106', 'S107', 'S108', 'S109', 'S112', 'S113', 'S114', 'S115', 'S116', 'S117', 'S118', 'S119', 'S122', 'S123', 'S124', 'S126', 'S127', 'S130', 'S132', 'S134', 'S136', 'S137', 'S138', 'S139', 'S140', 'S141', 'S143', 'S145', 'S147', 'S148', 'S149', 'S151', 'S152', 'S153', 'S155', 'S158', 'S162', 'S164', 'S166', 'S167', 'S168', 'S169', 'S170', 'S171', 'S172', 'S173', 'S174', 'S176', 'S177', 'S178', 'S179', 'S180', 'S181', 'S182', 'S183', 'S184', 'S185', 'S186', 'S187', 'S189', 'S190', 'S191', 'S192', 'S193', 'S194', 'S200', 'S201', 'S202', 'S203', 'S204', 'S205', 'S206', 'S207', 'S208', 'S210', 'S211', 'S212', 'S216', 'S217', 'S218', 'S219', 'S220', 'S221', 'S224', 'S225', 'S227', 'S228', 'S229', 'S230', 'S231', 'S232', 'S233', 'S235', 'S238', 'S239', 'S240', 'S241', 'S242', 'S243', 'S244', 'S246', 'S247', 'S248', 'S249', 'S250', 'S251', 'S252', 'S254', 'S255', 'S257', 'S258', 'S259', 'S260', 'S263', 'S264', 'S266', 'S268', 'S269', 'S271', 'S273', 'S274', 'S275', 'S277', 'S278', 'S279', 'S282', 'S283', 'S286', 'S288', 'S289', 'S290', 'S291', 'S292', 'S293', 'S295', 'S296', 'S297', 'S298', 'S299', 'S300', 'S304', 'S305', 'S307', 'S308', 'S309', 'S311', 'S312', 'S313', 'S314', 'S315', 'S316', 'S317', 'S320', 'S322', 'S323', 'S324', 'S325', 'S326', 'S327', 'S329', 'S330', 'S331', 'S334', 'S335', 'S337', 'S338', 'S339', 'S340', 'S342', 'S343', 'S344', 'S345', 'S346', 'S347', 'S348', 'S350', 'S351', 'S352', 'S353', 'S354', 'S355', 'S356', 'S357', 'S358', 'S359', 'S362', 'S363', 'S364', 'S365', 'S367', 'S369', 'S371', 'S372', 'S374', 'S376', 'S377']\n",
            "['S009'] ['S016'] ['S027'] ['S034'] ['S060'] ['S067'] ['S071'] ['S073'] ['S101'] ['S110'] ['S120'] ['S121', 'S328'] ['S125'] ['S128'] ['S133'] ['S135'] ['S144']\n",
            "['S287', 'S160'] ['S163'] ['S165'] ['S188'] ['S195'] ['S196'] ['S197'] ['S199'] ['S245', 'S360', 'S209'] ['S213'] ['S214'] ['S222'] ['S223'] ['S234'] ['S256']\n",
            "['S261'] ['S262'] ['S272'] ['S276'] ['S280'] ['S303'] ['S310'] ['S318'] ['S333'] ['S341'] ['S370'] ['S373'] ['S375'] "
          ]
        }
      ],
      "source": [
        "printer(kruskal(K03_kodu2))"
      ]
    },
    {
      "cell_type": "code",
      "execution_count": 26,
      "metadata": {},
      "outputs": [],
      "source": [
        "K03_kodu3 = pd.read_csv(\"matrices/K03_kodu3.csv\", index_col=\"idx\")"
      ]
    },
    {
      "cell_type": "code",
      "execution_count": 27,
      "metadata": {},
      "outputs": [
        {
          "name": "stdout",
          "output_type": "stream",
          "text": [
            "['S001', 'S002', 'S003', 'S004', 'S007', 'S008', 'S009', 'S010', 'S011', 'S013', 'S016', 'S017', 'S018', 'S019', 'S020', 'S021', 'S023', 'S027', 'S030', 'S032', 'S033', 'S035', 'S036', 'S037', 'S040', 'S044', 'S045', 'S046', 'S048', 'S049', 'S050', 'S051', 'S053', 'S055', 'S056', 'S060', 'S061', 'S064', 'S065', 'S067', 'S068', 'S071', 'S072', 'S073', 'S074', 'S075', 'S078', 'S079', 'S080', 'S081', 'S082', 'S083', 'S085', 'S086', 'S087', 'S090', 'S091', 'S094', 'S097', 'S098', 'S099', 'S101', 'S102', 'S103', 'S106', 'S107', 'S108', 'S109', 'S110', 'S112', 'S113', 'S114', 'S115', 'S118', 'S119', 'S120', 'S121', 'S122', 'S123', 'S124', 'S125', 'S126', 'S127', 'S130', 'S133', 'S134', 'S135', 'S137', 'S138', 'S139', 'S141', 'S143', 'S144', 'S145', 'S147', 'S148', 'S151', 'S152', 'S153', 'S158', 'S160', 'S163', 'S164', 'S165', 'S167', 'S169', 'S171', 'S172', 'S174', 'S176', 'S177', 'S178', 'S180', 'S181', 'S182', 'S183', 'S184', 'S186', 'S187', 'S188', 'S191', 'S192', 'S193', 'S194', 'S195', 'S196', 'S197', 'S200', 'S201', 'S202', 'S203', 'S204', 'S206', 'S207', 'S208', 'S209', 'S211', 'S212', 'S213', 'S214', 'S216', 'S218', 'S219', 'S220', 'S221', 'S222', 'S224', 'S225', 'S226', 'S227', 'S229', 'S230', 'S232', 'S233', 'S235', 'S238', 'S239', 'S241', 'S242', 'S243', 'S244', 'S245', 'S246', 'S247', 'S248', 'S249', 'S250', 'S251', 'S252', 'S255', 'S257', 'S258', 'S259', 'S260', 'S261', 'S263', 'S264', 'S266', 'S267', 'S269', 'S272', 'S273', 'S274', 'S275', 'S279', 'S280', 'S282', 'S283', 'S288', 'S289', 'S291', 'S292', 'S293', 'S295', 'S296', 'S298', 'S299', 'S300', 'S301', 'S303', 'S304', 'S307', 'S308', 'S309', 'S310', 'S311', 'S312', 'S313', 'S315', 'S316', 'S317', 'S318', 'S320', 'S322', 'S323', 'S324', 'S325', 'S326', 'S327', 'S328', 'S329', 'S330', 'S331', 'S333', 'S334', 'S337', 'S338', 'S340', 'S342', 'S343', 'S344', 'S345', 'S346', 'S347', 'S349', 'S351', 'S352', 'S353', 'S356', 'S357', 'S359', 'S360', 'S362', 'S363', 'S364', 'S365', 'S367', 'S370', 'S371', 'S372', 'S373', 'S374', 'S375', 'S376', 'S377']\n",
            "['S047'] ['S006', 'S014', 'S052', 'S063', 'S095', 'S132', 'S140', 'S179', 'S189', 'S240', 'S254', 'S262', 'S271', 'S276', 'S314', 'S335', 'S348']\n",
            "['S217'] ['S012', 'S026', 'S038', 'S039', 'S070', 'S077', 'S093', 'S100', 'S105', 'S128', 'S149', 'S155', 'S162', 'S170', 'S173', 'S190', 'S210', 'S223', 'S297', 'S305', 'S339', 'S341', 'S350', 'S355', 'S358']\n",
            "['S256'] ['S290'] ['S354'] ['S022', 'S025', 'S034', 'S043', 'S069', 'S084', 'S088', 'S096', 'S116', 'S117', 'S166', 'S168', 'S175', 'S205', 'S228', 'S234', 'S277', 'S278', 'S369']\n"
          ]
        }
      ],
      "source": [
        "printer(affinity_Propagation(K03_kodu3))"
      ]
    },
    {
      "cell_type": "code",
      "execution_count": 28,
      "metadata": {},
      "outputs": [
        {
          "name": "stdout",
          "output_type": "stream",
          "text": [
            "['S001', 'S002', 'S003', 'S004', 'S006', 'S007', 'S008', 'S009', 'S010', 'S011', 'S012', 'S013', 'S014', 'S016', 'S017', 'S018', 'S019', 'S020', 'S021', 'S022', 'S023', 'S026', 'S027', 'S030', 'S032', 'S033', 'S035', 'S036', 'S037', 'S038', 'S039', 'S040', 'S044', 'S045', 'S046', 'S048', 'S049', 'S050', 'S051', 'S052', 'S053', 'S055', 'S056', 'S060', 'S061', 'S063', 'S064', 'S065', 'S067', 'S068', 'S070', 'S071', 'S072', 'S073', 'S074', 'S075', 'S077', 'S078', 'S079', 'S080', 'S081', 'S082', 'S083', 'S085', 'S087', 'S090', 'S091', 'S093', 'S094', 'S097', 'S098', 'S099', 'S100', 'S101', 'S102', 'S103', 'S105', 'S106', 'S107', 'S108', 'S109', 'S110', 'S112', 'S113', 'S114', 'S115', 'S118', 'S119', 'S120', 'S121', 'S122', 'S123', 'S124', 'S125', 'S126', 'S127', 'S128', 'S130', 'S133', 'S134', 'S135', 'S137', 'S138', 'S139', 'S140', 'S141', 'S143', 'S144', 'S145', 'S147', 'S148', 'S149', 'S151', 'S152', 'S153', 'S155', 'S158', 'S160', 'S162', 'S163', 'S164', 'S165', 'S167', 'S169', 'S170', 'S171', 'S172', 'S173', 'S174', 'S176', 'S177', 'S178', 'S179', 'S180', 'S181', 'S182', 'S183', 'S184', 'S186', 'S187', 'S188', 'S189', 'S190', 'S191', 'S192', 'S193', 'S194', 'S195', 'S196', 'S197', 'S200', 'S201', 'S202', 'S203', 'S204', 'S206', 'S207', 'S208', 'S209', 'S210', 'S211', 'S212', 'S213', 'S214', 'S216', 'S218', 'S219', 'S220', 'S221', 'S222', 'S223', 'S224', 'S225', 'S226', 'S227', 'S229', 'S230', 'S232', 'S233', 'S235', 'S238', 'S239', 'S240', 'S241', 'S242', 'S243', 'S244', 'S245', 'S246', 'S247', 'S248', 'S249', 'S250', 'S251', 'S252', 'S254', 'S255', 'S257', 'S258', 'S259', 'S260', 'S261', 'S262', 'S263', 'S264', 'S266', 'S267', 'S269', 'S271', 'S272', 'S273', 'S274', 'S275', 'S276', 'S279', 'S280', 'S282', 'S283', 'S288', 'S289', 'S291', 'S292', 'S293', 'S295', 'S296', 'S297', 'S298', 'S299', 'S300', 'S301', 'S303', 'S304', 'S305', 'S307', 'S308', 'S309', 'S310', 'S311', 'S312', 'S313', 'S314', 'S315', 'S316', 'S317', 'S318', 'S320', 'S322', 'S323', 'S324', 'S325', 'S326', 'S327', 'S328', 'S329', 'S330', 'S331', 'S333', 'S334', 'S335', 'S337', 'S338', 'S339', 'S340', 'S341', 'S342', 'S343', 'S344', 'S345', 'S346', 'S347', 'S348', 'S349', 'S350', 'S351', 'S352', 'S353', 'S355', 'S356', 'S357', 'S358', 'S359', 'S360', 'S362', 'S363', 'S364', 'S365', 'S367', 'S369', 'S370', 'S371', 'S372', 'S373', 'S374', 'S375', 'S376', 'S377']\n",
            "['S025'] ['S034'] ['S043'] ['S047'] ['S069', 'S166'] ['S084'] ['S086'] ['S088'] ['S095'] ['S096'] ['S116'] ['S117'] ['S132'] ['S168'] ['S175'] ['S205'] ['S217']\n",
            "['S228'] ['S234'] ['S256'] ['S277'] ['S278'] ['S290'] ['S354'] "
          ]
        }
      ],
      "source": [
        "printer(kruskal(K03_kodu3))"
      ]
    },
    {
      "cell_type": "code",
      "execution_count": 29,
      "metadata": {},
      "outputs": [],
      "source": [
        "K03_kodu4 = pd.read_csv(\"matrices/K03_kodu4.csv\", index_col=\"idx\")"
      ]
    },
    {
      "cell_type": "code",
      "execution_count": 30,
      "metadata": {},
      "outputs": [
        {
          "name": "stdout",
          "output_type": "stream",
          "text": [
            "['S008', 'S032', 'S046', 'S068', 'S081', 'S105', 'S145', 'S151', 'S166', 'S178', 'S189', 'S214', 'S228', 'S238', 'S342', 'S343', 'S374'] ['S022', 'S025', 'S060', 'S094', 'S110', 'S113', 'S180', 'S203', 'S242', 'S317', 'S376']\n",
            "['S010', 'S043', 'S051', 'S052', 'S082', 'S117', 'S139', 'S199', 'S213', 'S216', 'S244', 'S315', 'S344', 'S345', 'S352', 'S363'] ['S072', 'S084', 'S144', 'S206', 'S212', 'S303', 'S309', 'S357', 'S364']\n",
            "['S002', 'S045', 'S077', 'S090', 'S100', 'S171', 'S187', 'S210', 'S227', 'S233', 'S234', 'S240', 'S260', 'S282', 'S283', 'S289', 'S314', 'S322', 'S327', 'S338', 'S347', 'S358']\n",
            "['S004', 'S013', 'S023', 'S083', 'S168', 'S239', 'S241', 'S256', 'S269', 'S330'] ['S001', 'S003', 'S006', 'S007', 'S009', 'S011', 'S012', 'S014', 'S016', 'S017', 'S020', 'S026', 'S030', 'S033', 'S035', 'S036', 'S037', 'S038', 'S039', 'S040', 'S044', 'S047', 'S048', 'S049', 'S050', 'S053', 'S055', 'S056', 'S061', 'S063', 'S064', 'S067', 'S069', 'S070', 'S071', 'S073', 'S075', 'S078', 'S079', 'S080', 'S085', 'S086', 'S088', 'S091', 'S093', 'S095', 'S096', 'S098', 'S099', 'S101', 'S102', 'S106', 'S108', 'S109', 'S112', 'S114', 'S115', 'S116', 'S118', 'S119', 'S122', 'S123', 'S124', 'S125', 'S126', 'S128', 'S132', 'S133', 'S134', 'S135', 'S137', 'S140', 'S141', 'S147', 'S148', 'S149', 'S152', 'S153', 'S155', 'S158', 'S162', 'S163', 'S164', 'S165', 'S169', 'S170', 'S172', 'S173', 'S174', 'S175', 'S176', 'S177', 'S179', 'S181', 'S182', 'S183', 'S184', 'S186', 'S188', 'S191', 'S192', 'S193', 'S195', 'S197', 'S200', 'S202', 'S204', 'S205', 'S207', 'S208', 'S211', 'S218', 'S219', 'S220', 'S221', 'S222', 'S223', 'S230', 'S235', 'S243', 'S245', 'S246', 'S247', 'S248', 'S250', 'S251', 'S252', 'S254', 'S257', 'S258', 'S259', 'S261', 'S262', 'S263', 'S271', 'S272', 'S273', 'S274', 'S275', 'S277', 'S278', 'S280', 'S288', 'S291', 'S292', 'S293', 'S296', 'S298', 'S299', 'S301', 'S304', 'S305', 'S307', 'S308', 'S310', 'S311', 'S312', 'S316', 'S318', 'S320', 'S323', 'S324', 'S325', 'S326', 'S328', 'S329', 'S331', 'S333', 'S334', 'S335', 'S337', 'S339', 'S340', 'S348', 'S349', 'S350', 'S351', 'S354', 'S355', 'S356', 'S362', 'S365', 'S370', 'S373', 'S375']\n",
            "['S021', 'S027', 'S034', 'S065', 'S097', 'S103', 'S107', 'S130', 'S167', 'S190', 'S225', 'S232', 'S249', 'S266', 'S276', 'S279', 'S295', 'S297', 'S300', 'S313', 'S346', 'S353', 'S359', 'S369', 'S371', 'S372', 'S377']\n",
            "['S138'] ['S120', 'S143', 'S255'] ['S217'] ['S018', 'S121', 'S127', 'S194', 'S360'] "
          ]
        }
      ],
      "source": [
        "printer(affinity_Propagation(K03_kodu4))"
      ]
    },
    {
      "cell_type": "code",
      "execution_count": 31,
      "metadata": {},
      "outputs": [
        {
          "name": "stdout",
          "output_type": "stream",
          "text": [
            "['S018'] ['S043'] ['S121'] ['S001', 'S002', 'S003', 'S004', 'S006', 'S007', 'S008', 'S009', 'S010', 'S011', 'S012', 'S013', 'S014', 'S016', 'S017', 'S020', 'S021', 'S022', 'S023', 'S025', 'S026', 'S027', 'S030', 'S032', 'S033', 'S034', 'S035', 'S036', 'S037', 'S038', 'S039', 'S040', 'S044', 'S045', 'S046', 'S047', 'S048', 'S049', 'S050', 'S051', 'S052', 'S053', 'S055', 'S056', 'S060', 'S061', 'S063', 'S064', 'S065', 'S067', 'S068', 'S069', 'S070', 'S071', 'S072', 'S073', 'S075', 'S077', 'S078', 'S079', 'S080', 'S081', 'S082', 'S083', 'S084', 'S085', 'S086', 'S088', 'S090', 'S091', 'S093', 'S094', 'S095', 'S096', 'S097', 'S098', 'S099', 'S100', 'S101', 'S102', 'S103', 'S105', 'S106', 'S107', 'S108', 'S109', 'S110', 'S112', 'S113', 'S114', 'S115', 'S116', 'S117', 'S118', 'S119', 'S120', 'S122', 'S123', 'S124', 'S125', 'S126', 'S128', 'S130', 'S132', 'S133', 'S134', 'S135', 'S137', 'S139', 'S140', 'S141', 'S143', 'S144', 'S145', 'S147', 'S148', 'S149', 'S151', 'S152', 'S153', 'S155', 'S158', 'S162', 'S163', 'S164', 'S165', 'S166', 'S167', 'S168', 'S169', 'S170', 'S171', 'S172', 'S173', 'S174', 'S175', 'S176', 'S177', 'S178', 'S179', 'S180', 'S181', 'S182', 'S183', 'S184', 'S186', 'S187', 'S188', 'S189', 'S190', 'S191', 'S192', 'S193', 'S195', 'S197', 'S199', 'S200', 'S202', 'S203', 'S204', 'S205', 'S206', 'S207', 'S208', 'S210', 'S211', 'S212', 'S213', 'S214', 'S216', 'S218', 'S219', 'S220', 'S221', 'S222', 'S223', 'S225', 'S227', 'S228', 'S230', 'S232', 'S233', 'S234', 'S235', 'S238', 'S239', 'S240', 'S241', 'S242', 'S243', 'S244', 'S245', 'S246', 'S247', 'S248', 'S249', 'S250', 'S251', 'S252', 'S254', 'S255', 'S256', 'S257', 'S258', 'S259', 'S260', 'S261', 'S262', 'S263', 'S266', 'S269', 'S271', 'S272', 'S273', 'S274', 'S275', 'S276', 'S277', 'S278', 'S279', 'S280', 'S282', 'S283', 'S288', 'S289', 'S291', 'S292', 'S293', 'S295', 'S296', 'S297', 'S298', 'S299', 'S300', 'S301', 'S303', 'S304', 'S305', 'S307', 'S308', 'S309', 'S310', 'S311', 'S312', 'S313', 'S314', 'S315', 'S316', 'S317', 'S318', 'S320', 'S322', 'S323', 'S324', 'S325', 'S326', 'S327', 'S328', 'S329', 'S330', 'S331', 'S333', 'S334', 'S335', 'S337', 'S338', 'S339', 'S340', 'S342', 'S343', 'S344', 'S345', 'S346', 'S347', 'S348', 'S349', 'S350', 'S351', 'S352', 'S353', 'S354', 'S355', 'S356', 'S357', 'S358', 'S359', 'S362', 'S363', 'S364', 'S365', 'S369', 'S370', 'S371', 'S372', 'S373', 'S374', 'S375', 'S376', 'S377']\n",
            "['S127'] ['S138'] ['S194'] ['S217'] ['S360'] "
          ]
        }
      ],
      "source": [
        "printer(kruskal(K03_kodu4))"
      ]
    },
    {
      "cell_type": "code",
      "execution_count": 32,
      "metadata": {},
      "outputs": [],
      "source": [
        "K04_kodu1 = pd.read_csv(\"matrices/K04_kodu1.csv\", index_col=\"idx\")"
      ]
    },
    {
      "cell_type": "code",
      "execution_count": 33,
      "metadata": {},
      "outputs": [
        {
          "name": "stdout",
          "output_type": "stream",
          "text": [
            "['S019', 'S032', 'S057', 'S071', 'S084', 'S092', 'S099', 'S124', 'S128', 'S147', 'S163', 'S178', 'S180', 'S181', 'S242', 'S266', 'S272', 'S305', 'S308', 'S334', 'S337']\n",
            "['S007', 'S043', 'S073', 'S090', 'S097', 'S119', 'S141', 'S169', 'S207', 'S218', 'S230', 'S243', 'S249', 'S251', 'S260', 'S273', 'S347', 'S365', 'S370', 'S373', 'S376']\n",
            "['S008', 'S046', 'S081', 'S111', 'S158', 'S162', 'S244', 'S293', 'S307', 'S309', 'S324', 'S328', 'S357'] ['S051', 'S100', 'S165', 'S166', 'S187', 'S257']\n",
            "['S063', 'S069', 'S126', 'S133', 'S153', 'S287', 'S317', 'S355'] ['S010', 'S036', 'S055', 'S060', 'S068', 'S072', 'S132', 'S175'] ['S035', 'S079', 'S082', 'S106']\n",
            "['S006', 'S013', 'S017', 'S034', 'S044', 'S047', 'S061', 'S083', 'S085', 'S103', 'S107', 'S108', 'S110', 'S112', 'S113', 'S115', 'S117', 'S118', 'S123', 'S125', 'S129', 'S137', 'S148', 'S151', 'S164', 'S177', 'S190', 'S192', 'S193', 'S194', 'S195', 'S204', 'S205', 'S206', 'S210', 'S214', 'S232', 'S234', 'S238', 'S239', 'S246', 'S263', 'S265', 'S278', 'S279', 'S283', 'S292', 'S315', 'S327', 'S339', 'S346', 'S350']\n",
            "['S088', 'S145'] ['S101', 'S105', 'S114', 'S212', 'S241', 'S271', 'S280', 'S325'] ['S070', 'S102', 'S191', 'S333', 'S353'] ['S002', 'S003', 'S004', 'S039', 'S050', 'S074', 'S077', 'S080', 'S093', 'S116', 'S140', 'S173', 'S183', 'S188', 'S196', 'S197', 'S222', 'S223', 'S226', 'S247', 'S248', 'S255', 'S262', 'S267', 'S277', 'S282', 'S288', 'S289', 'S300', 'S302', 'S313', 'S322']\n",
            "['S030', 'S040', 'S053', 'S094', 'S134', 'S161', 'S276', 'S301'] ['S033', 'S086', 'S087', 'S120', 'S130', 'S135', 'S143', 'S155', 'S224', 'S250', 'S269', 'S344', 'S372']\n",
            "['S138', 'S157', 'S377'] ['S160', 'S167', 'S172', 'S320'] ['S024', 'S037', 'S056', 'S168', 'S170', 'S203', 'S208', 'S211', 'S261', 'S286', 'S318', 'S329', 'S331', 'S343', 'S371']\n",
            "['S189'] ['S026', 'S227', 'S369'] ['S231'] ['S001', 'S018', 'S022', 'S025', 'S027', 'S075', 'S171', 'S184', 'S199', 'S216', 'S221', 'S225', 'S233', 'S259', 'S291', 'S303', 'S314', 'S345', 'S362']\n",
            "['S011', 'S038', 'S045', 'S122', 'S201', 'S202', 'S219', 'S220', 'S235', 'S240', 'S342', 'S351', 'S354', 'S356', 'S363', 'S364', 'S374'] ['S023', 'S049', 'S052', 'S065', 'S067', 'S104', 'S186', 'S245', 'S258', 'S323', 'S341', 'S358']\n",
            "['S009', 'S098', 'S127', 'S176', 'S182', 'S213', 'S228', 'S252', 'S253', 'S254', 'S274', 'S296', 'S310', 'S312'] ['S064', 'S091', 'S154', 'S236', 'S256', 'S297', 'S299']\n",
            "['S268'] ['S340', 'S349'] ['S021', 'S078', 'S095', 'S096', 'S149', 'S179', 'S200', 'S311', 'S316', 'S326', 'S330', 'S335', 'S348', 'S352'] "
          ]
        }
      ],
      "source": [
        "printer(affinity_Propagation(K04_kodu1))"
      ]
    },
    {
      "cell_type": "code",
      "execution_count": 34,
      "metadata": {},
      "outputs": [
        {
          "name": "stdout",
          "output_type": "stream",
          "text": [
            "['S007'] ['S008'] ['S010'] ['S013'] ['S019'] ['S025'] ['S026'] ['S030'] ['S033'] ['S034'] ['S035'] ['S036'] ['S037'] ['S038'] ['S040'] ['S044'] ['S045'] ['S047']\n",
            "['S052'] ['S055'] ['S057'] ['S060'] ['S063'] ['S064'] ['S065'] ['S067'] ['S068'] ['S069'] ['S070'] ['S312', 'S071'] ['S072'] ['S073'] ['S075'] ['S079'] ['S082']\n",
            "['S084'] ['S088'] ['S094'] ['S095'] ['S097'] ['S098'] ['S102'] ['S104'] ['S106'] ['S113'] ['S126'] ['S132'] ['S133'] ['S137'] ['S138'] ['S141'] ['S145'] ['S147']\n",
            "['S149'] ['S153'] ['S154'] ['S157'] ['S158'] ['S160', 'S320'] ['S161'] ['S163'] ['S167'] ['S168'] ['S172'] ['S175'] ['S187'] ['S189'] ['S190'] ['S191'] ['S195']\n",
            "['S199'] ['S201'] ['S203'] ['S211'] ['S212'] ['S213'] ['S219'] ['S222'] ['S225'] ['S227'] ['S230'] ['S231'] ['S234'] ['S001', 'S002', 'S003', 'S004', 'S006', 'S009', 'S011', 'S017', 'S018', 'S021', 'S022', 'S023', 'S024', 'S027', 'S032', 'S039', 'S046', 'S049', 'S050', 'S051', 'S053', 'S056', 'S061', 'S074', 'S077', 'S078', 'S080', 'S081', 'S083', 'S085', 'S086', 'S087', 'S091', 'S092', 'S093', 'S096', 'S099', 'S100', 'S101', 'S103', 'S105', 'S107', 'S108', 'S110', 'S111', 'S112', 'S114', 'S115', 'S116', 'S117', 'S118', 'S120', 'S122', 'S123', 'S124', 'S125', 'S127', 'S128', 'S129', 'S130', 'S134', 'S135', 'S140', 'S143', 'S148', 'S151', 'S155', 'S162', 'S164', 'S165', 'S166', 'S170', 'S171', 'S173', 'S176', 'S177', 'S178', 'S179', 'S180', 'S181', 'S182', 'S183', 'S184', 'S186', 'S188', 'S192', 'S193', 'S194', 'S196', 'S197', 'S200', 'S202', 'S204', 'S205', 'S206', 'S208', 'S210', 'S214', 'S216', 'S220', 'S221', 'S223', 'S224', 'S226', 'S228', 'S232', 'S233', 'S235', 'S236', 'S238', 'S239', 'S240', 'S242', 'S244', 'S245', 'S246', 'S247', 'S254', 'S255', 'S256', 'S257', 'S258', 'S262', 'S263', 'S265', 'S266', 'S267', 'S269', 'S271', 'S274', 'S276', 'S278', 'S279', 'S282', 'S283', 'S288', 'S289', 'S291', 'S292', 'S293', 'S297', 'S300', 'S302', 'S303', 'S305', 'S307', 'S308', 'S311', 'S313', 'S315', 'S316', 'S318', 'S322', 'S324', 'S326', 'S327', 'S328', 'S335', 'S337', 'S339', 'S344', 'S345', 'S346', 'S348', 'S350', 'S351', 'S352', 'S362', 'S371', 'S372', 'S374']\n",
            "['S241'] ['S243'] ['S248'] ['S249'] ['S250'] ['S252'] ['S253'] ['S259'] ['S261'] ['S268'] ['S272'] ['S277'] ['S280'] ['S286'] ['S287'] ['S296'] ['S299'] ['S301']\n",
            "['S309', 'S357'] ['S310'] ['S314'] ['S317'] ['S323'] ['S325'] ['S329'] ['S330'] ['S331'] ['S333'] ['S334'] ['S340'] ['S341'] ['S342'] ['S343'] ['S347', 'S119', 'S090', 'S273', 'S169', 'S207', 'S365', 'S370', 'S251', 'S218', 'S373', 'S376', 'S260', 'S043']\n",
            "['S349'] ['S353'] ['S354'] ['S355'] ['S356'] ['S358'] ['S363'] ['S364'] ['S369'] ['S377'] "
          ]
        }
      ],
      "source": [
        "printer(kruskal(K04_kodu1))"
      ]
    },
    {
      "cell_type": "code",
      "execution_count": 35,
      "metadata": {},
      "outputs": [],
      "source": [
        "K04_kodu2 = pd.read_csv(\"matrices/K04_kodu2.csv\", index_col=\"idx\")"
      ]
    },
    {
      "cell_type": "code",
      "execution_count": 36,
      "metadata": {},
      "outputs": [
        {
          "name": "stdout",
          "output_type": "stream",
          "text": [
            "['S003', 'S025', 'S043', 'S045', 'S050', 'S077', 'S135', 'S140', 'S166', 'S176', 'S188', 'S247', 'S267', 'S279', 'S344'] ['S009'] ['S017'] ['S001', 'S018', 'S022', 'S051', 'S053', 'S169', 'S172', 'S228', 'S238', 'S266', 'S328', 'S334', 'S374']\n",
            "['S023', 'S030', 'S065', 'S093', 'S105', 'S143', 'S161', 'S178', 'S236', 'S245', 'S259', 'S318', 'S329', 'S351'] ['S002', 'S036', 'S046', 'S048', 'S072', 'S086', 'S101', 'S112', 'S116', 'S117', 'S129', 'S141', 'S149', 'S173', 'S177', 'S179', 'S191', 'S197', 'S206', 'S211', 'S224', 'S239', 'S250', 'S269', 'S271', 'S272', 'S273', 'S296', 'S309', 'S311', 'S320', 'S340', 'S348', 'S352', 'S369', 'S371']\n",
            "['S037', 'S060', 'S082', 'S096', 'S163', 'S210', 'S227', 'S256', 'S258', 'S291', 'S335', 'S356'] ['S049'] ['S063'] ['S073'] ['S074', 'S083', 'S111', 'S190', 'S287', 'S317']\n",
            "['S084'] ['S024', 'S069', 'S085', 'S103', 'S107', 'S115', 'S148', 'S158', 'S162', 'S171', 'S180', 'S182', 'S195', 'S214', 'S230', 'S233', 'S241', 'S246', 'S288', 'S289', 'S299', 'S303', 'S307', 'S310', 'S326', 'S347', 'S349', 'S376']\n",
            "['S091'] ['S095'] ['S102'] ['S004', 'S034', 'S058', 'S087', 'S118', 'S123', 'S147', 'S208', 'S261', 'S297', 'S300', 'S365'] ['S021', 'S052', 'S070', 'S071', 'S092', 'S100', 'S108', 'S120', 'S126', 'S168', 'S189', 'S199', 'S203', 'S205', 'S218', 'S242', 'S243', 'S248', 'S251', 'S293', 'S304', 'S312', 'S322', 'S333', 'S343', 'S355', 'S362']\n",
            "['S013', 'S061', 'S088', 'S130'] ['S133'] ['S064', 'S068', 'S110', 'S113', 'S119', 'S124', 'S145', 'S151', 'S167', 'S170', 'S187', 'S194', 'S200', 'S202', 'S220', 'S225', 'S226', 'S249', 'S364']\n",
            "['S011', 'S019', 'S026', 'S035', 'S040', 'S056', 'S078', 'S106', 'S125', 'S201', 'S204', 'S207', 'S219', 'S231', 'S264'] ['S098', 'S122', 'S155', 'S193', 'S222', 'S235', 'S257']\n",
            "['S260'] ['S006', 'S007', 'S033', 'S047', 'S057', 'S067', 'S079', 'S099', 'S128', 'S132', 'S160', 'S165', 'S223', 'S234', 'S263', 'S278', 'S302', 'S324', 'S339', 'S341', 'S346', 'S357']\n",
            "['S080', 'S081', 'S137', 'S154', 'S175', 'S184', 'S212', 'S255', 'S274', 'S277', 'S305', 'S308', 'S314', 'S330', 'S331', 'S337'] ['S104', 'S232', 'S276', 'S280']\n",
            "['S313'] ['S325'] ['S327'] ['S350'] ['S032', 'S055', 'S196', 'S254', 'S262', 'S353', 'S358', 'S363', 'S370'] ['S008', 'S010', 'S038', 'S039', 'S075', 'S090', 'S094', 'S097', 'S114', 'S134', 'S138', 'S153', 'S164', 'S181', 'S183', 'S186', 'S192', 'S213', 'S216', 'S221', 'S240', 'S244', 'S252', 'S253', 'S275', 'S282', 'S283', 'S292', 'S301', 'S315', 'S316', 'S323', 'S342', 'S345', 'S372', 'S373', 'S377']\n"
          ]
        },
        {
          "name": "stderr",
          "output_type": "stream",
          "text": [
            "c:\\Python310\\lib\\site-packages\\sklearn\\cluster\\_affinity_propagation.py:236: ConvergenceWarning: Affinity propagation did not converge, this model may return degenerate cluster centers and labels.\n",
            "  warnings.warn(\n"
          ]
        }
      ],
      "source": [
        "printer(affinity_Propagation(K04_kodu2))"
      ]
    },
    {
      "cell_type": "code",
      "execution_count": 37,
      "metadata": {},
      "outputs": [
        {
          "name": "stdout",
          "output_type": "stream",
          "text": [
            "['S009'] ['S017'] ['S049'] ['S063'] ['S073'] ['S084'] ['S091'] ['S092'] ['S095'] ['S102'] ['S133'] ['S143'] ['S001', 'S002', 'S003', 'S004', 'S006', 'S007', 'S008', 'S010', 'S011', 'S013', 'S018', 'S019', 'S021', 'S022', 'S023', 'S024', 'S025', 'S026', 'S030', 'S032', 'S033', 'S034', 'S035', 'S036', 'S037', 'S038', 'S039', 'S040', 'S043', 'S045', 'S046', 'S047', 'S048', 'S050', 'S051', 'S052', 'S053', 'S055', 'S056', 'S057', 'S058', 'S060', 'S061', 'S064', 'S065', 'S067', 'S068', 'S069', 'S070', 'S071', 'S072', 'S074', 'S075', 'S077', 'S078', 'S079', 'S080', 'S081', 'S082', 'S083', 'S085', 'S086', 'S087', 'S088', 'S090', 'S093', 'S094', 'S096', 'S097', 'S098', 'S099', 'S100', 'S101', 'S103', 'S104', 'S105', 'S106', 'S107', 'S108', 'S110', 'S111', 'S112', 'S113', 'S114', 'S115', 'S116', 'S117', 'S118', 'S119', 'S120', 'S122', 'S123', 'S124', 'S125', 'S126', 'S128', 'S129', 'S130', 'S132', 'S134', 'S135', 'S137', 'S138', 'S140', 'S141', 'S145', 'S147', 'S148', 'S149', 'S151', 'S153', 'S154', 'S155', 'S158', 'S160', 'S161', 'S162', 'S163', 'S164', 'S165', 'S166', 'S167', 'S168', 'S169', 'S170', 'S171', 'S172', 'S173', 'S175', 'S176', 'S177', 'S178', 'S179', 'S180', 'S181', 'S182', 'S183', 'S184', 'S186', 'S187', 'S188', 'S189', 'S190', 'S191', 'S192', 'S193', 'S194', 'S195', 'S196', 'S197', 'S199', 'S200', 'S201', 'S202', 'S203', 'S204', 'S205', 'S206', 'S207', 'S208', 'S210', 'S211', 'S212', 'S213', 'S214', 'S216', 'S218', 'S219', 'S220', 'S221', 'S222', 'S223', 'S224', 'S225', 'S226', 'S227', 'S228', 'S230', 'S231', 'S232', 'S233', 'S234', 'S235', 'S236', 'S238', 'S239', 'S240', 'S241', 'S242', 'S243', 'S244', 'S245', 'S246', 'S247', 'S248', 'S249', 'S250', 'S251', 'S252', 'S253', 'S254', 'S255', 'S256', 'S257', 'S258', 'S259', 'S261', 'S262', 'S263', 'S264', 'S266', 'S267', 'S269', 'S271', 'S272', 'S273', 'S274', 'S275', 'S276', 'S277', 'S278', 'S279', 'S280', 'S282', 'S283', 'S287', 'S288', 'S289', 'S291', 'S292', 'S293', 'S296', 'S297', 'S299', 'S300', 'S301', 'S302', 'S303', 'S304', 'S305', 'S307', 'S308', 'S309', 'S310', 'S311', 'S312', 'S314', 'S315', 'S316', 'S317', 'S318', 'S320', 'S322', 'S323', 'S324', 'S326', 'S328', 'S329', 'S330', 'S331', 'S333', 'S334', 'S335', 'S337', 'S339', 'S340', 'S341', 'S342', 'S343', 'S344', 'S345', 'S346', 'S347', 'S348', 'S349', 'S351', 'S352', 'S353', 'S355', 'S356', 'S357', 'S358', 'S362', 'S363', 'S364', 'S365', 'S369', 'S370', 'S371', 'S372', 'S373', 'S374', 'S376', 'S377']\n",
            "['S260'] ['S313'] ['S325'] ['S327'] ['S350'] "
          ]
        }
      ],
      "source": [
        "printer(kruskal(K04_kodu2))"
      ]
    },
    {
      "cell_type": "code",
      "execution_count": 38,
      "metadata": {},
      "outputs": [],
      "source": [
        "K04_kodu3 = pd.read_csv(\"matrices/K04_kodu3.csv\", index_col=\"idx\")"
      ]
    },
    {
      "cell_type": "code",
      "execution_count": 39,
      "metadata": {},
      "outputs": [
        {
          "name": "stdout",
          "output_type": "stream",
          "text": [
            "['S104'] ['S046', 'S111', 'S129', 'S195', 'S210', 'S315', 'S364'] ['S138'] ['S002', 'S030', 'S036', 'S049', 'S064', 'S065', 'S068', 'S071', 'S086', 'S088', 'S095', 'S113', 'S128', 'S132', 'S145', 'S147', 'S162', 'S177', 'S213', 'S219', 'S220', 'S222', 'S223', 'S233', 'S234', 'S245', 'S255', 'S259', 'S260', 'S293', 'S357']\n",
            "['S009', 'S023', 'S026', 'S110', 'S112', 'S134', 'S168', 'S170', 'S188', 'S189', 'S202', 'S277', 'S289', 'S299', 'S344', 'S347'] ['S018', 'S022', 'S060', 'S061', 'S083', 'S085', 'S101', 'S105', 'S108', 'S126', 'S160', 'S161', 'S171', 'S190', 'S200', 'S201', 'S216', 'S244', 'S246', 'S267', 'S278', 'S288', 'S305', 'S318', 'S346', 'S349', 'S370', 'S373']\n",
            "['S001', 'S004', 'S007', 'S013', 'S021', 'S034', 'S037', 'S040', 'S043', 'S045', 'S050', 'S053', 'S057', 'S063', 'S067', 'S073', 'S079', 'S081', 'S096', 'S098', 'S100', 'S106', 'S114', 'S116', 'S117', 'S119', 'S120', 'S123', 'S133', 'S137', 'S143', 'S148', 'S151', 'S152', 'S155', 'S158', 'S163', 'S166', 'S173', 'S175', 'S178', 'S179', 'S180', 'S182', 'S183', 'S184', 'S191', 'S192', 'S197', 'S203', 'S214', 'S231', 'S238', 'S243', 'S249', 'S251', 'S252', 'S256', 'S258', 'S268', 'S271', 'S272', 'S274', 'S283', 'S287', 'S291', 'S297', 'S302', 'S311', 'S314', 'S317', 'S322', 'S324', 'S325', 'S337', 'S339', 'S345', 'S352', 'S353', 'S355', 'S363', 'S365', 'S369', 'S371', 'S372', 'S376', 'S377']\n",
            "['S019', 'S035', 'S164', 'S227', 'S261', 'S262', 'S276', 'S296', 'S304', 'S323', 'S328', 'S351', 'S362'] ['S003', 'S006', 'S008', 'S010', 'S024', 'S025', 'S033', 'S039', 'S047', 'S051', 'S056', 'S077', 'S078', 'S090', 'S092', 'S097', 'S099', 'S103', 'S107', 'S115', 'S122', 'S124', 'S125', 'S130', 'S135', 'S186', 'S194', 'S196', 'S204', 'S206', 'S212', 'S225', 'S228', 'S230', 'S232', 'S235', 'S239', 'S242', 'S247', 'S250', 'S254', 'S263', 'S264', 'S266', 'S273', 'S275', 'S279', 'S300', 'S301', 'S308', 'S316', 'S326', 'S330', 'S331', 'S333', 'S334', 'S335', 'S342', 'S356']\n",
            "['S058', 'S094', 'S176', 'S303'] ['S017', 'S052', 'S069', 'S075', 'S141', 'S153', 'S165', 'S172', 'S207', 'S208', 'S211', 'S241', 'S307', 'S312']\n",
            "['S313'] ['S032', 'S055', 'S070', 'S072', 'S082', 'S084', 'S091', 'S102', 'S118', 'S140', 'S149', 'S169', 'S187', 'S205', 'S248', 'S253', 'S257', 'S269', 'S280', 'S282', 'S309', 'S320', 'S327', 'S374']\n",
            "['S193', 'S329', 'S348'] ['S080', 'S154', 'S167', 'S181', 'S218', 'S292', 'S310', 'S340', 'S343'] ['S350'] "
          ]
        }
      ],
      "source": [
        "printer(affinity_Propagation(K04_kodu3))"
      ]
    },
    {
      "cell_type": "code",
      "execution_count": 40,
      "metadata": {},
      "outputs": [
        {
          "name": "stdout",
          "output_type": "stream",
          "text": [
            "['S001', 'S002', 'S003', 'S004', 'S006', 'S007', 'S008', 'S009', 'S010', 'S013', 'S017', 'S018', 'S019', 'S021', 'S022', 'S023', 'S024', 'S026', 'S030', 'S032', 'S033', 'S034', 'S035', 'S036', 'S037', 'S039', 'S040', 'S043', 'S045', 'S046', 'S047', 'S049', 'S050', 'S051', 'S052', 'S053', 'S055', 'S056', 'S057', 'S058', 'S060', 'S061', 'S063', 'S064', 'S067', 'S069', 'S070', 'S071', 'S072', 'S073', 'S075', 'S077', 'S078', 'S079', 'S080', 'S081', 'S082', 'S083', 'S084', 'S085', 'S086', 'S088', 'S090', 'S091', 'S092', 'S094', 'S095', 'S096', 'S097', 'S098', 'S099', 'S100', 'S101', 'S102', 'S103', 'S105', 'S106', 'S107', 'S108', 'S110', 'S111', 'S112', 'S113', 'S114', 'S115', 'S116', 'S117', 'S118', 'S119', 'S120', 'S122', 'S123', 'S124', 'S125', 'S126', 'S128', 'S129', 'S130', 'S132', 'S133', 'S134', 'S137', 'S140', 'S141', 'S143', 'S145', 'S147', 'S148', 'S149', 'S151', 'S152', 'S154', 'S155', 'S158', 'S160', 'S161', 'S162', 'S163', 'S164', 'S165', 'S166', 'S167', 'S168', 'S169', 'S170', 'S171', 'S172', 'S173', 'S175', 'S176', 'S177', 'S178', 'S179', 'S180', 'S181', 'S182', 'S183', 'S184', 'S186', 'S187', 'S188', 'S189', 'S190', 'S191', 'S192', 'S193', 'S194', 'S195', 'S196', 'S197', 'S200', 'S201', 'S202', 'S203', 'S204', 'S205', 'S206', 'S207', 'S208', 'S210', 'S211', 'S212', 'S213', 'S214', 'S216', 'S218', 'S219', 'S220', 'S222', 'S223', 'S225', 'S228', 'S230', 'S231', 'S232', 'S233', 'S234', 'S235', 'S238', 'S239', 'S241', 'S242', 'S243', 'S244', 'S245', 'S246', 'S247', 'S248', 'S249', 'S250', 'S251', 'S252', 'S253', 'S254', 'S255', 'S256', 'S257', 'S258', 'S260', 'S261', 'S262', 'S263', 'S264', 'S266', 'S267', 'S268', 'S269', 'S271', 'S272', 'S273', 'S274', 'S275', 'S277', 'S278', 'S279', 'S280', 'S282', 'S283', 'S287', 'S288', 'S289', 'S291', 'S292', 'S293', 'S296', 'S297', 'S299', 'S300', 'S301', 'S302', 'S303', 'S305', 'S307', 'S308', 'S309', 'S310', 'S311', 'S312', 'S314', 'S315', 'S316', 'S317', 'S318', 'S320', 'S322', 'S323', 'S324', 'S325', 'S326', 'S327', 'S328', 'S329', 'S330', 'S331', 'S333', 'S334', 'S335', 'S337', 'S339', 'S340', 'S342', 'S343', 'S344', 'S346', 'S347', 'S348', 'S349', 'S351', 'S352', 'S353', 'S355', 'S356', 'S357', 'S363', 'S364', 'S365', 'S370', 'S371', 'S372', 'S373', 'S374', 'S376', 'S377']\n",
            "['S025'] ['S065', 'S259'] ['S068'] ['S104'] ['S135'] ['S138'] ['S153'] ['S227'] ['S276'] ['S304'] ['S313'] ['S345'] ['S350'] ['S362'] ['S369'] "
          ]
        }
      ],
      "source": [
        "printer(kruskal(K04_kodu3))"
      ]
    },
    {
      "cell_type": "code",
      "execution_count": 41,
      "metadata": {},
      "outputs": [],
      "source": [
        "K05_kodu1 = pd.read_csv(\"matrices/K05_kodu1.csv\", index_col=\"idx\")"
      ]
    },
    {
      "cell_type": "code",
      "execution_count": 42,
      "metadata": {},
      "outputs": [
        {
          "name": "stdout",
          "output_type": "stream",
          "text": [
            "['S004', 'S052', 'S053', 'S068', 'S082', 'S103', 'S105', 'S110', 'S141', 'S144', 'S163', 'S164', 'S181', 'S204', 'S216', 'S249', 'S255', 'S272', 'S278', 'S286', 'S289', 'S299', 'S309', 'S312', 'S346', 'S350']\n",
            "['S018', 'S023', 'S046', 'S072', 'S085', 'S093', 'S095', 'S099', 'S139', 'S147', 'S154', 'S155', 'S168', 'S186', 'S191', 'S242', 'S243', 'S253', 'S258', 'S264', 'S279', 'S300', 'S303', 'S307', 'S322', 'S327', 'S340', 'S348', 'S352', 'S359', 'S374', 'S376']\n",
            "['S010', 'S027', 'S030', 'S037', 'S045', 'S074', 'S075', 'S081', 'S086', 'S113', 'S117', 'S133', 'S138', 'S149', 'S157', 'S160', 'S167', 'S179', 'S183', 'S184', 'S188', 'S190', 'S206', 'S227', 'S232', 'S245', 'S252', 'S271', 'S311', 'S313', 'S316', 'S323', 'S341', 'S354', 'S357', 'S362', 'S364']\n",
            "['S007', 'S012', 'S038', 'S088', 'S102', 'S125', 'S127', 'S140', 'S148', 'S165', 'S189', 'S196', 'S197', 'S233', 'S274', 'S304', 'S314', 'S325', 'S335', 'S355']\n",
            "['S008', 'S021', 'S025', 'S051', 'S060', 'S089', 'S116', 'S118', 'S137', 'S192', 'S210', 'S218', 'S221', 'S226', 'S330', 'S342', 'S356', 'S365']\n",
            "['S017', 'S073', 'S097', 'S112', 'S124', 'S130', 'S166', 'S172', 'S178', 'S194', 'S228', 'S234', 'S235', 'S247', 'S256', 'S257', 'S288', 'S329', 'S344', 'S347', 'S375', 'S377']\n",
            "['S056', 'S080', 'S087', 'S091', 'S100', 'S132', 'S174', 'S193', 'S214', 'S246', 'S292', 'S302', 'S328', 'S345'] ['S003', 'S006', 'S022', 'S035', 'S047', 'S069', 'S071', 'S107', 'S121', 'S129', 'S135', 'S207', 'S295', 'S349']\n",
            "['S002', 'S033', 'S040', 'S049', 'S092', 'S111', 'S115', 'S123', 'S126', 'S153', 'S182', 'S225', 'S250', 'S254', 'S260', 'S298', 'S333', 'S353', 'S358', 'S370']\n",
            "['S019', 'S032', 'S050', 'S061', 'S064', 'S101', 'S145', 'S170', 'S229', 'S262', 'S277', 'S351'] ['S039', 'S065', 'S104', 'S152', 'S158', 'S169', 'S209', 'S223', 'S238', 'S276', 'S296', 'S318', 'S320']\n",
            "['S024', 'S026', 'S063', 'S090', 'S134', 'S151', 'S161', 'S177', 'S208', 'S239', 'S275', 'S293', 'S301', 'S308', 'S315', 'S367', 'S369', 'S372']\n",
            "['S014', 'S067', 'S070', 'S119', 'S143', 'S176', 'S180', 'S326', 'S373'] ['S057', 'S083', 'S199', 'S281', 'S317'] ['S013', 'S044', 'S109', 'S195', 'S201', 'S202', 'S203', 'S219', 'S241', 'S266', 'S269']\n",
            "['S001', 'S077', 'S128', 'S205', 'S230', 'S261', 'S283', 'S310', 'S334', 'S363'] ['S048', 'S094', 'S106', 'S222', 'S259'] ['S055', 'S079', 'S248', 'S273', 'S305']\n",
            "['S098', 'S171', 'S173', 'S200', 'S212', 'S213', 'S251', 'S282', 'S287'] ['S114', 'S211', 'S263', 'S280', 'S291', 'S324', 'S331', 'S337', 'S339']\n",
            "['S084', 'S096', 'S108', 'S120', 'S162', 'S175', 'S244', 'S343'] ['S029', 'S034', 'S036', 'S041', 'S043', 'S078', 'S122', 'S220', 'S366', 'S371']\n"
          ]
        },
        {
          "name": "stderr",
          "output_type": "stream",
          "text": [
            "c:\\Python310\\lib\\site-packages\\sklearn\\cluster\\_affinity_propagation.py:236: ConvergenceWarning: Affinity propagation did not converge, this model may return degenerate cluster centers and labels.\n",
            "  warnings.warn(\n"
          ]
        }
      ],
      "source": [
        "printer(affinity_Propagation(K05_kodu1))"
      ]
    },
    {
      "cell_type": "code",
      "execution_count": 43,
      "metadata": {},
      "outputs": [
        {
          "name": "stdout",
          "output_type": "stream",
          "text": [
            "['S004'] ['S014'] ['S024'] ['S026'] ['S371', 'S034'] ['S036'] ['S037'] ['S045'] ['S001', 'S002', 'S003', 'S006', 'S007', 'S008', 'S010', 'S012', 'S013', 'S017', 'S018', 'S019', 'S021', 'S022', 'S023', 'S025', 'S027', 'S029', 'S030', 'S032', 'S033', 'S035', 'S038', 'S039', 'S040', 'S041', 'S043', 'S044', 'S046', 'S047', 'S048', 'S049', 'S050', 'S051', 'S052', 'S056', 'S057', 'S060', 'S061', 'S063', 'S064', 'S067', 'S069', 'S070', 'S071', 'S072', 'S074', 'S075', 'S077', 'S078', 'S081', 'S083', 'S085', 'S086', 'S088', 'S089', 'S091', 'S093', 'S096', 'S097', 'S099', 'S100', 'S102', 'S104', 'S105', 'S106', 'S107', 'S108', 'S109', 'S112', 'S113', 'S115', 'S116', 'S117', 'S118', 'S119', 'S121', 'S122', 'S123', 'S125', 'S126', 'S127', 'S128', 'S129', 'S130', 'S132', 'S133', 'S135', 'S139', 'S140', 'S141', 'S145', 'S147', 'S148', 'S149', 'S151', 'S152', 'S153', 'S154', 'S155', 'S158', 'S160', 'S163', 'S165', 'S167', 'S168', 'S169', 'S170', 'S172', 'S173', 'S174', 'S175', 'S176', 'S177', 'S178', 'S179', 'S180', 'S181', 'S182', 'S183', 'S188', 'S189', 'S190', 'S191', 'S192', 'S195', 'S196', 'S197', 'S199', 'S201', 'S202', 'S204', 'S205', 'S207', 'S209', 'S210', 'S211', 'S218', 'S219', 'S220', 'S221', 'S222', 'S223', 'S225', 'S226', 'S227', 'S228', 'S229', 'S230', 'S232', 'S233', 'S234', 'S235', 'S238', 'S241', 'S243', 'S244', 'S245', 'S247', 'S250', 'S252', 'S253', 'S254', 'S255', 'S256', 'S257', 'S258', 'S259', 'S260', 'S261', 'S262', 'S263', 'S264', 'S266', 'S269', 'S271', 'S272', 'S274', 'S277', 'S279', 'S280', 'S281', 'S282', 'S283', 'S288', 'S291', 'S292', 'S295', 'S298', 'S300', 'S304', 'S307', 'S309', 'S310', 'S311', 'S314', 'S316', 'S317', 'S318', 'S320', 'S322', 'S323', 'S324', 'S325', 'S326', 'S327', 'S329', 'S330', 'S331', 'S333', 'S334', 'S335', 'S337', 'S339', 'S340', 'S342', 'S343', 'S344', 'S345', 'S348', 'S349', 'S351', 'S352', 'S353', 'S354', 'S355', 'S356', 'S357', 'S358', 'S359', 'S363', 'S364', 'S365', 'S366', 'S370', 'S373', 'S374', 'S375', 'S376', 'S377']\n",
            "['S053'] ['S055'] ['S065'] ['S068'] ['S073'] ['S248', 'S305', 'S079'] ['S080'] ['S082'] ['S206', 'S084'] ['S087'] ['S092'] ['S094'] ['S095'] ['S098'] ['S101']\n",
            "['S103'] ['S111'] ['S114'] ['S120', 'S193'] ['S124'] ['S134'] ['S137'] ['S138'] ['S143'] ['S144'] ['S157'] ['S161'] ['S162'] ['S164'] ['S166'] ['S171'] ['S184']\n",
            "['S186'] ['S194'] ['S200'] ['S203'] ['S208'] ['S212'] ['S213'] ['S214'] ['S216'] ['S239'] ['S242'] ['S302', 'S246'] ['S249'] ['S251'] ['S273'] ['S275'] ['S296', 'S276']\n",
            "['S278', 'S289', 'S286', 'S090', 'S110'] ['S287'] ['S293'] ['S299'] ['S301'] ['S303'] ['S308'] ['S346', 'S312'] ['S313'] ['S315'] ['S328'] ['S341'] ['S347']\n",
            "['S350'] ['S362'] ['S367'] ['S369'] ['S372'] "
          ]
        }
      ],
      "source": [
        "printer(kruskal(K05_kodu1))"
      ]
    },
    {
      "cell_type": "code",
      "execution_count": 44,
      "metadata": {},
      "outputs": [],
      "source": [
        "K05_kodu2 = pd.read_csv(\"matrices/K05_kodu2.csv\", index_col=\"idx\")"
      ]
    },
    {
      "cell_type": "code",
      "execution_count": 45,
      "metadata": {},
      "outputs": [
        {
          "name": "stdout",
          "output_type": "stream",
          "text": [
            "['S011', 'S013', 'S014', 'S096', 'S114', 'S157', 'S162', 'S166', 'S190', 'S194', 'S254', 'S296', 'S298', 'S300'] ['S019', 'S374'] ['S048', 'S094', 'S104', 'S241', 'S295', 'S341', 'S350']\n",
            "['S004', 'S036', 'S067', 'S072', 'S092', 'S109', 'S117', 'S127', 'S161', 'S176', 'S222', 'S223', 'S250', 'S252', 'S276', 'S287', 'S302', 'S346', 'S356', 'S371']\n",
            "['S160'] ['S021', 'S065', 'S123', 'S164', 'S180', 'S184', 'S203', 'S209', 'S229', 'S260', 'S264', 'S274', 'S286', 'S311', 'S339', 'S340', 'S355']\n",
            "['S030', 'S049', 'S052', 'S074', 'S095', 'S106', 'S126', 'S153', 'S204', 'S245', 'S272', 'S304'] ['S050', 'S139', 'S247', 'S259', 'S280', 'S307']\n",
            "['S313'] ['S001', 'S002', 'S003', 'S007', 'S008', 'S009', 'S012', 'S017', 'S018', 'S022', 'S023', 'S024', 'S025', 'S027', 'S032', 'S034', 'S035', 'S037', 'S039', 'S044', 'S045', 'S046', 'S047', 'S053', 'S056', 'S060', 'S061', 'S063', 'S068', 'S069', 'S070', 'S071', 'S073', 'S075', 'S079', 'S080', 'S081', 'S083', 'S084', 'S085', 'S086', 'S087', 'S088', 'S090', 'S093', 'S097', 'S099', 'S100', 'S102', 'S103', 'S105', 'S107', 'S108', 'S111', 'S115', 'S116', 'S118', 'S119', 'S120', 'S122', 'S124', 'S128', 'S130', 'S132', 'S133', 'S134', 'S137', 'S138', 'S140', 'S141', 'S143', 'S144', 'S147', 'S148', 'S149', 'S151', 'S154', 'S155', 'S158', 'S163', 'S165', 'S168', 'S169', 'S171', 'S172', 'S173', 'S174', 'S179', 'S181', 'S182', 'S183', 'S186', 'S188', 'S189', 'S191', 'S192', 'S193', 'S197', 'S199', 'S200', 'S201', 'S205', 'S206', 'S207', 'S210', 'S211', 'S213', 'S214', 'S218', 'S219', 'S220', 'S224', 'S225', 'S227', 'S228', 'S230', 'S233', 'S234', 'S235', 'S238', 'S239', 'S242', 'S243', 'S244', 'S248', 'S249', 'S251', 'S255', 'S256', 'S257', 'S261', 'S262', 'S266', 'S269', 'S271', 'S273', 'S275', 'S277', 'S282', 'S283', 'S288', 'S289', 'S291', 'S292', 'S293', 'S299', 'S309', 'S310', 'S312', 'S314', 'S315', 'S316', 'S317', 'S320', 'S322', 'S323', 'S324', 'S326', 'S327', 'S328', 'S329', 'S331', 'S333', 'S334', 'S335', 'S337', 'S342', 'S343', 'S344', 'S348', 'S351', 'S353', 'S354', 'S357', 'S362', 'S363', 'S364', 'S370', 'S372', 'S373', 'S376', 'S377']\n",
            "['S006', 'S010', 'S033', 'S038', 'S040', 'S043', 'S051', 'S055', 'S077', 'S082', 'S089', 'S091', 'S101', 'S110', 'S112', 'S113', 'S121', 'S125', 'S129', 'S135', 'S145', 'S152', 'S167', 'S170', 'S177', 'S178', 'S196', 'S202', 'S208', 'S212', 'S216', 'S236', 'S246', 'S253', 'S258', 'S263', 'S278', 'S279', 'S303', 'S305', 'S308', 'S318', 'S325', 'S352', 'S365', 'S375']\n",
            "['S367'] ['S029', 'S041', 'S078', 'S175', 'S195', 'S232', 'S330', 'S345', 'S347', 'S358', 'S366', 'S369'] "
          ]
        }
      ],
      "source": [
        "printer(affinity_Propagation(K05_kodu2))"
      ]
    },
    {
      "cell_type": "code",
      "execution_count": 46,
      "metadata": {},
      "outputs": [
        {
          "name": "stdout",
          "output_type": "stream",
          "text": [
            "['S001', 'S002', 'S003', 'S004', 'S006', 'S007', 'S008', 'S009', 'S010', 'S011', 'S012', 'S013', 'S014', 'S017', 'S018', 'S019', 'S021', 'S022', 'S023', 'S024', 'S025', 'S027', 'S029', 'S030', 'S032', 'S033', 'S035', 'S036', 'S037', 'S038', 'S039', 'S040', 'S041', 'S043', 'S044', 'S045', 'S046', 'S047', 'S048', 'S049', 'S050', 'S051', 'S052', 'S053', 'S055', 'S056', 'S060', 'S061', 'S063', 'S065', 'S067', 'S068', 'S069', 'S070', 'S071', 'S072', 'S073', 'S074', 'S075', 'S077', 'S078', 'S079', 'S080', 'S081', 'S082', 'S083', 'S084', 'S085', 'S086', 'S087', 'S089', 'S090', 'S091', 'S092', 'S093', 'S094', 'S095', 'S096', 'S097', 'S099', 'S100', 'S101', 'S102', 'S103', 'S104', 'S105', 'S106', 'S107', 'S108', 'S109', 'S112', 'S113', 'S114', 'S116', 'S117', 'S118', 'S119', 'S120', 'S121', 'S122', 'S123', 'S124', 'S125', 'S126', 'S127', 'S128', 'S129', 'S130', 'S132', 'S133', 'S135', 'S137', 'S138', 'S139', 'S140', 'S141', 'S143', 'S144', 'S145', 'S147', 'S148', 'S149', 'S151', 'S152', 'S153', 'S154', 'S155', 'S157', 'S158', 'S161', 'S162', 'S163', 'S164', 'S165', 'S166', 'S167', 'S168', 'S169', 'S170', 'S171', 'S172', 'S173', 'S174', 'S175', 'S176', 'S177', 'S178', 'S179', 'S180', 'S181', 'S183', 'S184', 'S186', 'S188', 'S189', 'S190', 'S191', 'S192', 'S193', 'S194', 'S195', 'S197', 'S199', 'S200', 'S201', 'S202', 'S203', 'S205', 'S206', 'S207', 'S208', 'S209', 'S210', 'S211', 'S212', 'S213', 'S214', 'S218', 'S219', 'S220', 'S222', 'S223', 'S224', 'S225', 'S227', 'S228', 'S229', 'S230', 'S232', 'S233', 'S234', 'S235', 'S236', 'S238', 'S239', 'S241', 'S242', 'S243', 'S244', 'S245', 'S246', 'S247', 'S248', 'S249', 'S250', 'S251', 'S252', 'S253', 'S254', 'S255', 'S256', 'S257', 'S259', 'S260', 'S261', 'S262', 'S263', 'S264', 'S266', 'S269', 'S271', 'S272', 'S273', 'S274', 'S275', 'S276', 'S277', 'S278', 'S279', 'S280', 'S282', 'S283', 'S286', 'S287', 'S288', 'S289', 'S291', 'S292', 'S293', 'S295', 'S296', 'S299', 'S300', 'S302', 'S303', 'S304', 'S305', 'S307', 'S309', 'S310', 'S311', 'S312', 'S314', 'S315', 'S316', 'S317', 'S318', 'S320', 'S322', 'S323', 'S324', 'S325', 'S326', 'S327', 'S328', 'S329', 'S330', 'S331', 'S333', 'S334', 'S335', 'S337', 'S339', 'S340', 'S342', 'S343', 'S344', 'S345', 'S346', 'S347', 'S348', 'S350', 'S351', 'S352', 'S353', 'S354', 'S355', 'S356', 'S357', 'S358', 'S362', 'S363', 'S364', 'S365', 'S366', 'S369', 'S370', 'S371', 'S372', 'S373', 'S374', 'S375', 'S376', 'S377']\n",
            "['S034'] ['S088'] ['S110'] ['S111'] ['S115'] ['S134'] ['S160'] ['S182'] ['S196'] ['S204'] ['S216'] ['S258'] ['S298'] ['S308'] ['S313'] ['S341'] ['S367'] "
          ]
        }
      ],
      "source": [
        "printer(kruskal(K05_kodu2))"
      ]
    },
    {
      "cell_type": "code",
      "execution_count": 47,
      "metadata": {},
      "outputs": [],
      "source": [
        "K05_kodu3 = pd.read_csv(\"matrices/K05_kodu3.csv\", index_col=\"idx\")"
      ]
    },
    {
      "cell_type": "code",
      "execution_count": 48,
      "metadata": {},
      "outputs": [
        {
          "name": "stdout",
          "output_type": "stream",
          "text": [
            "['S002', 'S004', 'S045', 'S094', 'S120', 'S176', 'S220', 'S292', 'S364'] ['S014', 'S021', 'S024', 'S025', 'S036', 'S080', 'S119', 'S143', 'S168', 'S170', 'S182', 'S189', 'S236', 'S272', 'S293', 'S295', 'S296', 'S310', 'S362']\n",
            "['S022', 'S039', 'S040', 'S052', 'S057', 'S063', 'S067', 'S069', 'S082', 'S133', 'S141', 'S144', 'S145', 'S147', 'S205', 'S207', 'S210', 'S223', 'S234', 'S258', 'S259', 'S260', 'S273', 'S298', 'S354', 'S367']\n",
            "['S041'] ['S008', 'S013', 'S038', 'S043', 'S048', 'S049', 'S083', 'S095', 'S107', 'S111', 'S112', 'S116', 'S123', 'S125', 'S126', 'S128', 'S157', 'S158', 'S164', 'S171', 'S177', 'S178', 'S180', 'S184', 'S193', 'S201', 'S203', 'S204', 'S216', 'S218', 'S224', 'S225', 'S228', 'S229', 'S254', 'S256', 'S261', 'S264', 'S283', 'S287', 'S288', 'S304', 'S308', 'S311', 'S313', 'S329', 'S334', 'S355', 'S357', 'S373']\n",
            "['S065', 'S271', 'S371'] ['S087'] ['S061', 'S072', 'S092', 'S102', 'S208', 'S248'] ['S103', 'S109', 'S134', 'S139', 'S152', 'S199', 'S211', 'S222', 'S232', 'S307', 'S326', 'S369', 'S372']\n",
            "['S007', 'S030', 'S050', 'S078', 'S101', 'S108', 'S118', 'S130', 'S169', 'S188', 'S196', 'S244', 'S247', 'S251', 'S320', 'S349'] ['S017', 'S056', 'S060', 'S096', 'S105', 'S121', 'S149', 'S167', 'S238', 'S250', 'S252', 'S275', 'S277', 'S315', 'S340', 'S347']\n",
            "['S006', 'S027', 'S032', 'S035', 'S068', 'S073', 'S091', 'S097', 'S099', 'S106', 'S117', 'S160', 'S162', 'S206', 'S214', 'S219', 'S233', 'S279', 'S299', 'S322', 'S343', 'S353', 'S358', 'S363']\n",
            "['S001', 'S003', 'S047', 'S079', 'S129', 'S161', 'S175', 'S194', 'S239', 'S282'] ['S023', 'S034', 'S046', 'S081', 'S088', 'S140', 'S153', 'S155', 'S172', 'S174', 'S195', 'S202', 'S242', 'S266', 'S318', 'S328', 'S331', 'S337', 'S351', 'S377']\n",
            "['S011', 'S070', 'S093', 'S114', 'S132', 'S192', 'S253', 'S263', 'S269', 'S350'] ['S033', 'S084', 'S179', 'S191', 'S230', 'S235', 'S262', 'S276', 'S302']\n",
            "['S053', 'S055', 'S110', 'S124', 'S138', 'S190', 'S249', 'S274', 'S278', 'S342', 'S346', 'S356'] ['S089', 'S113', 'S317'] ['S012', 'S075', 'S085', 'S090', 'S115', 'S122', 'S127', 'S137', 'S226', 'S312', 'S324', 'S333', 'S359']\n",
            "['S339'] ['S037', 'S077', 'S166', 'S173', 'S186', 'S200', 'S212', 'S246', 'S257', 'S289', 'S291', 'S314', 'S323', 'S335', 'S348', 'S375', 'S376']\n",
            "['S086', 'S181', 'S303', 'S352'] ['S018', 'S044', 'S051', 'S100', 'S148', 'S163', 'S183', 'S197', 'S213', 'S227', 'S255', 'S305', 'S316', 'S325', 'S327', 'S330', 'S365']\n",
            "['S010', 'S135', 'S165', 'S243', 'S280', 'S300', 'S309', 'S344', 'S345', 'S370'] ['S019', 'S374'] "
          ]
        }
      ],
      "source": [
        "printer(affinity_Propagation(K05_kodu3))"
      ]
    },
    {
      "cell_type": "code",
      "execution_count": 49,
      "metadata": {},
      "outputs": [
        {
          "name": "stdout",
          "output_type": "stream",
          "text": [
            "['S001'] ['S002'] ['S003'] ['S004'] ['S006'] ['S007'] ['S010'] ['S011'] ['S012'] ['S017'] ['S018'] ['S374', 'S019'] ['S021'] ['S022'] ['S023'] ['S025'] ['S027']\n",
            "['S030'] ['S343', 'S033'] ['S034'] ['S036'] ['S039'] ['S040', 'S144'] ['S041'] ['S044'] ['S045'] ['S046', 'S081'] ['S047'] ['S050'] ['S051'] ['S052'] ['S313', 'S314', 'S316', 'S008', 'S320', 'S323', 'S013', 'S014', 'S324', 'S327', 'S329', 'S330', 'S024', 'S335', 'S032', 'S035', 'S037', 'S038', 'S346', 'S348', 'S043', 'S350', 'S048', 'S049', 'S355', 'S357', 'S053', 'S363', 'S364', 'S365', 'S370', 'S372', 'S068', 'S373', 'S375', 'S376', 'S078', 'S083', 'S091', 'S093', 'S095', 'S099', 'S101', 'S103', 'S106', 'S107', 'S108', 'S110', 'S111', 'S112', 'S116', 'S117', 'S122', 'S123', 'S124', 'S125', 'S126', 'S127', 'S128', 'S134', 'S137', 'S157', 'S158', 'S160', 'S162', 'S164', 'S165', 'S166', 'S171', 'S173', 'S177', 'S178', 'S179', 'S180', 'S184', 'S186', 'S189', 'S191', 'S193', 'S195', 'S200', 'S201', 'S203', 'S204', 'S206', 'S212', 'S216', 'S218', 'S219', 'S220', 'S224', 'S225', 'S228', 'S229', 'S230', 'S235', 'S236', 'S242', 'S243', 'S244', 'S246', 'S249', 'S254', 'S257', 'S261', 'S262', 'S264', 'S274', 'S278', 'S279', 'S283', 'S287', 'S288', 'S289', 'S299', 'S302', 'S304', 'S305', 'S307', 'S308', 'S309', 'S311']\n",
            "['S055'] ['S056'] ['S057'] ['S060'] ['S061'] ['S063'] ['S065', 'S371'] ['S067'] ['S069'] ['S070'] ['S072'] ['S073'] ['S075'] ['S077'] ['S079'] ['S080'] ['S082']\n",
            "['S084'] ['S085'] ['S086', 'S352'] ['S087'] ['S088'] ['S089'] ['S090'] ['S092'] ['S094'] ['S096'] ['S097'] ['S100'] ['S102'] ['S105'] ['S109'] ['S113', 'S317']\n",
            "['S114'] ['S115'] ['S118'] ['S119'] ['S120'] ['S121'] ['S129'] ['S130'] ['S132'] ['S133'] ['S135'] ['S138'] ['S139'] ['S140'] ['S141'] ['S143'] ['S145'] ['S147']\n",
            "['S148'] ['S149'] ['S152', 'S326', 'S199'] ['S153'] ['S155'] ['S175', 'S161'] ['S163', 'S227'] ['S167'] ['S168'] ['S169'] ['S170'] ['S172'] ['S174'] ['S176']\n",
            "['S272', 'S181'] ['S182'] ['S183'] ['S188'] ['S190'] ['S263', 'S192'] ['S194'] ['S196'] ['S197'] ['S202'] ['S205'] ['S207'] ['S208'] ['S210'] ['S211'] ['S213']\n",
            "['S214'] ['S222'] ['S223'] ['S226'] ['S232'] ['S233'] ['S234'] ['S238'] ['S239'] ['S247'] ['S248'] ['S250'] ['S251'] ['S252'] ['S253'] ['S255'] ['S256'] ['S258']\n",
            "['S259'] ['S260'] ['S266'] ['S269'] ['S271'] ['S273'] ['S275'] ['S276'] ['S277'] ['S280'] ['S282'] ['S291'] ['S292'] ['S293'] ['S295'] ['S296'] ['S298'] ['S300']\n",
            "['S303'] ['S310'] ['S312'] ['S315'] ['S318'] ['S322'] ['S325'] ['S328'] ['S331'] ['S333'] ['S334'] ['S337'] ['S339'] ['S340'] ['S342'] ['S344'] ['S345'] ['S347']\n",
            "['S349'] ['S351'] ['S353'] ['S354'] ['S356'] ['S358'] ['S359'] ['S362'] ['S367'] ['S369'] ['S377'] "
          ]
        }
      ],
      "source": [
        "printer(kruskal(K05_kodu3))"
      ]
    },
    {
      "cell_type": "code",
      "execution_count": 50,
      "metadata": {},
      "outputs": [],
      "source": [
        "K07_kodu1 = pd.read_csv(\"matrices/K07_kodu1.csv\", index_col=\"idx\")"
      ]
    },
    {
      "cell_type": "code",
      "execution_count": 51,
      "metadata": {},
      "outputs": [
        {
          "name": "stdout",
          "output_type": "stream",
          "text": [
            "['S002'] ['S003', 'S043', 'S069'] ['S001', 'S006', 'S012', 'S045', 'S057', 'S095', 'S101', 'S111', 'S120', 'S128', 'S129', 'S140', 'S161', 'S168', 'S179', 'S187', 'S191', 'S194', 'S200', 'S222', 'S233', 'S248', 'S256', 'S271', 'S287', 'S309', 'S315', 'S345', 'S356', 'S377']\n",
            "['S046', 'S051', 'S072', 'S074', 'S075', 'S100', 'S121', 'S132', 'S144', 'S169', 'S182', 'S208', 'S212', 'S230', 'S241', 'S253', 'S257', 'S258', 'S280', 'S291', 'S292', 'S300', 'S302', 'S325', 'S328', 'S351', 'S367', 'S369', 'S372', 'S374']\n",
            "['S025', 'S048', 'S056', 'S105', 'S247', 'S365'] ['S089', 'S098', 'S164', 'S167'] ['S050', 'S065', 'S067', 'S070', 'S090', 'S110', 'S123', 'S207', 'S277', 'S283', 'S363', 'S371']\n",
            "['S093', 'S107', 'S134', 'S210', 'S252', 'S275', 'S350'] ['S143'] ['S088', 'S097', 'S138', 'S148', 'S213', 'S235', 'S266', 'S295', 'S326', 'S329']\n",
            "['S007', 'S115', 'S154', 'S203', 'S211', 'S225', 'S226', 'S264', 'S330', 'S342', 'S376'] ['S023', 'S035', 'S052', 'S137', 'S160', 'S174', 'S177', 'S178', 'S221', 'S260', 'S268', 'S293', 'S362']\n",
            "['S071', 'S081', 'S085', 'S126', 'S127', 'S130', 'S183', 'S186', 'S199', 'S246', 'S312', 'S323', 'S339', 'S354'] ['S119', 'S190', 'S219', 'S267', 'S310', 'S321', 'S344']\n",
            "['S201'] ['S013', 'S021', 'S034', 'S037', 'S064', 'S094', 'S122', 'S125', 'S166', 'S170', 'S173', 'S214', 'S220', 'S227', 'S242', 'S263', 'S289', 'S333', 'S348', 'S364']\n",
            "['S004', 'S024', 'S027', 'S032', 'S033', 'S036', 'S039', 'S040', 'S055', 'S061', 'S068', 'S078', 'S083', 'S086', 'S092', 'S096', 'S099', 'S103', 'S112', 'S114', 'S116', 'S118', 'S135', 'S147', 'S149', 'S156', 'S165', 'S172', 'S176', 'S180', 'S181', 'S184', 'S188', 'S205', 'S206', 'S223', 'S228', 'S229', 'S231', 'S232', 'S251', 'S254', 'S259', 'S261', 'S265', 'S269', 'S274', 'S282', 'S299', 'S303', 'S305', 'S307', 'S308', 'S316', 'S320', 'S322', 'S327', 'S331', 'S334', 'S337', 'S340', 'S352', 'S353', 'S358', 'S370']\n",
            "['S010', 'S014', 'S017', 'S019', 'S022', 'S030', 'S038', 'S073', 'S077', 'S079', 'S113', 'S139', 'S141', 'S162', 'S197', 'S202', 'S204', 'S224', 'S244', 'S250', 'S273', 'S296', 'S317', 'S347', 'S357']\n",
            "['S008', 'S018', 'S049', 'S063', 'S084', 'S102', 'S158', 'S171', 'S234', 'S239', 'S255', 'S262', 'S276', 'S349', 'S355'] ['S011', 'S026', 'S082', 'S091', 'S117', 'S124', 'S152', 'S155', 'S163', 'S192', 'S193', 'S218', 'S238', 'S243', 'S249', 'S278', 'S279', 'S286', 'S301', 'S304', 'S335', 'S346']\n",
            "['S288', 'S290', 'S297', 'S373'] ['S109', 'S133', 'S195', 'S311'] ['S016', 'S053', 'S318'] ['S047', 'S060', 'S080', 'S343', 'S360'] "
          ]
        }
      ],
      "source": [
        "printer(affinity_Propagation(K07_kodu1))"
      ]
    },
    {
      "cell_type": "code",
      "execution_count": 52,
      "metadata": {},
      "outputs": [
        {
          "name": "stdout",
          "output_type": "stream",
          "text": [
            "['S043', 'S003'] ['S016'] ['S023'] ['S053'] ['S069'] ['S080'] ['S098', 'S345', 'S164', 'S089'] ['S095'] ['S001', 'S002', 'S004', 'S006', 'S007', 'S008', 'S010', 'S011', 'S012', 'S013', 'S014', 'S017', 'S018', 'S019', 'S021', 'S022', 'S024', 'S025', 'S026', 'S027', 'S030', 'S032', 'S033', 'S034', 'S035', 'S036', 'S037', 'S038', 'S039', 'S040', 'S045', 'S046', 'S047', 'S048', 'S049', 'S050', 'S051', 'S052', 'S055', 'S056', 'S057', 'S060', 'S061', 'S063', 'S064', 'S065', 'S067', 'S068', 'S070', 'S071', 'S072', 'S073', 'S074', 'S075', 'S077', 'S078', 'S079', 'S081', 'S082', 'S083', 'S084', 'S085', 'S086', 'S088', 'S090', 'S091', 'S092', 'S093', 'S094', 'S096', 'S097', 'S099', 'S100', 'S101', 'S102', 'S103', 'S105', 'S107', 'S109', 'S110', 'S111', 'S112', 'S113', 'S114', 'S115', 'S116', 'S117', 'S118', 'S119', 'S120', 'S121', 'S122', 'S123', 'S124', 'S125', 'S126', 'S127', 'S128', 'S129', 'S130', 'S132', 'S134', 'S135', 'S138', 'S139', 'S140', 'S141', 'S144', 'S147', 'S148', 'S149', 'S152', 'S154', 'S155', 'S156', 'S158', 'S160', 'S161', 'S162', 'S163', 'S165', 'S166', 'S168', 'S169', 'S170', 'S171', 'S172', 'S173', 'S176', 'S178', 'S179', 'S180', 'S181', 'S182', 'S184', 'S186', 'S187', 'S188', 'S190', 'S191', 'S192', 'S193', 'S194', 'S197', 'S199', 'S200', 'S202', 'S203', 'S204', 'S205', 'S206', 'S207', 'S208', 'S212', 'S213', 'S214', 'S218', 'S219', 'S220', 'S222', 'S223', 'S224', 'S225', 'S226', 'S227', 'S228', 'S229', 'S230', 'S231', 'S232', 'S233', 'S234', 'S235', 'S238', 'S239', 'S241', 'S242', 'S243', 'S244', 'S246', 'S247', 'S248', 'S249', 'S250', 'S251', 'S252', 'S253', 'S254', 'S255', 'S256', 'S257', 'S258', 'S259', 'S260', 'S261', 'S262', 'S263', 'S264', 'S265', 'S266', 'S267', 'S268', 'S269', 'S271', 'S273', 'S274', 'S275', 'S277', 'S278', 'S279', 'S280', 'S282', 'S283', 'S286', 'S287', 'S288', 'S289', 'S290', 'S291', 'S292', 'S293', 'S295', 'S296', 'S297', 'S299', 'S300', 'S301', 'S302', 'S303', 'S304', 'S305', 'S307', 'S308', 'S309', 'S310', 'S311', 'S312', 'S315', 'S316', 'S317', 'S320', 'S321', 'S322', 'S323', 'S325', 'S326', 'S327', 'S328', 'S329', 'S331', 'S333', 'S334', 'S335', 'S337', 'S339', 'S340', 'S342', 'S344', 'S346', 'S347', 'S348', 'S349', 'S351', 'S352', 'S353', 'S354', 'S355', 'S356', 'S357', 'S358', 'S360', 'S363', 'S364', 'S365', 'S367', 'S369', 'S370', 'S371', 'S372', 'S373', 'S374', 'S376', 'S377']\n",
            "['S133'] ['S137'] ['S143'] ['S167'] ['S174'] ['S177'] ['S183'] ['S195'] ['S201'] ['S210'] ['S211'] ['S221'] ['S276'] ['S318'] ['S330'] ['S343'] ['S350'] ['S362']\n"
          ]
        }
      ],
      "source": [
        "printer(kruskal(K07_kodu1))"
      ]
    },
    {
      "cell_type": "code",
      "execution_count": 53,
      "metadata": {},
      "outputs": [],
      "source": [
        "K07_kodu2 = pd.read_csv(\"matrices/K07_kodu2.csv\", index_col=\"idx\")"
      ]
    },
    {
      "cell_type": "code",
      "execution_count": 54,
      "metadata": {},
      "outputs": [
        {
          "name": "stdout",
          "output_type": "stream",
          "text": [
            "['S004', 'S007', 'S012', 'S017', 'S022', 'S040', 'S043', 'S052', 'S055', 'S065', 'S071', 'S102', 'S118', 'S128', 'S134', 'S140', 'S144', 'S155', 'S160', 'S172', 'S181', 'S184', 'S200', 'S220', 'S221', 'S223', 'S224', 'S226', 'S229', 'S233', 'S234', 'S239', 'S247', 'S287', 'S289', 'S295', 'S297', 'S299', 'S302', 'S327', 'S328', 'S329', 'S339', 'S365', 'S370', 'S371', 'S373', 'S377']\n",
            "['S006', 'S011', 'S018', 'S023', 'S038', 'S061', 'S069', 'S082', 'S083', 'S095', 'S100', 'S101', 'S103', 'S119', 'S121', 'S129', 'S137', 'S156', 'S167', 'S201', 'S206', 'S208', 'S218', 'S219', 'S222', 'S255', 'S257', 'S259', 'S271', 'S288', 'S301', 'S305', 'S337', 'S352', 'S363']\n",
            "['S030'] ['S001', 'S035', 'S036', 'S063', 'S067', 'S070', 'S073', 'S081', 'S084', 'S091', 'S092', 'S093', 'S099', 'S147', 'S154', 'S161', 'S192', 'S235', 'S261', 'S269', 'S286', 'S292', 'S307', 'S308', 'S309', 'S325', 'S326', 'S349', 'S351', 'S357']\n",
            "['S074'] ['S089'] ['S098'] ['S013', 'S014', 'S016', 'S019', 'S021', 'S024', 'S025', 'S026', 'S032', 'S033', 'S034', 'S037', 'S039', 'S049', 'S050', 'S051', 'S053', 'S056', 'S057', 'S060', 'S064', 'S068', 'S075', 'S078', 'S079', 'S080', 'S085', 'S088', 'S090', 'S094', 'S097', 'S105', 'S109', 'S111', 'S115', 'S116', 'S117', 'S122', 'S123', 'S125', 'S126', 'S130', 'S132', 'S133', 'S139', 'S143', 'S148', 'S149', 'S152', 'S158', 'S163', 'S164', 'S165', 'S166', 'S168', 'S170', 'S171', 'S173', 'S176', 'S177', 'S178', 'S182', 'S183', 'S186', 'S187', 'S188', 'S190', 'S194', 'S195', 'S202', 'S203', 'S205', 'S211', 'S214', 'S227', 'S230', 'S232', 'S238', 'S241', 'S242', 'S243', 'S244', 'S249', 'S252', 'S254', 'S258', 'S260', 'S263', 'S264', 'S265', 'S266', 'S273', 'S274', 'S276', 'S279', 'S282', 'S283', 'S290', 'S296', 'S300', 'S311', 'S316', 'S317', 'S320', 'S330', 'S331', 'S335', 'S340', 'S342', 'S343', 'S345', 'S347', 'S350', 'S354', 'S355', 'S356', 'S358', 'S364', 'S367', 'S369', 'S376']\n",
            "['S008', 'S046', 'S086', 'S096', 'S112', 'S169', 'S197', 'S204', 'S210', 'S225', 'S228', 'S246', 'S251', 'S275', 'S280', 'S291', 'S333', 'S353', 'S362', 'S372']\n",
            "['S310'] ['S002', 'S003', 'S009', 'S010', 'S048', 'S114', 'S120', 'S124', 'S135', 'S174', 'S179', 'S191', 'S193', 'S212', 'S248', 'S256', 'S277', 'S303', 'S312', 'S322', 'S323', 'S344', 'S346', 'S360', 'S374']\n",
            "['S027', 'S045', 'S047', 'S072', 'S077', 'S110', 'S113', 'S138', 'S141', 'S162', 'S180', 'S199', 'S207', 'S213', 'S245', 'S253', 'S262', 'S293', 'S304', 'S315', 'S318', 'S334', 'S348']\n"
          ]
        }
      ],
      "source": [
        "printer(affinity_Propagation(K07_kodu2))"
      ]
    },
    {
      "cell_type": "code",
      "execution_count": 55,
      "metadata": {},
      "outputs": [
        {
          "name": "stdout",
          "output_type": "stream",
          "text": [
            "['S006'] ['S018'] ['S030'] ['S046'] ['S061'] ['S069'] ['S074'] ['S288', 'S083'] ['S086'] ['S089'] ['S094'] ['S095'] ['S098'] ['S100'] ['S101'] ['S103'] ['S105']\n",
            "['S119'] ['S129'] ['S143'] ['S156'] ['S168'] ['S169'] ['S171'] ['S201'] ['S206'] ['S208'] ['S210'] ['S218'] ['S001', 'S002', 'S003', 'S004', 'S007', 'S008', 'S009', 'S010', 'S011', 'S012', 'S013', 'S014', 'S016', 'S017', 'S019', 'S021', 'S022', 'S023', 'S024', 'S025', 'S026', 'S027', 'S032', 'S033', 'S034', 'S035', 'S036', 'S037', 'S038', 'S039', 'S040', 'S043', 'S045', 'S047', 'S048', 'S049', 'S050', 'S051', 'S052', 'S053', 'S055', 'S056', 'S057', 'S060', 'S063', 'S064', 'S065', 'S067', 'S068', 'S070', 'S071', 'S072', 'S073', 'S075', 'S077', 'S078', 'S079', 'S080', 'S081', 'S082', 'S084', 'S085', 'S088', 'S090', 'S091', 'S092', 'S093', 'S096', 'S097', 'S099', 'S102', 'S109', 'S110', 'S111', 'S112', 'S113', 'S114', 'S115', 'S116', 'S117', 'S118', 'S120', 'S121', 'S122', 'S123', 'S124', 'S125', 'S126', 'S128', 'S130', 'S132', 'S133', 'S134', 'S135', 'S137', 'S138', 'S139', 'S140', 'S141', 'S144', 'S147', 'S148', 'S149', 'S152', 'S154', 'S155', 'S158', 'S160', 'S161', 'S162', 'S163', 'S164', 'S165', 'S166', 'S167', 'S170', 'S172', 'S173', 'S174', 'S176', 'S177', 'S178', 'S179', 'S180', 'S181', 'S182', 'S183', 'S184', 'S186', 'S187', 'S188', 'S190', 'S191', 'S192', 'S193', 'S194', 'S195', 'S197', 'S199', 'S200', 'S202', 'S203', 'S204', 'S205', 'S207', 'S211', 'S212', 'S213', 'S214', 'S219', 'S220', 'S221', 'S222', 'S223', 'S224', 'S225', 'S226', 'S227', 'S228', 'S229', 'S230', 'S232', 'S233', 'S234', 'S235', 'S238', 'S239', 'S241', 'S242', 'S243', 'S245', 'S246', 'S247', 'S248', 'S249', 'S251', 'S252', 'S253', 'S254', 'S256', 'S258', 'S259', 'S260', 'S261', 'S262', 'S263', 'S264', 'S266', 'S269', 'S273', 'S274', 'S276', 'S277', 'S279', 'S280', 'S282', 'S283', 'S286', 'S287', 'S289', 'S290', 'S292', 'S293', 'S295', 'S296', 'S297', 'S299', 'S300', 'S301', 'S302', 'S303', 'S304', 'S307', 'S308', 'S309', 'S311', 'S312', 'S315', 'S316', 'S317', 'S318', 'S320', 'S322', 'S323', 'S325', 'S326', 'S327', 'S328', 'S329', 'S330', 'S331', 'S333', 'S334', 'S335', 'S339', 'S340', 'S342', 'S343', 'S344', 'S345', 'S346', 'S347', 'S348', 'S349', 'S350', 'S351', 'S352', 'S354', 'S355', 'S356', 'S357', 'S358', 'S360', 'S362', 'S364', 'S365', 'S367', 'S369', 'S370', 'S371', 'S373', 'S374', 'S376', 'S377']\n",
            "['S244'] ['S255'] ['S257'] ['S265'] ['S271'] ['S275'] ['S291'] ['S305'] ['S310'] ['S337'] ['S353'] ['S363'] ['S372'] "
          ]
        }
      ],
      "source": [
        "printer(kruskal(K07_kodu2))"
      ]
    },
    {
      "cell_type": "code",
      "execution_count": 56,
      "metadata": {},
      "outputs": [],
      "source": [
        "K07_kodu3 = pd.read_csv(\"matrices/K07_kodu3.csv\", index_col=\"idx\")"
      ]
    },
    {
      "cell_type": "code",
      "execution_count": 57,
      "metadata": {},
      "outputs": [
        {
          "name": "stdout",
          "output_type": "stream",
          "text": [
            "['S003', 'S018', 'S043', 'S055', 'S090', 'S118', 'S140', 'S166', 'S191', 'S194', 'S219', 'S234', 'S287', 'S302', 'S316', 'S343'] ['S027', 'S040', 'S047', 'S053', 'S056', 'S068', 'S078', 'S086', 'S099', 'S132', 'S161', 'S183', 'S200', 'S246', 'S274', 'S339']\n",
            "['S004', 'S007', 'S008', 'S009', 'S010', 'S011', 'S013', 'S016', 'S021', 'S022', 'S023', 'S024', 'S026', 'S032', 'S033', 'S034', 'S036', 'S038', 'S039', 'S046', 'S048', 'S052', 'S064', 'S065', 'S067', 'S070', 'S071', 'S081', 'S082', 'S083', 'S084', 'S091', 'S092', 'S094', 'S096', 'S098', 'S107', 'S111', 'S112', 'S114', 'S115', 'S116', 'S120', 'S121', 'S125', 'S126', 'S127', 'S128', 'S129', 'S137', 'S138', 'S139', 'S144', 'S147', 'S155', 'S158', 'S160', 'S163', 'S164', 'S170', 'S173', 'S176', 'S184', 'S187', 'S192', 'S199', 'S204', 'S206', 'S210', 'S213', 'S220', 'S221', 'S222', 'S224', 'S227', 'S228', 'S229', 'S232', 'S238', 'S244', 'S251', 'S252', 'S253', 'S254', 'S255', 'S258', 'S260', 'S261', 'S262', 'S266', 'S273', 'S277', 'S280', 'S283', 'S286', 'S289', 'S293', 'S297', 'S299', 'S304', 'S307', 'S317', 'S323', 'S325', 'S327', 'S329', 'S334', 'S337', 'S347', 'S362', 'S364', 'S369', 'S371', 'S374']\n",
            "['S072', 'S073'] ['S089', 'S095', 'S101', 'S124', 'S162', 'S190', 'S282', 'S340', 'S376'] ['S113', 'S141', 'S168', 'S171', 'S180', 'S208', 'S230', 'S233', 'S318', 'S360']\n",
            "['S117'] ['S123'] ['S006', 'S069', 'S100', 'S102', 'S149', 'S165', 'S223', 'S248', 'S249', 'S269'] ['S017', 'S133', 'S152', 'S156', 'S315', 'S320', 'S335', 'S349', 'S356', 'S377']\n",
            "['S001', 'S063', 'S088', 'S105', 'S135', 'S167', 'S181', 'S202', 'S259', 'S322', 'S351', 'S354'] ['S014', 'S025', 'S030', 'S079', 'S080', 'S097', 'S109', 'S122', 'S148', 'S169', 'S178', 'S179', 'S203', 'S218', 'S225', 'S235', 'S242', 'S243', 'S263', 'S275', 'S290', 'S295', 'S301', 'S308', 'S310', 'S311', 'S350', 'S355']\n",
            "['S045', 'S051', 'S212', 'S303'] ['S037', 'S061', 'S119', 'S143', 'S174', 'S177', 'S195', 'S197', 'S201', 'S211', 'S247', 'S256', 'S300', 'S312', 'S326']\n",
            "['S057', 'S085', 'S093', 'S130', 'S186', 'S276', 'S296', 'S333', 'S346', 'S363'] ['S019', 'S060', 'S074', 'S214', 'S264', 'S265', 'S305', 'S342']\n",
            "['S002', 'S035', 'S077', 'S172', 'S344'] ['S012', 'S050', 'S075', 'S182', 'S188', 'S205', 'S207', 'S257', 'S328', 'S331', 'S348', 'S353', 'S358']\n",
            "['S049', 'S110', 'S226', 'S271', 'S278', 'S279', 'S291', 'S309', 'S345', 'S352', 'S357', 'S365', 'S370'] ['S103', 'S239', 'S288', 'S292', 'S372', 'S373']\n"
          ]
        }
      ],
      "source": [
        "printer(affinity_Propagation(K07_kodu3))"
      ]
    },
    {
      "cell_type": "code",
      "execution_count": 58,
      "metadata": {},
      "outputs": [
        {
          "name": "stdout",
          "output_type": "stream",
          "text": [
            "['S001'] ['S002'] ['S003', 'S043'] ['S004'] ['S006'] ['S013'] ['S320', 'S007', 'S008', 'S009', 'S010', 'S011', 'S329', 'S331', 'S014', 'S012', 'S328', 'S017', 'S339', 'S021', 'S023', 'S024', 'S026', 'S348', 'S349', 'S027', 'S032', 'S033', 'S034', 'S036', 'S353', 'S038', 'S039', 'S351', 'S040', 'S362', 'S046', 'S047', 'S048', 'S364', 'S050', 'S370', 'S052', 'S371', 'S327', 'S374', 'S056', 'S377', 'S064', 'S065', 'S067', 'S071', 'S075', 'S079', 'S081', 'S083', 'S084', 'S091', 'S092', 'S093', 'S094', 'S096', 'S098', 'S107', 'S113', 'S115', 'S118', 'S121', 'S122', 'S125', 'S126', 'S127', 'S129', 'S133', 'S137', 'S138', 'S139', 'S347', 'S144', 'S156', 'S158', 'S164', 'S167', 'S169', 'S170', 'S173', 'S176', 'S352', 'S182', 'S184', 'S187', 'S188', 'S192', 'S356', 'S206', 'S210', 'S213', 'S358', 'S218', 'S220', 'S221', 'S222', 'S224', 'S225', 'S226', 'S229', 'S238', 'S246', 'S251', 'S252', 'S254', 'S257', 'S258', 'S260', 'S261', 'S266', 'S274', 'S280', 'S283', 'S289', 'S295', 'S299', 'S305', 'S308', 'S310', 'S315', 'S316']\n",
            "['S016'] ['S018'] ['S019'] ['S022'] ['S025'] ['S030'] ['S035'] ['S037'] ['S045'] ['S049'] ['S051'] ['S053'] ['S055'] ['S057'] ['S060'] ['S061'] ['S063'] ['S068']\n",
            "['S069'] ['S070'] ['S072', 'S073'] ['S074'] ['S077'] ['S078'] ['S080'] ['S082'] ['S085'] ['S086'] ['S088'] ['S089'] ['S090'] ['S095'] ['S097'] ['S099'] ['S100']\n",
            "['S101'] ['S102'] ['S372', 'S103'] ['S105'] ['S109'] ['S110'] ['S111'] ['S112'] ['S114'] ['S116'] ['S117'] ['S119'] ['S120'] ['S123'] ['S124'] ['S128'] ['S130', 'S276']\n",
            "['S132'] ['S135'] ['S140'] ['S141'] ['S143'] ['S147'] ['S148'] ['S149'] ['S152'] ['S155'] ['S160'] ['S161'] ['S162'] ['S163'] ['S165'] ['S166'] ['S168'] ['S171']\n",
            "['S172'] ['S174'] ['S177'] ['S178'] ['S179'] ['S180'] ['S181'] ['S183'] ['S186'] ['S190'] ['S191'] ['S194'] ['S195'] ['S197'] ['S199'] ['S200'] ['S201'] ['S202']\n",
            "['S203'] ['S204'] ['S205'] ['S207'] ['S208'] ['S211'] ['S212'] ['S214'] ['S219'] ['S223'] ['S227'] ['S228'] ['S230'] ['S232'] ['S233'] ['S234'] ['S235'] ['S239']\n",
            "['S242'] ['S243'] ['S244'] ['S247'] ['S248'] ['S249'] ['S253'] ['S255'] ['S256'] ['S259'] ['S262'] ['S263'] ['S264'] ['S265'] ['S269'] ['S271'] ['S273'] ['S275']\n",
            "['S277'] ['S278'] ['S279'] ['S282'] ['S286'] ['S287'] ['S288', 'S373'] ['S290'] ['S291'] ['S292'] ['S293'] ['S296'] ['S297'] ['S300'] ['S301'] ['S302'] ['S303']\n",
            "['S304'] ['S307'] ['S309'] ['S311'] ['S312'] ['S317'] ['S318'] ['S322'] ['S323'] ['S325'] ['S326'] ['S333'] ['S334'] ['S335'] ['S337'] ['S340'] ['S342'] ['S343']\n",
            "['S344'] ['S345'] ['S346'] ['S350'] ['S354'] ['S355'] ['S357'] ['S360'] ['S363'] ['S365'] ['S369'] ['S376'] "
          ]
        }
      ],
      "source": [
        "printer(kruskal(K07_kodu3))"
      ]
    },
    {
      "cell_type": "code",
      "execution_count": 59,
      "metadata": {},
      "outputs": [],
      "source": [
        "K08_film = pd.read_csv(\"matrices/K08_film.csv\", index_col=\"idx\")"
      ]
    },
    {
      "cell_type": "code",
      "execution_count": 60,
      "metadata": {},
      "outputs": [
        {
          "name": "stdout",
          "output_type": "stream",
          "text": [
            "['S018', 'S067', 'S129', 'S207', 'S232', 'S255', 'S287', 'S309', 'S335'] ['S003', 'S010', 'S050', 'S079', 'S082', 'S086', 'S088', 'S103', 'S115', 'S130', 'S135', 'S140', 'S155', 'S191', 'S200', 'S214', 'S256', 'S260', 'S291', 'S347', 'S351', 'S362', 'S363', 'S374']\n",
            "['S004', 'S023', 'S039', 'S051', 'S100', 'S107', 'S116', 'S179', 'S199', 'S201', 'S218', 'S228', 'S230', 'S243', 'S246', 'S293', 'S302', 'S325', 'S337', 'S365']\n",
            "['S065'] ['S072', 'S084', 'S095', 'S143', 'S194', 'S205', 'S303', 'S315', 'S322'] ['S094', 'S183'] ['S008', 'S038', 'S040', 'S128', 'S137', 'S149', 'S160', 'S161', 'S204', 'S226', 'S227', 'S238', 'S239', 'S249', 'S252', 'S266', 'S286', 'S349', 'S357', 'S367']\n",
            "['S016', 'S017', 'S021', 'S024', 'S025', 'S053', 'S070', 'S077', 'S081', 'S083', 'S099', 'S112', 'S113', 'S117', 'S118', 'S124', 'S125', 'S144', 'S163', 'S169', 'S172', 'S180', 'S186', 'S188', 'S192', 'S235', 'S250', 'S254', 'S263', 'S273', 'S280', 'S283', 'S292', 'S305', 'S311', 'S317', 'S320', 'S326', 'S330', 'S342']\n",
            "['S036', 'S045', 'S175', 'S212'] ['S002', 'S033', 'S035', 'S052', 'S057', 'S096', 'S114', 'S132', 'S139', 'S153', 'S181', 'S184', 'S189', 'S197', 'S213', 'S220', 'S233', 'S251', 'S277', 'S327', 'S345', 'S356']\n",
            "['S012', 'S069', 'S080', 'S091', 'S141', 'S171', 'S174', 'S187', 'S211', 'S234', 'S247', 'S328', 'S352', 'S370'] ['S195', 'S300'] ['S007', 'S047', 'S087', 'S093', 'S111', 'S162', 'S166', 'S190', 'S208', 'S296', 'S312', 'S331', 'S344']\n",
            "['S046', 'S060', 'S063', 'S073', 'S120', 'S165', 'S222', 'S258', 'S359'] ['S001', 'S032', 'S055', 'S075', 'S092', 'S102', 'S105', 'S123', 'S133', 'S147', 'S158', 'S178', 'S182', 'S269', 'S271', 'S316', 'S318', 'S355']\n",
            "['S006', 'S022', 'S037', 'S061', 'S098', 'S101', 'S122', 'S138', 'S148', 'S164', 'S168', 'S170', 'S177', 'S203', 'S225', 'S242', 'S262', 'S276', 'S290', 'S299', 'S304', 'S329', 'S333', 'S353', 'S376']\n",
            "['S223', 'S297'] ['S346', 'S354'] ['S350'] ['S026', 'S034', 'S049', 'S056', 'S068', 'S104', 'S119', 'S126', 'S134', 'S152', 'S167', 'S202', 'S206', 'S224', 'S244', 'S253', 'S261', 'S272', 'S275', 'S295', 'S334', 'S340', 'S358', 'S371']\n",
            "['S011', 'S013', 'S030', 'S043', 'S085', 'S097', 'S176', 'S219', 'S339', 'S369'] ['S372'] ['S078', 'S288', 'S373'] "
          ]
        }
      ],
      "source": [
        "printer(affinity_Propagation(K08_film))"
      ]
    },
    {
      "cell_type": "code",
      "execution_count": 61,
      "metadata": {},
      "outputs": [
        {
          "name": "stdout",
          "output_type": "stream",
          "text": [
            "['S006'] ['S011'] ['S001', 'S002', 'S003', 'S004', 'S007', 'S008', 'S010', 'S012', 'S017', 'S023', 'S024', 'S025', 'S026', 'S032', 'S033', 'S034', 'S035', 'S038', 'S039', 'S040', 'S047', 'S049', 'S050', 'S051', 'S053', 'S068', 'S069', 'S070', 'S077', 'S080', 'S086', 'S088', 'S092', 'S096', 'S099', 'S100', 'S104', 'S107', 'S111', 'S112', 'S113', 'S114', 'S116', 'S117', 'S118', 'S119', 'S122', 'S123', 'S124', 'S125', 'S130', 'S132', 'S134', 'S135', 'S137', 'S139', 'S140', 'S147', 'S148', 'S149', 'S152', 'S155', 'S160', 'S161', 'S162', 'S163', 'S166', 'S168', 'S169', 'S170', 'S174', 'S179', 'S180', 'S181', 'S184', 'S186', 'S187', 'S188', 'S189', 'S190', 'S192', 'S197', 'S199', 'S200', 'S201', 'S202', 'S203', 'S204', 'S206', 'S208', 'S213', 'S218', 'S222', 'S228', 'S230', 'S233', 'S235', 'S238', 'S239', 'S242', 'S243', 'S244', 'S246', 'S249', 'S250', 'S251', 'S252', 'S253', 'S258', 'S261', 'S263', 'S266', 'S269', 'S272', 'S275', 'S276', 'S277', 'S283', 'S292', 'S293', 'S295', 'S296', 'S302', 'S304', 'S305', 'S311', 'S312', 'S316', 'S317', 'S320', 'S325', 'S326', 'S327', 'S330', 'S334', 'S337', 'S340', 'S342', 'S344', 'S345', 'S347', 'S349', 'S351', 'S356', 'S357', 'S358', 'S363', 'S371', 'S374']\n",
            "['S013'] ['S016'] ['S335', 'S018'] ['S021'] ['S022'] ['S030'] ['S036'] ['S037'] ['S043'] ['S045'] ['S046'] ['S052'] ['S055'] ['S056'] ['S057'] ['S060'] ['S061']\n",
            "['S063'] ['S065'] ['S067'] ['S072', 'S143'] ['S073'] ['S182', 'S075'] ['S078'] ['S079'] ['S081'] ['S082'] ['S083'] ['S084'] ['S369', 'S085'] ['S087'] ['S091', 'S247']\n",
            "['S093'] ['S094'] ['S095'] ['S097'] ['S098'] ['S101'] ['S102'] ['S103'] ['S105'] ['S115'] ['S120'] ['S126'] ['S128'] ['S129'] ['S133'] ['S138'] ['S141'] ['S144']\n",
            "['S153'] ['S158'] ['S164'] ['S165'] ['S167'] ['S171'] ['S172'] ['S175'] ['S176'] ['S177'] ['S178'] ['S183'] ['S191'] ['S194'] ['S195'] ['S205'] ['S207'] ['S211']\n",
            "['S212'] ['S214'] ['S219'] ['S220'] ['S223'] ['S224'] ['S225'] ['S226'] ['S227'] ['S232'] ['S234'] ['S254'] ['S255'] ['S256'] ['S260'] ['S262'] ['S271'] ['S273']\n",
            "['S280'] ['S286'] ['S287'] ['S373', 'S288'] ['S290'] ['S291'] ['S297'] ['S299'] ['S300'] ['S303'] ['S309'] ['S315'] ['S318'] ['S322'] ['S328'] ['S329'] ['S331']\n",
            "['S333'] ['S339'] ['S354', 'S346'] ['S350'] ['S352'] ['S353'] ['S355'] ['S359'] ['S362'] ['S365'] ['S367'] ['S370'] ['S372'] ['S376'] "
          ]
        }
      ],
      "source": [
        "printer(kruskal(K08_film))"
      ]
    },
    {
      "cell_type": "code",
      "execution_count": 62,
      "metadata": {},
      "outputs": [],
      "source": [
        "K08_kodu1 = pd.read_csv(\"matrices/K08_kodu1.csv\", index_col=\"idx\")"
      ]
    },
    {
      "cell_type": "code",
      "execution_count": 63,
      "metadata": {},
      "outputs": [
        {
          "name": "stdout",
          "output_type": "stream",
          "text": [
            "['S006', 'S022', 'S046', 'S063', 'S116', 'S135', 'S183', 'S192', 'S199', 'S202', 'S325', 'S326', 'S373'] ['S030', 'S061', 'S087', 'S093', 'S117', 'S119', 'S174', 'S195', 'S239', 'S250', 'S256']\n",
            "['S040', 'S073', 'S075', 'S079', 'S091', 'S118', 'S137', 'S167', 'S180', 'S187', 'S205', 'S219', 'S258', 'S302', 'S305', 'S357', 'S358', 'S376']\n",
            "['S011', 'S012', 'S016', 'S019', 'S033', 'S035', 'S038', 'S039', 'S047', 'S048', 'S049', 'S056', 'S057', 'S060', 'S064', 'S077', 'S083', 'S112', 'S113', 'S115', 'S122', 'S124', 'S129', 'S138', 'S141', 'S148', 'S153', 'S154', 'S155', 'S160', 'S164', 'S178', 'S189', 'S190', 'S194', 'S200', 'S201', 'S209', 'S211', 'S213', 'S214', 'S224', 'S226', 'S235', 'S238', 'S246', 'S262', 'S274', 'S275', 'S276', 'S278', 'S287', 'S288', 'S297', 'S316', 'S318', 'S328', 'S330', 'S335', 'S342', 'S346', 'S349', 'S350', 'S353', 'S355', 'S356', 'S362', 'S365', 'S374']\n",
            "['S010', 'S025', 'S086', 'S105', 'S165', 'S169', 'S277', 'S337', 'S339', 'S367'] ['S008', 'S023', 'S050', 'S094', 'S095', 'S132', 'S140', 'S249', 'S299', 'S312', 'S315', 'S331', 'S351']\n",
            "['S018', 'S034', 'S096', 'S143', 'S163', 'S166', 'S188', 'S244', 'S272', 'S291', 'S372'] ['S001', 'S003', 'S068', 'S072', 'S074', 'S082', 'S111', 'S130', 'S147', 'S227', 'S233', 'S300', 'S345']\n",
            "['S026', 'S069', 'S088', 'S099', 'S128', 'S232', 'S234', 'S255', 'S311', 'S322', 'S363'] ['S002', 'S004', 'S013', 'S032', 'S036', 'S043', 'S045', 'S055', 'S065', 'S070', 'S071', 'S078', 'S084', 'S092', 'S100', 'S102', 'S107', 'S114', 'S120', 'S123', 'S144', 'S156', 'S158', 'S161', 'S170', 'S172', 'S175', 'S176', 'S186', 'S191', 'S193', 'S204', 'S208', 'S218', 'S222', 'S225', 'S228', 'S230', 'S242', 'S247', 'S251', 'S254', 'S259', 'S266', 'S273', 'S280', 'S290', 'S292', 'S296', 'S308', 'S309', 'S320', 'S333', 'S334', 'S344', 'S347', 'S352', 'S354', 'S369', 'S370', 'S371']\n",
            "['S168', 'S207', 'S212', 'S253'] ['S051', 'S133', 'S171', 'S206', 'S223', 'S269', 'S271', 'S303'] ['S021', 'S052', 'S053', 'S067', 'S080', 'S085', 'S097', 'S098', 'S101', 'S134', 'S139', 'S149', 'S152', 'S177', 'S181', 'S184', 'S203', 'S220', 'S241', 'S245', 'S260', 'S261', 'S283', 'S286', 'S293', 'S295', 'S304', 'S317', 'S340', 'S359']\n",
            "['S017', 'S081', 'S103', 'S125', 'S162', 'S182', 'S197', 'S243', 'S263', 'S329'] ['S007', 'S024', 'S037', 'S126', 'S127', 'S179', 'S327'] "
          ]
        }
      ],
      "source": [
        "printer(affinity_Propagation(K08_kodu1))"
      ]
    },
    {
      "cell_type": "code",
      "execution_count": 64,
      "metadata": {},
      "outputs": [
        {
          "name": "stdout",
          "output_type": "stream",
          "text": [
            "['S001', 'S002', 'S003', 'S004', 'S006', 'S007', 'S008', 'S010', 'S011', 'S012', 'S013', 'S016', 'S017', 'S019', 'S021', 'S022', 'S023', 'S024', 'S025', 'S026', 'S030', 'S033', 'S035', 'S036', 'S037', 'S038', 'S039', 'S040', 'S045', 'S047', 'S048', 'S049', 'S050', 'S052', 'S053', 'S055', 'S056', 'S057', 'S060', 'S061', 'S063', 'S064', 'S065', 'S067', 'S072', 'S074', 'S075', 'S077', 'S079', 'S080', 'S081', 'S082', 'S083', 'S085', 'S086', 'S087', 'S088', 'S091', 'S094', 'S097', 'S098', 'S099', 'S101', 'S102', 'S103', 'S105', 'S107', 'S111', 'S112', 'S113', 'S114', 'S115', 'S116', 'S117', 'S118', 'S119', 'S120', 'S122', 'S123', 'S124', 'S125', 'S126', 'S127', 'S128', 'S129', 'S132', 'S134', 'S137', 'S138', 'S139', 'S140', 'S141', 'S144', 'S147', 'S149', 'S152', 'S153', 'S154', 'S155', 'S158', 'S160', 'S162', 'S165', 'S167', 'S169', 'S171', 'S172', 'S174', 'S176', 'S177', 'S178', 'S179', 'S180', 'S182', 'S184', 'S186', 'S187', 'S189', 'S190', 'S191', 'S192', 'S193', 'S194', 'S197', 'S200', 'S201', 'S202', 'S203', 'S205', 'S208', 'S209', 'S211', 'S213', 'S214', 'S219', 'S220', 'S222', 'S224', 'S225', 'S226', 'S230', 'S232', 'S233', 'S234', 'S235', 'S238', 'S239', 'S241', 'S242', 'S243', 'S245', 'S246', 'S249', 'S254', 'S255', 'S259', 'S260', 'S261', 'S262', 'S263', 'S273', 'S274', 'S275', 'S276', 'S277', 'S278', 'S280', 'S283', 'S286', 'S287', 'S288', 'S290', 'S293', 'S295', 'S297', 'S299', 'S300', 'S302', 'S304', 'S305', 'S308', 'S311', 'S312', 'S315', 'S316', 'S317', 'S318', 'S322', 'S325', 'S326', 'S327', 'S328', 'S329', 'S330', 'S331', 'S333', 'S334', 'S335', 'S337', 'S340', 'S342', 'S344', 'S346', 'S347', 'S349', 'S350', 'S351', 'S352', 'S353', 'S354', 'S355', 'S356', 'S357', 'S358', 'S359', 'S362', 'S363', 'S365', 'S367', 'S370', 'S371', 'S373', 'S374', 'S376']\n",
            "['S166', 'S244', 'S096', 'S018', 'S143', 'S188', 'S272', 'S372', 'S163'] ['S032'] ['S034'] ['S043'] ['S046'] ['S051'] ['S068'] ['S069'] ['S070'] ['S071']\n",
            "['S073'] ['S078'] ['S084'] ['S092'] ['S093'] ['S095'] ['S100'] ['S130'] ['S133'] ['S135', 'S228'] ['S148'] ['S156'] ['S161'] ['S164'] ['S253', 'S212', 'S168']\n",
            "['S170'] ['S175'] ['S181'] ['S183'] ['S195'] ['S199'] ['S204'] ['S223', 'S269', 'S206'] ['S207'] ['S218'] ['S369', 'S227'] ['S247'] ['S250'] ['S251'] ['S256']\n",
            "['S258'] ['S266'] ['S271'] ['S291'] ['S292'] ['S296'] ['S303'] ['S309'] ['S320'] ['S339'] ['S345'] "
          ]
        }
      ],
      "source": [
        "printer(kruskal(K08_kodu1))"
      ]
    },
    {
      "cell_type": "code",
      "execution_count": 65,
      "metadata": {},
      "outputs": [],
      "source": [
        "K08_kodu3 = pd.read_csv(\"matrices/K08_kodu3.csv\", index_col=\"idx\")"
      ]
    },
    {
      "cell_type": "code",
      "execution_count": 66,
      "metadata": {},
      "outputs": [
        {
          "name": "stdout",
          "output_type": "stream",
          "text": [
            "['S008'] ['S030'] ['S036'] ['S056'] ['S065'] ['S080'] ['S087'] ['S094'] ['S069', 'S097', 'S122', 'S168', 'S183', 'S184', 'S190', 'S204', 'S235', 'S280', 'S331', 'S371']\n",
            "['S098'] ['S032', 'S105', 'S113', 'S116', 'S137', 'S140', 'S147', 'S180', 'S218', 'S251', 'S277', 'S337', 'S355'] ['S002', 'S018', 'S034', 'S053', 'S072', 'S100', 'S149', 'S228', 'S271', 'S320', 'S327']\n",
            "['S001', 'S010', 'S011', 'S021', 'S022', 'S023', 'S025', 'S035', 'S040', 'S045', 'S047', 'S049', 'S050', 'S051', 'S052', 'S055', 'S068', 'S070', 'S073', 'S075', 'S077', 'S081', 'S082', 'S083', 'S084', 'S085', 'S091', 'S095', 'S099', 'S112', 'S114', 'S117', 'S120', 'S124', 'S125', 'S129', 'S133', 'S134', 'S135', 'S138', 'S141', 'S144', 'S148', 'S152', 'S165', 'S167', 'S169', 'S174', 'S181', 'S188', 'S189', 'S191', 'S192', 'S203', 'S205', 'S206', 'S207', 'S208', 'S211', 'S212', 'S213', 'S219', 'S230', 'S232', 'S239', 'S246', 'S247', 'S252', 'S253', 'S254', 'S256', 'S260', 'S262', 'S269', 'S272', 'S275', 'S283', 'S293', 'S296', 'S303', 'S322', 'S325', 'S329', 'S333', 'S342', 'S344', 'S346', 'S347', 'S353', 'S356', 'S357', 'S362', 'S370', 'S374', 'S376']\n",
            "['S006', 'S007', 'S013', 'S037', 'S039', 'S046', 'S063', 'S078', 'S079', 'S088', 'S092', 'S102', 'S111', 'S118', 'S128', 'S143', 'S153', 'S155', 'S176', 'S178', 'S197', 'S200', 'S223', 'S225', 'S227', 'S258', 'S288', 'S309', 'S315', 'S330', 'S351', 'S352', 'S373']\n",
            "['S101', 'S158', 'S182', 'S312', 'S316'] ['S194'] ['S004', 'S171', 'S201'] ['S202'] ['S220'] ['S224'] ['S003', 'S086', 'S096', 'S103', 'S123', 'S132', 'S166', 'S172', 'S187', 'S222', 'S233', 'S234', 'S266', 'S292', 'S305', 'S326']\n",
            "['S238'] ['S244'] ['S249'] ['S261'] ['S012', 'S017', 'S061', 'S119', 'S164', 'S242', 'S276', 'S291', 'S302', 'S328', 'S334', 'S335', 'S345', 'S363']\n",
            "['S295'] ['S067', 'S139', 'S162', 'S163', 'S179', 'S214', 'S255', 'S299', 'S317'] ['S311'] ['S318'] ['S339'] ['S349'] ['S350'] ['S358'] ['S359'] ['S365']\n",
            "['S372'] "
          ]
        }
      ],
      "source": [
        "printer(affinity_Propagation(K08_kodu3))"
      ]
    },
    {
      "cell_type": "code",
      "execution_count": 67,
      "metadata": {},
      "outputs": [
        {
          "name": "stdout",
          "output_type": "stream",
          "text": [
            "['S001'] ['S004', 'S201'] ['S006'] ['S007'] ['S008'] ['S010'] ['S011'] ['S012'] ['S013'] ['S017'] ['S018'] ['S022'] ['S023'] ['S025'] ['S030'] ['S034'] ['S035']\n",
            "['S036'] ['S037'] ['S046'] ['S047'] ['S049'] ['S051'] ['S052'] ['S055'] ['S056'] ['S061', 'S242'] ['S063'] ['S065'] ['S067'] ['S070'] ['S002', 'S204', 'S320', 'S322', 'S118', 'S327', 'S021', 'S122', 'S331', 'S128', 'S225', 'S227', 'S039', 'S228', 'S045', 'S346', 'S235', 'S053', 'S149', 'S155', 'S069', 'S072', 'S168', 'S078', 'S178', 'S190', 'S097']\n",
            "['S073'] ['S075'] ['S077'] ['S079'] ['S080'] ['S081'] ['S083'] ['S084'] ['S085'] ['S086'] ['S087'] ['S092'] ['S094'] ['S095'] ['S096'] ['S098'] ['S099'] ['S100']\n",
            "['S101'] ['S102'] ['S105'] ['S111'] ['S112'] ['S113', 'S317'] ['S114'] ['S116'] ['S117'] ['S119'] ['S120'] ['S123'] ['S124'] ['S125'] ['S129'] ['S133'] ['S134']\n",
            "['S135'] ['S138'] ['S139'] ['S141'] ['S143'] ['S144'] ['S147'] ['S148'] ['S153'] ['S162'] ['S163'] ['S164'] ['S165'] ['S167'] ['S211', 'S329', 'S040', 'S347', 'S050', 'S246', 'S247', 'S152', 'S252', 'S068', 'S260', 'S169', 'S174', 'S082', 'S275', 'S283', 'S181', 'S088', 'S091']\n",
            "['S171'] ['S305', 'S003', 'S103', 'S326', 'S218', 'S222', 'S032', 'S337', 'S132', 'S345', 'S137', 'S234', 'S140', 'S355', 'S363', 'S166', 'S172', 'S277', 'S291', 'S302']\n",
            "['S176'] ['S179'] ['S180'] ['S316', 'S158', 'S182'] ['S183'] ['S184'] ['S187'] ['S188'] ['S189'] ['S191'] ['S192'] ['S194'] ['S197'] ['S200'] ['S202'] ['S203']\n",
            "['S205'] ['S206'] ['S207'] ['S208'] ['S212'] ['S233', 'S213'] ['S214'] ['S219'] ['S220'] ['S223'] ['S224'] ['S230'] ['S232'] ['S238'] ['S239'] ['S244'] ['S249']\n",
            "['S251'] ['S253'] ['S254'] ['S255'] ['S256'] ['S258'] ['S261'] ['S262'] ['S266'] ['S269'] ['S271'] ['S272'] ['S276'] ['S280'] ['S373', 'S288'] ['S292'] ['S293']\n",
            "['S295'] ['S296'] ['S299'] ['S303'] ['S309'] ['S311'] ['S312'] ['S315'] ['S318'] ['S325'] ['S328'] ['S330'] ['S333'] ['S334'] ['S335'] ['S339'] ['S342'] ['S344']\n",
            "['S349'] ['S350'] ['S351'] ['S352'] ['S353'] ['S356'] ['S357'] ['S358'] ['S359'] ['S362'] ['S365'] ['S370'] ['S371'] ['S372'] ['S374'] ['S376'] "
          ]
        }
      ],
      "source": [
        "printer(kruskal(K08_kodu3))"
      ]
    },
    {
      "cell_type": "code",
      "execution_count": 68,
      "metadata": {},
      "outputs": [],
      "source": [
        "K09_kodu1 = pd.read_csv(\"matrices/K09_kodu1.csv\", index_col=\"idx\")"
      ]
    },
    {
      "cell_type": "code",
      "execution_count": 69,
      "metadata": {},
      "outputs": [
        {
          "name": "stdout",
          "output_type": "stream",
          "text": [
            "['S013', 'S033', 'S035', 'S061', 'S078', 'S105', 'S173', 'S225', 'S242', 'S248', 'S254', 'S275', 'S282', 'S283', 'S289', 'S291', 'S331'] ['S044']\n",
            "['S001', 'S051', 'S092', 'S099', 'S327', 'S334'] ['S065'] ['S074'] ['S087'] ['S090'] ['S018', 'S056', 'S060', 'S109', 'S134', 'S199', 'S260', 'S326']\n",
            "['S110'] ['S016', 'S021', 'S038', 'S113', 'S115', 'S184', 'S278', 'S346', 'S359'] ['S002', 'S003', 'S007', 'S023', 'S024', 'S025', 'S030', 'S032', 'S043', 'S045', 'S046', 'S049', 'S053', 'S063', 'S070', 'S079', 'S080', 'S081', 'S082', 'S083', 'S085', 'S086', 'S091', 'S093', 'S095', 'S100', 'S101', 'S102', 'S103', 'S107', 'S112', 'S116', 'S118', 'S123', 'S124', 'S130', 'S133', 'S137', 'S138', 'S140', 'S148', 'S151', 'S152', 'S153', 'S155', 'S161', 'S163', 'S167', 'S168', 'S169', 'S174', 'S176', 'S181', 'S186', 'S187', 'S190', 'S191', 'S192', 'S195', 'S196', 'S197', 'S200', 'S203', 'S210', 'S211', 'S212', 'S213', 'S214', 'S222', 'S224', 'S227', 'S228', 'S234', 'S235', 'S239', 'S244', 'S246', 'S249', 'S251', 'S259', 'S264', 'S266', 'S271', 'S273', 'S274', 'S276', 'S279', 'S280', 'S287', 'S288', 'S292', 'S293', 'S295', 'S296', 'S302', 'S304', 'S307', 'S308', 'S311', 'S312', 'S317', 'S320', 'S325', 'S329', 'S330', 'S335', 'S337', 'S339', 'S342', 'S345', 'S351', 'S352', 'S356', 'S357', 'S362', 'S363', 'S365', 'S367', 'S369', 'S370', 'S373', 'S374']\n",
            "['S022', 'S037', 'S064', 'S119', 'S127', 'S178', 'S247', 'S250', 'S299', 'S340', 'S344', 'S347'] ['S154'] ['S158'] ['S004', 'S012', 'S014', 'S019', 'S034', 'S036', 'S047', 'S052', 'S055', 'S069', 'S072', 'S073', 'S077', 'S088', 'S097', 'S111', 'S128', 'S132', 'S135', 'S139', 'S141', 'S144', 'S147', 'S160', 'S164', 'S165', 'S166', 'S170', 'S171', 'S172', 'S179', 'S182', 'S188', 'S189', 'S194', 'S201', 'S205', 'S206', 'S208', 'S218', 'S219', 'S223', 'S230', 'S231', 'S232', 'S233', 'S241', 'S253', 'S256', 'S258', 'S303', 'S305', 'S309', 'S315', 'S322', 'S341', 'S353', 'S354', 'S372', 'S376']\n",
            "['S010', 'S011', 'S017', 'S026', 'S048', 'S050', 'S067', 'S098', 'S114', 'S120', 'S121', 'S122', 'S129', 'S143', 'S149', 'S162', 'S177', 'S180', 'S183', 'S202', 'S207', 'S220', 'S226', 'S245', 'S269', 'S272', 'S277', 'S300', 'S316', 'S328', 'S333', 'S355', 'S371']\n",
            "['S027', 'S084', 'S096', 'S117', 'S243', 'S263', 'S364'] ['S262'] ['S290'] "
          ]
        }
      ],
      "source": [
        "printer(affinity_Propagation(K09_kodu1))"
      ]
    },
    {
      "cell_type": "code",
      "execution_count": 70,
      "metadata": {},
      "outputs": [
        {
          "name": "stdout",
          "output_type": "stream",
          "text": [
            "['S001', 'S327'] ['S004'] ['S010'] ['S011'] ['S012'] ['S014'] ['S017'] ['S019'] ['S022'] ['S025'] ['S026'] ['S027'] ['S033'] ['S034'] ['S035'] ['S036'] ['S037']\n",
            "['S038'] ['S373', 'S043', 'S174'] ['S044'] ['S047'] ['S048', 'S220', 'S371'] ['S247', 'S050'] ['S052'] ['S053'] ['S055'] ['S063'] ['S064'] ['S065'] ['S067']\n",
            "['S072'] ['S073'] ['S074'] ['S077'] ['S080'] ['S083', 'S288'] ['S002', 'S003', 'S007', 'S013', 'S016', 'S018', 'S021', 'S023', 'S024', 'S030', 'S032', 'S045', 'S046', 'S049', 'S051', 'S056', 'S060', 'S061', 'S069', 'S070', 'S078', 'S079', 'S081', 'S082', 'S084', 'S085', 'S086', 'S091', 'S092', 'S093', 'S095', 'S099', 'S100', 'S102', 'S107', 'S109', 'S111', 'S112', 'S113', 'S115', 'S116', 'S117', 'S118', 'S119', 'S123', 'S127', 'S130', 'S133', 'S134', 'S138', 'S140', 'S148', 'S151', 'S152', 'S153', 'S160', 'S163', 'S167', 'S168', 'S169', 'S173', 'S177', 'S178', 'S181', 'S182', 'S186', 'S187', 'S190', 'S192', 'S195', 'S196', 'S199', 'S200', 'S210', 'S211', 'S212', 'S222', 'S224', 'S225', 'S228', 'S231', 'S234', 'S235', 'S242', 'S243', 'S246', 'S253', 'S259', 'S260', 'S263', 'S266', 'S271', 'S273', 'S274', 'S275', 'S276', 'S278', 'S279', 'S287', 'S291', 'S292', 'S295', 'S296', 'S302', 'S304', 'S307', 'S308', 'S311', 'S317', 'S320', 'S325', 'S326', 'S329', 'S337', 'S339', 'S340', 'S342', 'S346', 'S351', 'S356', 'S357', 'S359', 'S363', 'S364', 'S365', 'S367', 'S369', 'S374']\n",
            "['S087'] ['S088'] ['S090'] ['S096'] ['S097'] ['S098'] ['S101'] ['S249', 'S103'] ['S105'] ['S110'] ['S114'] ['S120'] ['S121'] ['S122'] ['S124'] ['S128'] ['S129']\n",
            "['S132'] ['S135'] ['S137'] ['S139'] ['S141'] ['S143'] ['S144'] ['S147'] ['S149'] ['S154'] ['S155'] ['S158'] ['S161'] ['S162'] ['S164'] ['S165'] ['S166'] ['S170']\n",
            "['S171'] ['S172'] ['S176'] ['S179'] ['S180'] ['S183'] ['S184'] ['S188'] ['S189', 'S232'] ['S191'] ['S194'] ['S197'] ['S201'] ['S202'] ['S203'] ['S205'] ['S206']\n",
            "['S207'] ['S208'] ['S233', 'S213'] ['S214'] ['S218'] ['S219'] ['S223'] ['S226'] ['S227'] ['S230'] ['S239'] ['S241'] ['S244'] ['S245'] ['S248'] ['S250'] ['S251']\n",
            "['S254', 'S347'] ['S256'] ['S258'] ['S262'] ['S264'] ['S269'] ['S272'] ['S277'] ['S280'] ['S282'] ['S283', 'S289'] ['S290'] ['S293'] ['S299'] ['S300'] ['S303']\n",
            "['S305'] ['S309'] ['S312'] ['S315'] ['S316'] ['S322'] ['S328'] ['S330'] ['S331'] ['S333'] ['S334'] ['S335'] ['S341'] ['S344'] ['S345'] ['S352'] ['S353'] ['S354']\n",
            "['S355'] ['S362'] ['S370'] ['S372'] ['S376'] "
          ]
        }
      ],
      "source": [
        "printer(kruskal(K09_kodu1))"
      ]
    },
    {
      "cell_type": "code",
      "execution_count": 71,
      "metadata": {},
      "outputs": [],
      "source": [
        "K09_kodu2 = pd.read_csv(\"matrices/K09_kodu2.csv\", index_col=\"idx\")"
      ]
    },
    {
      "cell_type": "code",
      "execution_count": 72,
      "metadata": {},
      "outputs": [
        {
          "name": "stdout",
          "output_type": "stream",
          "text": [
            "['S002', 'S004', 'S007', 'S052', 'S072', 'S074', 'S084', 'S099', 'S139', 'S143', 'S163', 'S213', 'S253', 'S309', 'S320'] ['S012', 'S051', 'S061', 'S097', 'S118', 'S196', 'S212', 'S303', 'S328', 'S372']\n",
            "['S001', 'S003', 'S026', 'S047', 'S064', 'S080', 'S082', 'S088', 'S119', 'S120', 'S126', 'S154', 'S169', 'S187', 'S190', 'S194', 'S238', 'S308', 'S342', 'S357']\n",
            "['S036'] ['S038', 'S124', 'S133', 'S148', 'S227', 'S232', 'S239', 'S241', 'S293', 'S351', 'S376'] ['S006', 'S016', 'S049', 'S050', 'S083', 'S086', 'S134', 'S173', 'S207', 'S214', 'S224', 'S272']\n",
            "['S030', 'S034', 'S060', 'S092', 'S181', 'S233', 'S296', 'S334', 'S346', 'S359', 'S362'] ['S032', 'S048', 'S065', 'S220', 'S251', 'S259', 'S371']\n",
            "['S027', 'S069', 'S078', 'S101', 'S178'] ['S022', 'S035', 'S046', 'S070', 'S073', 'S081', 'S090', 'S102', 'S168', 'S171', 'S199', 'S203', 'S210', 'S245', 'S256', 'S275', 'S277', 'S292', 'S340', 'S356', 'S363', 'S369']\n",
            "['S013', 'S053', 'S085', 'S127', 'S200'] ['S025', 'S091', 'S094', 'S095', 'S116', 'S129', 'S130', 'S132', 'S140', 'S167', 'S174', 'S192', 'S211', 'S228', 'S234', 'S244', 'S254', 'S260', 'S266', 'S271', 'S311', 'S333', 'S345']\n",
            "['S093'] ['S096', 'S103', 'S135', 'S165', 'S202', 'S206', 'S374'] ['S021', 'S117', 'S121', 'S155', 'S176', 'S243', 'S269', 'S279', 'S331', 'S370']\n",
            "['S017', 'S087', 'S110', 'S138', 'S160', 'S164', 'S177', 'S183', 'S201', 'S218', 'S242', 'S246', 'S263', 'S302', 'S312', 'S316', 'S344', 'S347']\n",
            "['S024', 'S180', 'S193', 'S195', 'S278', 'S290', 'S291', 'S295', 'S299', 'S304', 'S330', 'S349'] ['S010', 'S011', 'S018', 'S019', 'S033', 'S037', 'S043', 'S044', 'S055', 'S063', 'S067', 'S077', 'S079', 'S098', 'S100', 'S105', 'S111', 'S113', 'S114', 'S115', 'S122', 'S123', 'S128', 'S137', 'S141', 'S144', 'S147', 'S149', 'S151', 'S152', 'S153', 'S158', 'S162', 'S166', 'S170', 'S172', 'S179', 'S182', 'S184', 'S186', 'S188', 'S189', 'S191', 'S197', 'S204', 'S205', 'S208', 'S219', 'S222', 'S223', 'S226', 'S230', 'S235', 'S248', 'S249', 'S250', 'S258', 'S262', 'S264', 'S273', 'S274', 'S276', 'S280', 'S282', 'S287', 'S300', 'S305', 'S307', 'S315', 'S317', 'S322', 'S325', 'S326', 'S327', 'S335', 'S337', 'S339', 'S352', 'S353', 'S354', 'S355', 'S365', 'S367']\n",
            "['S023', 'S045', 'S056', 'S109', 'S112', 'S225', 'S247', 'S283', 'S288', 'S289', 'S329', 'S373'] "
          ]
        }
      ],
      "source": [
        "printer(affinity_Propagation(K09_kodu2))"
      ]
    },
    {
      "cell_type": "code",
      "execution_count": 73,
      "metadata": {},
      "outputs": [
        {
          "name": "stdout",
          "output_type": "stream",
          "text": [
            "['S018'] ['S032'] ['S033'] ['S036'] ['S043'] ['S044'] ['S048', 'S371', 'S259', 'S220', 'S065'] ['S001', 'S002', 'S003', 'S004', 'S006', 'S007', 'S010', 'S011', 'S012', 'S013', 'S016', 'S017', 'S019', 'S021', 'S022', 'S023', 'S024', 'S025', 'S026', 'S027', 'S030', 'S034', 'S035', 'S037', 'S038', 'S045', 'S046', 'S047', 'S049', 'S050', 'S051', 'S052', 'S053', 'S056', 'S060', 'S061', 'S063', 'S067', 'S069', 'S070', 'S072', 'S073', 'S074', 'S078', 'S080', 'S081', 'S083', 'S084', 'S085', 'S086', 'S087', 'S088', 'S090', 'S091', 'S092', 'S094', 'S095', 'S096', 'S097', 'S098', 'S099', 'S101', 'S102', 'S103', 'S109', 'S110', 'S111', 'S112', 'S113', 'S115', 'S116', 'S117', 'S118', 'S121', 'S123', 'S124', 'S126', 'S128', 'S129', 'S130', 'S132', 'S133', 'S134', 'S135', 'S138', 'S139', 'S140', 'S143', 'S148', 'S151', 'S153', 'S155', 'S160', 'S163', 'S164', 'S167', 'S168', 'S169', 'S170', 'S171', 'S173', 'S174', 'S176', 'S177', 'S178', 'S180', 'S181', 'S183', 'S186', 'S187', 'S190', 'S192', 'S193', 'S195', 'S196', 'S199', 'S200', 'S201', 'S202', 'S203', 'S204', 'S206', 'S207', 'S210', 'S211', 'S212', 'S213', 'S214', 'S218', 'S219', 'S222', 'S224', 'S225', 'S227', 'S228', 'S233', 'S234', 'S238', 'S239', 'S241', 'S242', 'S243', 'S244', 'S246', 'S247', 'S248', 'S253', 'S254', 'S256', 'S260', 'S263', 'S264', 'S266', 'S269', 'S271', 'S272', 'S274', 'S275', 'S276', 'S277', 'S278', 'S279', 'S280', 'S283', 'S287', 'S288', 'S289', 'S290', 'S291', 'S292', 'S293', 'S295', 'S296', 'S299', 'S300', 'S302', 'S303', 'S304', 'S305', 'S308', 'S309', 'S311', 'S312', 'S316', 'S317', 'S320', 'S328', 'S329', 'S330', 'S331', 'S333', 'S334', 'S337', 'S339', 'S344', 'S345', 'S346', 'S347', 'S349', 'S351', 'S354', 'S356', 'S357', 'S359', 'S362', 'S363', 'S365', 'S367', 'S370', 'S372', 'S373', 'S374', 'S376']\n",
            "['S055'] ['S077', 'S165', 'S100', 'S064'] ['S079'] ['S082'] ['S093'] ['S105'] ['S114'] ['S119'] ['S120'] ['S122'] ['S127'] ['S137'] ['S141'] ['S144'] ['S147', 'S230', 'S325']\n",
            "['S149'] ['S152'] ['S154'] ['S158'] ['S226', 'S235', 'S162'] ['S166'] ['S172'] ['S179'] ['S182'] ['S184'] ['S188'] ['S189'] ['S191'] ['S194'] ['S197'] ['S205']\n",
            "['S208'] ['S223'] ['S232'] ['S245'] ['S249'] ['S250'] ['S251'] ['S258'] ['S262'] ['S273'] ['S282'] ['S307'] ['S315'] ['S322'] ['S326'] ['S327'] ['S335'] ['S340']\n",
            "['S342'] ['S352'] ['S353'] ['S355'] ['S369'] "
          ]
        }
      ],
      "source": [
        "printer(kruskal(K09_kodu2))"
      ]
    },
    {
      "cell_type": "code",
      "execution_count": 74,
      "metadata": {},
      "outputs": [],
      "source": [
        "K10_kodu1 = pd.read_csv(\"matrices/K10_kodu1.csv\", index_col=\"idx\")"
      ]
    },
    {
      "cell_type": "code",
      "execution_count": 75,
      "metadata": {},
      "outputs": [
        {
          "name": "stdout",
          "output_type": "stream",
          "text": [
            "['S063', 'S064', 'S071', 'S088', 'S094', 'S110', 'S111', 'S126', 'S137', 'S186', 'S241', 'S243', 'S245', 'S252', 'S260', 'S278', 'S297', 'S322', 'S341', 'S349', 'S353', 'S370', 'S371']\n",
            "['S026', 'S072', 'S074', 'S075', 'S082', 'S093', 'S134', 'S171', 'S184', 'S191', 'S193', 'S222', 'S244', 'S249', 'S272', 'S273', 'S279', 'S323', 'S355', 'S365', 'S372']\n",
            "['S001', 'S002', 'S003', 'S006', 'S007', 'S008', 'S010', 'S011', 'S012', 'S017', 'S018', 'S019', 'S021', 'S022', 'S023', 'S024', 'S025', 'S027', 'S029', 'S032', 'S033', 'S034', 'S035', 'S036', 'S037', 'S039', 'S040', 'S043', 'S045', 'S046', 'S047', 'S049', 'S050', 'S051', 'S052', 'S053', 'S055', 'S056', 'S060', 'S061', 'S065', 'S067', 'S069', 'S070', 'S073', 'S077', 'S078', 'S079', 'S080', 'S081', 'S083', 'S084', 'S085', 'S086', 'S087', 'S090', 'S091', 'S092', 'S095', 'S096', 'S097', 'S099', 'S100', 'S101', 'S102', 'S103', 'S105', 'S107', 'S109', 'S112', 'S113', 'S114', 'S117', 'S118', 'S119', 'S120', 'S121', 'S122', 'S124', 'S127', 'S128', 'S129', 'S130', 'S132', 'S133', 'S135', 'S138', 'S139', 'S140', 'S141', 'S143', 'S147', 'S148', 'S149', 'S151', 'S152', 'S153', 'S154', 'S155', 'S158', 'S161', 'S162', 'S164', 'S165', 'S166', 'S167', 'S168', 'S169', 'S170', 'S172', 'S173', 'S174', 'S176', 'S177', 'S178', 'S179', 'S180', 'S181', 'S182', 'S183', 'S185', 'S187', 'S188', 'S189', 'S192', 'S195', 'S197', 'S200', 'S201', 'S202', 'S203', 'S204', 'S205', 'S206', 'S207', 'S208', 'S209', 'S210', 'S211', 'S212', 'S213', 'S218', 'S219', 'S220', 'S223', 'S224', 'S225', 'S227', 'S228', 'S230', 'S232', 'S233', 'S234', 'S235', 'S242', 'S246', 'S247', 'S248', 'S250', 'S251', 'S253', 'S254', 'S258', 'S262', 'S263', 'S264', 'S265', 'S266', 'S271', 'S274', 'S275', 'S276', 'S277', 'S283', 'S288', 'S289', 'S290', 'S291', 'S292', 'S293', 'S296', 'S299', 'S300', 'S303', 'S307', 'S309', 'S311', 'S312', 'S315', 'S316', 'S317', 'S318', 'S320', 'S325', 'S326', 'S327', 'S328', 'S329', 'S330', 'S331', 'S333', 'S334', 'S335', 'S337', 'S342', 'S343', 'S345', 'S346', 'S347', 'S351', 'S352', 'S356', 'S357', 'S358', 'S363', 'S373', 'S374', 'S376', 'S377']\n",
            "['S038', 'S116', 'S160', 'S190', 'S214', 'S236', 'S304', 'S308', 'S340', 'S354', 'S362'] ['S257'] ['S259'] ['S238', 'S239', 'S280', 'S344', 'S364']\n"
          ]
        }
      ],
      "source": [
        "printer(affinity_Propagation(K10_kodu1))"
      ]
    },
    {
      "cell_type": "code",
      "execution_count": 76,
      "metadata": {},
      "outputs": [
        {
          "name": "stdout",
          "output_type": "stream",
          "text": [
            "['S055'] ['S064'] ['S071'] ['S082'] ['S110'] ['S121'] ['S126'] ['S155'] ['S206'] ['S241'] ['S243'] ['S245'] ['S001', 'S002', 'S003', 'S006', 'S007', 'S008', 'S010', 'S011', 'S012', 'S017', 'S018', 'S019', 'S021', 'S022', 'S023', 'S024', 'S025', 'S026', 'S027', 'S029', 'S032', 'S033', 'S034', 'S035', 'S036', 'S037', 'S038', 'S039', 'S040', 'S043', 'S045', 'S046', 'S047', 'S049', 'S050', 'S051', 'S052', 'S053', 'S056', 'S060', 'S061', 'S063', 'S065', 'S067', 'S069', 'S070', 'S072', 'S073', 'S074', 'S075', 'S077', 'S078', 'S079', 'S080', 'S081', 'S083', 'S084', 'S085', 'S086', 'S087', 'S088', 'S090', 'S091', 'S092', 'S093', 'S094', 'S095', 'S096', 'S097', 'S099', 'S100', 'S101', 'S102', 'S103', 'S105', 'S107', 'S109', 'S111', 'S112', 'S113', 'S114', 'S116', 'S117', 'S118', 'S119', 'S120', 'S122', 'S124', 'S127', 'S128', 'S129', 'S130', 'S132', 'S133', 'S134', 'S135', 'S137', 'S138', 'S139', 'S140', 'S141', 'S143', 'S147', 'S148', 'S149', 'S151', 'S152', 'S153', 'S154', 'S158', 'S160', 'S161', 'S162', 'S164', 'S165', 'S166', 'S167', 'S168', 'S169', 'S170', 'S171', 'S172', 'S173', 'S174', 'S176', 'S177', 'S178', 'S179', 'S180', 'S181', 'S182', 'S183', 'S184', 'S185', 'S186', 'S187', 'S188', 'S189', 'S190', 'S191', 'S192', 'S193', 'S195', 'S197', 'S200', 'S201', 'S202', 'S203', 'S204', 'S205', 'S207', 'S208', 'S209', 'S210', 'S211', 'S212', 'S213', 'S214', 'S218', 'S219', 'S220', 'S222', 'S223', 'S224', 'S225', 'S227', 'S228', 'S230', 'S232', 'S233', 'S234', 'S235', 'S236', 'S238', 'S239', 'S242', 'S244', 'S246', 'S247', 'S248', 'S249', 'S250', 'S251', 'S252', 'S253', 'S254', 'S258', 'S260', 'S262', 'S263', 'S264', 'S265', 'S266', 'S271', 'S272', 'S273', 'S274', 'S275', 'S276', 'S277', 'S278', 'S279', 'S280', 'S283', 'S288', 'S289', 'S290', 'S291', 'S292', 'S293', 'S296', 'S297', 'S299', 'S300', 'S303', 'S304', 'S307', 'S308', 'S309', 'S311', 'S312', 'S315', 'S316', 'S317', 'S318', 'S320', 'S322', 'S323', 'S325', 'S326', 'S327', 'S328', 'S329', 'S330', 'S331', 'S333', 'S334', 'S335', 'S337', 'S340', 'S341', 'S342', 'S343', 'S344', 'S345', 'S346', 'S347', 'S349', 'S351', 'S352', 'S353', 'S354', 'S356', 'S357', 'S358', 'S363', 'S364', 'S365', 'S370', 'S372', 'S373', 'S374', 'S376', 'S377']\n",
            "['S257'] ['S259'] ['S355'] ['S362'] ['S371'] "
          ]
        }
      ],
      "source": [
        "printer(kruskal(K10_kodu1))"
      ]
    },
    {
      "cell_type": "code",
      "execution_count": 77,
      "metadata": {},
      "outputs": [],
      "source": [
        "K10_kodu2 = pd.read_csv(\"matrices/K10_kodu2.csv\", index_col=\"idx\")"
      ]
    },
    {
      "cell_type": "code",
      "execution_count": 78,
      "metadata": {},
      "outputs": [
        {
          "name": "stdout",
          "output_type": "stream",
          "text": [
            "['S040'] ['S046'] ['S056'] ['S060', 'S064', 'S111', 'S172', 'S179', 'S208', 'S210', 'S228', 'S279', 'S291', 'S349'] ['S073'] ['S087'] ['S101'] ['S121']\n",
            "['S001', 'S006', 'S007', 'S010', 'S011', 'S012', 'S017', 'S018', 'S019', 'S021', 'S022', 'S024', 'S025', 'S026', 'S029', 'S032', 'S033', 'S034', 'S035', 'S037', 'S045', 'S050', 'S053', 'S061', 'S065', 'S069', 'S071', 'S077', 'S079', 'S080', 'S083', 'S085', 'S088', 'S090', 'S091', 'S092', 'S097', 'S100', 'S105', 'S112', 'S113', 'S114', 'S117', 'S120', 'S122', 'S124', 'S127', 'S130', 'S134', 'S135', 'S137', 'S141', 'S147', 'S152', 'S153', 'S160', 'S162', 'S165', 'S167', 'S170', 'S174', 'S176', 'S177', 'S178', 'S180', 'S183', 'S184', 'S188', 'S189', 'S190', 'S191', 'S199', 'S200', 'S203', 'S207', 'S213', 'S214', 'S219', 'S220', 'S223', 'S225', 'S227', 'S230', 'S233', 'S234', 'S235', 'S239', 'S242', 'S246', 'S247', 'S249', 'S253', 'S259', 'S262', 'S263', 'S274', 'S276', 'S280', 'S288', 'S290', 'S292', 'S299', 'S300', 'S307', 'S315', 'S316', 'S317', 'S318', 'S322', 'S325', 'S326', 'S329', 'S330', 'S334', 'S337', 'S340', 'S342', 'S344', 'S345', 'S351', 'S352', 'S353', 'S363', 'S372', 'S373', 'S376']\n",
            "['S027', 'S063', 'S067', 'S078', 'S119', 'S133', 'S168', 'S169', 'S192', 'S264', 'S296', 'S331', 'S347'] ['S201'] ['S202'] ['S238'] ['S047', 'S052', 'S081', 'S082', 'S096', 'S116', 'S129', 'S138', 'S151', 'S161', 'S204', 'S211', 'S241', 'S244', 'S245', 'S251', 'S272', 'S275', 'S277', 'S283', 'S289', 'S293', 'S304', 'S308', 'S362', 'S365']\n",
            "['S002', 'S003', 'S036', 'S039', 'S043', 'S049', 'S051', 'S055', 'S070', 'S072', 'S075', 'S084', 'S086', 'S095', 'S099', 'S102', 'S103', 'S107', 'S118', 'S128', 'S132', 'S139', 'S140', 'S143', 'S148', 'S149', 'S155', 'S164', 'S166', 'S171', 'S173', 'S181', 'S187', 'S197', 'S205', 'S206', 'S212', 'S218', 'S222', 'S224', 'S232', 'S243', 'S248', 'S254', 'S257', 'S258', 'S265', 'S266', 'S271', 'S297', 'S303', 'S309', 'S312', 'S320', 'S327', 'S328', 'S333', 'S335', 'S341', 'S343', 'S370', 'S371', 'S374', 'S377']\n",
            "['S311'] ['S346'] ['S356'] ['S357'] ['S364'] "
          ]
        }
      ],
      "source": [
        "printer(affinity_Propagation(K10_kodu2))"
      ]
    },
    {
      "cell_type": "code",
      "execution_count": 79,
      "metadata": {},
      "outputs": [
        {
          "name": "stdout",
          "output_type": "stream",
          "text": [
            "['S027'] ['S040'] ['S043'] ['S046'] ['S056'] ['S060'] ['S067'] ['S073'] ['S087'] ['S101'] ['S121'] ['S127'] ['S133'] ['S139'] ['S147'] ['S160'] ['S169'] ['S201']\n",
            "['S202'] ['S210'] ['S001', 'S002', 'S003', 'S006', 'S007', 'S010', 'S011', 'S012', 'S017', 'S018', 'S019', 'S021', 'S022', 'S024', 'S025', 'S026', 'S029', 'S032', 'S033', 'S034', 'S035', 'S036', 'S037', 'S039', 'S045', 'S047', 'S049', 'S050', 'S051', 'S052', 'S053', 'S055', 'S061', 'S063', 'S064', 'S065', 'S069', 'S070', 'S071', 'S072', 'S075', 'S077', 'S078', 'S079', 'S080', 'S081', 'S082', 'S083', 'S084', 'S085', 'S086', 'S088', 'S090', 'S091', 'S092', 'S095', 'S096', 'S097', 'S099', 'S100', 'S102', 'S103', 'S105', 'S107', 'S111', 'S112', 'S113', 'S114', 'S116', 'S117', 'S118', 'S119', 'S120', 'S122', 'S124', 'S128', 'S129', 'S130', 'S132', 'S134', 'S135', 'S137', 'S138', 'S140', 'S141', 'S143', 'S148', 'S149', 'S151', 'S152', 'S153', 'S155', 'S161', 'S162', 'S164', 'S165', 'S166', 'S167', 'S168', 'S170', 'S171', 'S172', 'S173', 'S174', 'S176', 'S177', 'S178', 'S179', 'S180', 'S181', 'S183', 'S184', 'S187', 'S188', 'S189', 'S190', 'S191', 'S192', 'S197', 'S199', 'S200', 'S203', 'S204', 'S205', 'S206', 'S207', 'S208', 'S211', 'S212', 'S214', 'S218', 'S219', 'S220', 'S222', 'S223', 'S224', 'S225', 'S227', 'S228', 'S230', 'S232', 'S233', 'S234', 'S235', 'S239', 'S242', 'S243', 'S244', 'S245', 'S246', 'S247', 'S248', 'S249', 'S251', 'S253', 'S254', 'S258', 'S259', 'S262', 'S263', 'S265', 'S266', 'S271', 'S272', 'S274', 'S275', 'S276', 'S277', 'S279', 'S283', 'S288', 'S289', 'S290', 'S291', 'S292', 'S293', 'S297', 'S299', 'S300', 'S303', 'S304', 'S307', 'S308', 'S312', 'S315', 'S316', 'S317', 'S318', 'S320', 'S322', 'S325', 'S326', 'S328', 'S329', 'S330', 'S331', 'S333', 'S334', 'S335', 'S337', 'S340', 'S342', 'S343', 'S345', 'S349', 'S351', 'S352', 'S353', 'S362', 'S363', 'S365', 'S370', 'S371', 'S372', 'S373', 'S374', 'S376', 'S377']\n",
            "['S213'] ['S238'] ['S241'] ['S257'] ['S264'] ['S280'] ['S296'] ['S309'] ['S311'] ['S327'] ['S341'] ['S344'] ['S346'] ['S347'] ['S356'] ['S357'] ['S364'] "
          ]
        }
      ],
      "source": [
        "printer(kruskal(K10_kodu2))"
      ]
    },
    {
      "cell_type": "code",
      "execution_count": 80,
      "metadata": {},
      "outputs": [],
      "source": [
        "K11_kodu1 = pd.read_csv(\"matrices/K11_kodu1.csv\", index_col=\"idx\")"
      ]
    },
    {
      "cell_type": "code",
      "execution_count": 81,
      "metadata": {},
      "outputs": [
        {
          "name": "stdout",
          "output_type": "stream",
          "text": [
            "['S001', 'S012', 'S018', 'S021', 'S040', 'S052', 'S057', 'S081', 'S082', 'S090', 'S093', 'S094', 'S095', 'S112', 'S113', 'S114', 'S119', 'S120', 'S126', 'S137', 'S148', 'S184', 'S191', 'S195', 'S210', 'S223', 'S255', 'S259', 'S260', 'S262', 'S317', 'S320', 'S340', 'S341', 'S357', 'S359', 'S367']\n",
            "['S010', 'S022', 'S023', 'S037', 'S039', 'S063', 'S069', 'S088', 'S100', 'S102', 'S103', 'S138', 'S144', 'S151', 'S165', 'S168', 'S176', 'S192', 'S208', 'S214', 'S220', 'S230', 'S233', 'S239', 'S242', 'S249', 'S258', 'S312', 'S315', 'S335', 'S352', 'S362', 'S363', 'S372']\n",
            "['S006', 'S007', 'S011', 'S013', 'S017', 'S060', 'S064', 'S096', 'S097', 'S128', 'S141', 'S164', 'S203', 'S211', 'S228', 'S246', 'S311', 'S331', 'S345', 'S370']\n",
            "['S044', 'S086', 'S122', 'S130', 'S158', 'S193', 'S224', 'S346', 'S347', 'S364', 'S377'] ['S201'] ['S050', 'S067', 'S072', 'S073', 'S084', 'S149', 'S162', 'S171', 'S182', 'S183', 'S188', 'S207', 'S236', 'S288', 'S303', 'S307', 'S322', 'S353']\n",
            "['S008', 'S014', 'S019', 'S024', 'S029', 'S032', 'S033', 'S036', 'S038', 'S041', 'S043', 'S047', 'S049', 'S055', 'S061', 'S070', 'S071', 'S075', 'S078', 'S080', 'S087', 'S105', 'S110', 'S111', 'S116', 'S121', 'S127', 'S133', 'S143', 'S147', 'S152', 'S153', 'S155', 'S156', 'S160', 'S173', 'S177', 'S178', 'S189', 'S190', 'S196', 'S204', 'S205', 'S218', 'S227', 'S232', 'S235', 'S241', 'S243', 'S244', 'S247', 'S254', 'S256', 'S263', 'S264', 'S273', 'S274', 'S277', 'S278', 'S286', 'S291', 'S293', 'S296', 'S304', 'S309', 'S327', 'S329', 'S344', 'S349', 'S355', 'S368', 'S371', 'S374']\n",
            "['S002', 'S003', 'S025', 'S027', 'S030', 'S034', 'S046', 'S051', 'S074', 'S077', 'S079', 'S083', 'S091', 'S104', 'S109', 'S117', 'S118', 'S124', 'S132', 'S134', 'S140', 'S163', 'S166', 'S167', 'S169', 'S174', 'S181', 'S186', 'S187', 'S199', 'S200', 'S202', 'S206', 'S212', 'S213', 'S219', 'S225', 'S234', 'S248', 'S251', 'S266', 'S269', 'S271', 'S275', 'S276', 'S279', 'S280', 'S282', 'S283', 'S287', 'S292', 'S297', 'S333', 'S342', 'S351', 'S373', 'S376']\n",
            "['S035', 'S045', 'S048', 'S053', 'S085', 'S099', 'S135', 'S161', 'S197', 'S316', 'S326', 'S337'] ['S107', 'S325', 'S330'] ['S354'] "
          ]
        }
      ],
      "source": [
        "printer(affinity_Propagation(K11_kodu1))"
      ]
    },
    {
      "cell_type": "code",
      "execution_count": 82,
      "metadata": {},
      "outputs": [
        {
          "name": "stdout",
          "output_type": "stream",
          "text": [
            "['S006'] ['S010'] ['S011'] ['S064', 'S017'] ['S023'] ['S027'] ['S034'] ['S035'] ['S037'] ['S039'] ['S044'] ['S045'] ['S050'] ['S051'] ['S067'] ['S069'] ['S072']\n",
            "['S073'] ['S084'] ['S086'] ['S088'] ['S096'] ['S097'] ['S099'] ['S100'] ['S102'] ['S104'] ['S107', 'S330'] ['S109'] ['S116'] ['S118'] ['S128'] ['S132'] ['S134']\n",
            "['S135'] ['S138'] ['S140'] ['S144'] ['S147'] ['S149'] ['S001', 'S002', 'S003', 'S007', 'S008', 'S012', 'S013', 'S014', 'S018', 'S019', 'S021', 'S022', 'S024', 'S025', 'S029', 'S030', 'S032', 'S033', 'S036', 'S038', 'S040', 'S041', 'S043', 'S046', 'S047', 'S048', 'S049', 'S052', 'S053', 'S055', 'S057', 'S060', 'S061', 'S063', 'S070', 'S071', 'S074', 'S075', 'S077', 'S078', 'S079', 'S080', 'S081', 'S082', 'S083', 'S085', 'S087', 'S090', 'S091', 'S093', 'S094', 'S095', 'S103', 'S105', 'S110', 'S111', 'S112', 'S113', 'S114', 'S117', 'S119', 'S120', 'S121', 'S122', 'S124', 'S126', 'S127', 'S130', 'S133', 'S137', 'S141', 'S143', 'S148', 'S151', 'S152', 'S153', 'S155', 'S156', 'S158', 'S160', 'S161', 'S163', 'S164', 'S166', 'S167', 'S173', 'S174', 'S177', 'S178', 'S181', 'S183', 'S184', 'S186', 'S189', 'S190', 'S191', 'S193', 'S195', 'S196', 'S199', 'S200', 'S202', 'S205', 'S210', 'S211', 'S213', 'S218', 'S219', 'S223', 'S224', 'S225', 'S227', 'S228', 'S234', 'S235', 'S236', 'S241', 'S243', 'S247', 'S248', 'S254', 'S255', 'S256', 'S258', 'S259', 'S260', 'S262', 'S263', 'S264', 'S266', 'S269', 'S273', 'S274', 'S275', 'S276', 'S277', 'S278', 'S279', 'S282', 'S283', 'S286', 'S288', 'S291', 'S292', 'S293', 'S296', 'S304', 'S307', 'S309', 'S316', 'S317', 'S320', 'S322', 'S326', 'S327', 'S337', 'S340', 'S341', 'S344', 'S349', 'S351', 'S352', 'S355', 'S357', 'S359', 'S364', 'S368', 'S370', 'S371', 'S372', 'S373', 'S376', 'S377']\n",
            "['S182', 'S162'] ['S165'] ['S168'] ['S169'] ['S171'] ['S176'] ['S187'] ['S188'] ['S192'] ['S197'] ['S201'] ['S203'] ['S204'] ['S206'] ['S207'] ['S208'] ['S212']\n",
            "['S214'] ['S220'] ['S230'] ['S232'] ['S233'] ['S239'] ['S242'] ['S244'] ['S246'] ['S249'] ['S251'] ['S271'] ['S280'] ['S287'] ['S297'] ['S303'] ['S311'] ['S312']\n",
            "['S315'] ['S325'] ['S329'] ['S331'] ['S333'] ['S335'] ['S342'] ['S345'] ['S346'] ['S347'] ['S353'] ['S354'] ['S362'] ['S363'] ['S367'] ['S374'] "
          ]
        }
      ],
      "source": [
        "printer(kruskal(K11_kodu1))"
      ]
    },
    {
      "cell_type": "code",
      "execution_count": 83,
      "metadata": {},
      "outputs": [],
      "source": [
        "K11_kodu2 = pd.read_csv(\"matrices/K11_kodu2.csv\", index_col=\"idx\")"
      ]
    },
    {
      "cell_type": "code",
      "execution_count": 84,
      "metadata": {},
      "outputs": [
        {
          "name": "stdout",
          "output_type": "stream",
          "text": [
            "['S003', 'S007', 'S025', 'S033', 'S038', 'S045', 'S050', 'S063', 'S074', 'S078', 'S083', 'S087', 'S088', 'S091', 'S093', 'S114', 'S120', 'S144', 'S161', 'S164', 'S167', 'S174', 'S181', 'S189', 'S195', 'S208', 'S225', 'S244', 'S246', 'S247', 'S249', 'S263', 'S274', 'S283', 'S286', 'S291', 'S309', 'S315', 'S322', 'S337', 'S352', 'S357', 'S372', 'S373']\n",
            "['S008', 'S158', 'S316'] ['S048'] ['S052', 'S206', 'S236'] ['S002', 'S013', 'S022', 'S032', 'S046', 'S067', 'S075', 'S102', 'S103', 'S104', 'S128', 'S132', 'S133', 'S156', 'S160', 'S166', 'S171', 'S196', 'S219', 'S230', 'S262', 'S276', 'S277', 'S282', 'S307', 'S351', 'S376']\n",
            "['S023', 'S072', 'S073', 'S086', 'S143', 'S269', 'S349'] ['S090'] ['S001', 'S107', 'S330'] ['S006', 'S119', 'S176', 'S178', 'S183', 'S188', 'S214', 'S224', 'S254', 'S256', 'S297', 'S335']\n",
            "['S036', 'S039', 'S055', 'S060', 'S061', 'S099', 'S112', 'S117', 'S121', 'S135', 'S137', 'S163', 'S169', 'S187', 'S193', 'S197', 'S212', 'S227', 'S233', 'S260', 'S266', 'S278', 'S280', 'S287', 'S311', 'S325', 'S326', 'S329', 'S340', 'S342', 'S345', 'S354', 'S367', 'S370']\n",
            "['S080', 'S082', 'S109', 'S126', 'S184', 'S190', 'S232', 'S299'] ['S035', 'S051', 'S077', 'S081', 'S140', 'S173', 'S275', 'S353', 'S363'] ['S149', 'S155', 'S223', 'S292']\n",
            "['S017', 'S053', 'S064', 'S071', 'S079', 'S085', 'S110', 'S111', 'S124', 'S127', 'S130', 'S153', 'S162', 'S165', 'S182', 'S192', 'S204', 'S211', 'S218', 'S228', 'S242', 'S312', 'S317', 'S333', 'S341', 'S347', 'S374']\n",
            "['S024', 'S034', 'S037', 'S094', 'S122', 'S138', 'S177', 'S201', 'S202', 'S235', 'S259', 'S327', 'S346'] ['S220'] ['S011', 'S047', 'S096', 'S116', 'S151', 'S191', 'S241', 'S243', 'S264', 'S293', 'S308', 'S320', 'S355', 'S362']\n",
            "['S019', 'S030', 'S044', 'S057', 'S069', 'S097', 'S100', 'S113', 'S118', 'S134', 'S147', 'S148', 'S152', 'S168', 'S199', 'S200', 'S207', 'S210', 'S239', 'S255', 'S303']\n",
            "['S040', 'S248', 'S271', 'S273', 'S288'] ['S012', 'S095', 'S186', 'S213', 'S251', 'S258', 'S279', 'S304', 'S371'] ['S359'] ['S364'] ['S018', 'S043', 'S070', 'S084', 'S105', 'S141', 'S203', 'S205', 'S234', 'S296', 'S344', 'S377']\n"
          ]
        }
      ],
      "source": [
        "printer(affinity_Propagation(K11_kodu2))"
      ]
    },
    {
      "cell_type": "code",
      "execution_count": 85,
      "metadata": {},
      "outputs": [
        {
          "name": "stdout",
          "output_type": "stream",
          "text": [
            "['S001'] ['S158', 'S008', 'S316'] ['S018'] ['S019'] ['S022'] ['S023'] ['S002', 'S003', 'S006', 'S007', 'S011', 'S012', 'S013', 'S017', 'S024', 'S025', 'S033', 'S034', 'S038', 'S047', 'S050', 'S052', 'S053', 'S060', 'S063', 'S064', 'S067', 'S071', 'S072', 'S073', 'S074', 'S075', 'S077', 'S078', 'S079', 'S081', 'S082', 'S083', 'S084', 'S085', 'S086', 'S087', 'S091', 'S093', 'S094', 'S095', 'S096', 'S099', 'S104', 'S109', 'S110', 'S111', 'S112', 'S114', 'S116', 'S117', 'S119', 'S120', 'S121', 'S122', 'S126', 'S127', 'S130', 'S134', 'S140', 'S143', 'S144', 'S151', 'S152', 'S153', 'S156', 'S161', 'S162', 'S163', 'S164', 'S165', 'S167', 'S169', 'S171', 'S173', 'S174', 'S176', 'S177', 'S178', 'S181', 'S182', 'S183', 'S184', 'S186', 'S187', 'S188', 'S189', 'S190', 'S192', 'S193', 'S195', 'S196', 'S197', 'S201', 'S204', 'S206', 'S207', 'S208', 'S211', 'S212', 'S213', 'S214', 'S218', 'S225', 'S227', 'S228', 'S232', 'S233', 'S234', 'S235', 'S236', 'S241', 'S242', 'S243', 'S244', 'S246', 'S247', 'S249', 'S254', 'S255', 'S256', 'S258', 'S259', 'S260', 'S263', 'S264', 'S266', 'S269', 'S273', 'S274', 'S275', 'S277', 'S278', 'S279', 'S280', 'S283', 'S286', 'S287', 'S291', 'S293', 'S297', 'S299', 'S304', 'S307', 'S308', 'S309', 'S311', 'S312', 'S315', 'S317', 'S320', 'S322', 'S326', 'S327', 'S329', 'S333', 'S335', 'S337', 'S340', 'S341', 'S344', 'S345', 'S346', 'S347', 'S352', 'S353', 'S354', 'S357', 'S362', 'S370', 'S371', 'S372', 'S373', 'S374', 'S376', 'S377']\n",
            "['S030'] ['S113', 'S032'] ['S035'] ['S036'] ['S037'] ['S039'] ['S040', 'S271', 'S288'] ['S043'] ['S044'] ['S045'] ['S351', 'S046'] ['S048'] ['S051'] ['S055']\n",
            "['S057'] ['S061'] ['S069'] ['S070'] ['S080'] ['S088'] ['S090'] ['S097'] ['S100'] ['S102'] ['S103'] ['S105'] ['S107', 'S330'] ['S118'] ['S124'] ['S128'] ['S132']\n",
            "['S133'] ['S135'] ['S137'] ['S138'] ['S141'] ['S147'] ['S148'] ['S292', 'S149', 'S155'] ['S160'] ['S166'] ['S168', 'S210'] ['S191'] ['S199'] ['S200'] ['S202']\n",
            "['S203'] ['S205'] ['S219'] ['S220'] ['S223'] ['S224'] ['S230'] ['S239'] ['S248'] ['S251'] ['S262'] ['S276'] ['S282'] ['S296'] ['S303'] ['S325'] ['S342'] ['S349']\n",
            "['S355'] ['S359'] ['S363'] ['S364'] ['S367'] "
          ]
        }
      ],
      "source": [
        "printer(kruskal(K11_kodu2))"
      ]
    },
    {
      "cell_type": "code",
      "execution_count": 86,
      "metadata": {},
      "outputs": [],
      "source": [
        "K13_kodu1 = pd.read_csv(\"matrices/K13_kodu1.csv\", index_col=\"idx\")"
      ]
    },
    {
      "cell_type": "code",
      "execution_count": 87,
      "metadata": {},
      "outputs": [
        {
          "name": "stdout",
          "output_type": "stream",
          "text": [
            "['S002', 'S010', 'S011', 'S021', 'S032', 'S045', 'S050', 'S051', 'S072', 'S076', 'S078', 'S083', 'S091', 'S100', 'S105', 'S119', 'S124', 'S126', 'S130', 'S134', 'S140', 'S141', 'S165', 'S166', 'S169', 'S170', 'S176', 'S179', 'S193', 'S202', 'S205', 'S227', 'S247', 'S251', 'S278', 'S283', 'S289', 'S293', 'S309', 'S327', 'S352', 'S363', 'S364', 'S370', 'S372', 'S374']\n",
            "['S024', 'S025', 'S060', 'S074', 'S111', 'S115', 'S117', 'S127', 'S152', 'S167', 'S183', 'S201', 'S203', 'S220', 'S224', 'S235', 'S242', 'S266', 'S274', 'S318', 'S320', 'S328', 'S337', 'S339', 'S340']\n",
            "['S019', 'S027'] ['S001', 'S033', 'S090', 'S112', 'S144', 'S188', 'S206', 'S213', 'S234', 'S246', 'S376'] ['S044'] ['S069', 'S252'] ['S064', 'S088', 'S097', 'S163', 'S275', 'S305', 'S355']\n",
            "['S034', 'S037', 'S038', 'S039', 'S049', 'S081', 'S101', 'S177', 'S181', 'S271', 'S280', 'S341', 'S344', 'S351'] ['S093', 'S116', 'S120', 'S186', 'S230', 'S307', 'S333', 'S354']\n",
            "['S147'] ['S003', 'S008', 'S012', 'S018', 'S023', 'S026', 'S056', 'S080', 'S086', 'S087', 'S092', 'S096', 'S102', 'S110', 'S148', 'S149', 'S153', 'S155', 'S161', 'S162', 'S168', 'S209', 'S232', 'S248', 'S258', 'S287', 'S296', 'S313', 'S322', 'S345']\n",
            "['S047', 'S052', 'S098', 'S109', 'S133', 'S160', 'S172', 'S178', 'S187', 'S195', 'S223', 'S228', 'S241', 'S260', 'S261', 'S273', 'S312', 'S329', 'S377']\n",
            "['S006', 'S036', 'S048', 'S079', 'S139', 'S174', 'S199', 'S233', 'S291', 'S300', 'S330', 'S335', 'S373'] ['S085', 'S137', 'S158', 'S200'] ['S055', 'S075', 'S138', 'S184', 'S207', 'S222', 'S371']\n",
            "['S077', 'S103', 'S113', 'S118', 'S214', 'S249', 'S277', 'S317', 'S347'] ['S007', 'S065', 'S073', 'S099', 'S104', 'S129', 'S180', 'S197', 'S236', 'S254', 'S259', 'S262', 'S279', 'S303', 'S315', 'S367']\n",
            "['S067', 'S135', 'S253', 'S255', 'S272'] ['S043', 'S061', 'S063', 'S082', 'S084', 'S121', 'S125', 'S143', 'S151', 'S171', 'S182', 'S190', 'S210', 'S212', 'S218', 'S243', 'S256', 'S292', 'S308', 'S323', 'S326', 'S349', 'S362']\n",
            "['S053', 'S094', 'S204', 'S226', 'S263', 'S290', 'S299', 'S346'] ['S264'] ['S017', 'S070', 'S128', 'S189', 'S219', 'S225', 'S244', 'S267', 'S325']\n",
            "['S286'] ['S132', 'S311', 'S316'] ['S156', 'S208', 'S331'] ['S122', 'S123', 'S288', 'S343'] ['S348'] ['S095', 'S114', 'S164', 'S192', 'S239', 'S342', 'S357']\n"
          ]
        }
      ],
      "source": [
        "printer(affinity_Propagation(K13_kodu1))"
      ]
    },
    {
      "cell_type": "code",
      "execution_count": 88,
      "metadata": {},
      "outputs": [
        {
          "name": "stdout",
          "output_type": "stream",
          "text": [
            "['S027', 'S019'] ['S043'] ['S044'] ['S001', 'S002', 'S003', 'S006', 'S007', 'S008', 'S010', 'S011', 'S012', 'S017', 'S018', 'S021', 'S023', 'S024', 'S025', 'S026', 'S032', 'S033', 'S034', 'S036', 'S037', 'S038', 'S039', 'S045', 'S047', 'S048', 'S049', 'S050', 'S051', 'S052', 'S053', 'S055', 'S056', 'S060', 'S061', 'S063', 'S064', 'S065', 'S067', 'S070', 'S072', 'S073', 'S074', 'S075', 'S076', 'S078', 'S079', 'S080', 'S081', 'S082', 'S083', 'S086', 'S087', 'S088', 'S090', 'S091', 'S092', 'S093', 'S094', 'S095', 'S096', 'S097', 'S098', 'S099', 'S100', 'S101', 'S102', 'S103', 'S104', 'S105', 'S109', 'S110', 'S111', 'S112', 'S113', 'S114', 'S115', 'S116', 'S117', 'S118', 'S119', 'S120', 'S121', 'S122', 'S123', 'S124', 'S125', 'S126', 'S127', 'S128', 'S129', 'S130', 'S133', 'S134', 'S135', 'S137', 'S138', 'S139', 'S140', 'S141', 'S144', 'S148', 'S149', 'S151', 'S152', 'S153', 'S155', 'S161', 'S162', 'S163', 'S164', 'S165', 'S166', 'S168', 'S169', 'S170', 'S171', 'S172', 'S174', 'S176', 'S177', 'S178', 'S179', 'S180', 'S181', 'S182', 'S183', 'S184', 'S186', 'S187', 'S188', 'S189', 'S190', 'S192', 'S193', 'S195', 'S197', 'S199', 'S200', 'S201', 'S202', 'S203', 'S205', 'S206', 'S207', 'S209', 'S212', 'S213', 'S214', 'S218', 'S219', 'S220', 'S222', 'S223', 'S224', 'S225', 'S226', 'S227', 'S228', 'S230', 'S232', 'S233', 'S234', 'S236', 'S239', 'S241', 'S242', 'S243', 'S244', 'S246', 'S247', 'S248', 'S249', 'S251', 'S253', 'S254', 'S255', 'S256', 'S258', 'S259', 'S260', 'S261', 'S262', 'S263', 'S266', 'S267', 'S271', 'S272', 'S273', 'S274', 'S275', 'S277', 'S278', 'S279', 'S280', 'S283', 'S287', 'S288', 'S289', 'S290', 'S291', 'S292', 'S293', 'S296', 'S299', 'S300', 'S303', 'S305', 'S307', 'S309', 'S312', 'S313', 'S317', 'S318', 'S320', 'S322', 'S323', 'S325', 'S327', 'S328', 'S330', 'S333', 'S335', 'S337', 'S339', 'S340', 'S343', 'S344', 'S345', 'S346', 'S347', 'S349', 'S351', 'S352', 'S354', 'S355', 'S357', 'S363', 'S364', 'S367', 'S370', 'S371', 'S372', 'S373', 'S374', 'S376', 'S377']\n",
            "['S252', 'S069'] ['S077'] ['S084'] ['S085'] ['S311', 'S132', 'S316'] ['S143'] ['S147'] ['S331', 'S208', 'S156'] ['S158'] ['S160'] ['S167'] ['S204'] ['S210']\n",
            "['S235'] ['S264'] ['S286'] ['S308'] ['S315'] ['S326'] ['S329'] ['S341'] ['S342'] ['S348'] ['S362'] "
          ]
        }
      ],
      "source": [
        "printer(kruskal(K13_kodu1))"
      ]
    },
    {
      "cell_type": "code",
      "execution_count": 89,
      "metadata": {},
      "outputs": [],
      "source": [
        "K13_kodu2 = pd.read_csv(\"matrices/K13_kodu2.csv\", index_col=\"idx\")"
      ]
    },
    {
      "cell_type": "code",
      "execution_count": 90,
      "metadata": {},
      "outputs": [
        {
          "name": "stdout",
          "output_type": "stream",
          "text": [
            "['S025'] ['S037'] ['S018', 'S034', 'S039', 'S044', 'S051', 'S069', 'S188', 'S253', 'S328', 'S370'] ['S049'] ['S053', 'S177', 'S186', 'S220', 'S273', 'S296', 'S320', 'S347']\n",
            "['S010', 'S032', 'S045', 'S048', 'S060', 'S078', 'S090', 'S091', 'S125', 'S128', 'S161', 'S163', 'S180', 'S223', 'S266', 'S278', 'S327'] ['S038', 'S083', 'S111', 'S124', 'S147', 'S168', 'S219', 'S271']\n",
            "['S006', 'S097', 'S098', 'S129', 'S130', 'S166', 'S182', 'S195', 'S239', 'S248', 'S307', 'S335', 'S346'] ['S103'] ['S110'] ['S127', 'S172'] ['S138']\n",
            "['S088', 'S109', 'S112', 'S152', 'S187', 'S291', 'S330', 'S339'] ['S205'] ['S019', 'S092', 'S105', 'S118', 'S135', 'S190', 'S208'] ['S225', 'S309']\n",
            "['S021', 'S036', 'S043', 'S047', 'S055', 'S061', 'S064', 'S065', 'S067', 'S075', 'S077', 'S082', 'S101', 'S113', 'S114', 'S116', 'S117', 'S119', 'S120', 'S122', 'S123', 'S137', 'S139', 'S140', 'S160', 'S165', 'S169', 'S171', 'S174', 'S178', 'S183', 'S201', 'S204', 'S206', 'S207', 'S212', 'S218', 'S222', 'S226', 'S228', 'S230', 'S232', 'S236', 'S251', 'S274', 'S280', 'S288', 'S292', 'S317', 'S325', 'S342', 'S351', 'S355', 'S362', 'S364', 'S371', 'S374', 'S376']\n",
            "['S234'] ['S244'] ['S258'] ['S086', 'S261', 'S303', 'S322', 'S326', 'S344'] ['S286'] ['S002', 'S027', 'S093', 'S100', 'S132', 'S133', 'S149', 'S235', 'S255', 'S260', 'S264', 'S287', 'S318', 'S345']\n",
            "['S299'] ['S313'] ['S001', 'S007', 'S011', 'S017', 'S026', 'S056', 'S063', 'S072', 'S073', 'S076', 'S080', 'S081', 'S084', 'S087', 'S096', 'S099', 'S102', 'S104', 'S126', 'S134', 'S148', 'S151', 'S155', 'S158', 'S164', 'S176', 'S179', 'S197', 'S199', 'S202', 'S203', 'S227', 'S246', 'S247', 'S267', 'S275', 'S283', 'S289', 'S300', 'S305', 'S311', 'S315', 'S316', 'S337', 'S343']\n",
            "['S008', 'S121', 'S143', 'S162', 'S170', 'S224', 'S249', 'S259', 'S262', 'S308', 'S323'] ['S003', 'S012', 'S024', 'S033', 'S050', 'S079', 'S094', 'S144', 'S192', 'S200', 'S214', 'S242', 'S243', 'S254', 'S272', 'S312', 'S329', 'S331', 'S352', 'S357', 'S377']\n",
            "['S085', 'S141', 'S277', 'S340'] ['S095', 'S341'] ['S052', 'S115', 'S184', 'S193', 'S354'] ['S181', 'S363'] ['S372'] "
          ]
        }
      ],
      "source": [
        "printer(affinity_Propagation(K13_kodu2))"
      ]
    },
    {
      "cell_type": "code",
      "execution_count": 91,
      "metadata": {},
      "outputs": [
        {
          "name": "stdout",
          "output_type": "stream",
          "text": [
            "['S011'] ['S019'] ['S024'] ['S025'] ['S034'] ['S037'] ['S049'] ['S051'] ['S079'] ['S091'] ['S094'] ['S095', 'S341'] ['S103'] ['S109'] ['S110'] ['S001', 'S002', 'S003', 'S006', 'S007', 'S008', 'S010', 'S012', 'S017', 'S018', 'S021', 'S026', 'S027', 'S032', 'S033', 'S036', 'S038', 'S039', 'S043', 'S044', 'S045', 'S047', 'S048', 'S050', 'S052', 'S053', 'S055', 'S056', 'S060', 'S061', 'S063', 'S064', 'S065', 'S067', 'S069', 'S072', 'S073', 'S075', 'S076', 'S077', 'S078', 'S080', 'S081', 'S082', 'S083', 'S084', 'S085', 'S086', 'S087', 'S088', 'S090', 'S092', 'S093', 'S096', 'S097', 'S098', 'S099', 'S100', 'S101', 'S102', 'S104', 'S105', 'S111', 'S112', 'S113', 'S114', 'S115', 'S116', 'S117', 'S118', 'S119', 'S120', 'S121', 'S122', 'S123', 'S124', 'S125', 'S126', 'S128', 'S129', 'S130', 'S132', 'S133', 'S134', 'S135', 'S137', 'S139', 'S140', 'S143', 'S144', 'S148', 'S149', 'S151', 'S152', 'S155', 'S158', 'S160', 'S161', 'S162', 'S163', 'S164', 'S165', 'S166', 'S168', 'S169', 'S170', 'S171', 'S174', 'S176', 'S177', 'S178', 'S179', 'S180', 'S181', 'S182', 'S183', 'S184', 'S186', 'S187', 'S190', 'S192', 'S193', 'S195', 'S197', 'S199', 'S200', 'S201', 'S202', 'S204', 'S206', 'S207', 'S208', 'S212', 'S214', 'S218', 'S219', 'S220', 'S222', 'S223', 'S224', 'S226', 'S227', 'S228', 'S230', 'S232', 'S235', 'S236', 'S239', 'S243', 'S246', 'S247', 'S248', 'S249', 'S251', 'S253', 'S254', 'S255', 'S259', 'S260', 'S261', 'S262', 'S264', 'S266', 'S267', 'S271', 'S273', 'S274', 'S275', 'S277', 'S278', 'S280', 'S283', 'S287', 'S288', 'S289', 'S291', 'S292', 'S296', 'S300', 'S303', 'S305', 'S307', 'S308', 'S311', 'S315', 'S316', 'S317', 'S318', 'S320', 'S322', 'S323', 'S325', 'S326', 'S327', 'S328', 'S329', 'S330', 'S331', 'S335', 'S337', 'S339', 'S340', 'S342', 'S343', 'S344', 'S345', 'S346', 'S347', 'S351', 'S352', 'S354', 'S355', 'S357', 'S362', 'S364', 'S371', 'S374', 'S376', 'S377']\n",
            "['S127'] ['S138'] ['S141'] ['S147'] ['S172'] ['S188'] ['S203'] ['S205'] ['S225'] ['S234'] ['S242'] ['S244'] ['S258'] ['S272'] ['S286'] ['S299'] ['S309'] ['S312']\n",
            "['S313'] ['S363'] ['S370'] ['S372'] "
          ]
        }
      ],
      "source": [
        "printer(kruskal(K13_kodu2))"
      ]
    },
    {
      "cell_type": "code",
      "execution_count": 92,
      "metadata": {},
      "outputs": [],
      "source": [
        "K14_kodu1 = pd.read_csv(\"matrices/K14_kodu1.csv\", index_col=\"idx\")"
      ]
    },
    {
      "cell_type": "code",
      "execution_count": 93,
      "metadata": {},
      "outputs": [
        {
          "name": "stdout",
          "output_type": "stream",
          "text": [
            "['S001', 'S091', 'S110', 'S165', 'S235', 'S349'] ['S012', 'S116', 'S160'] ['S025', 'S218', 'S355'] ['S032', 'S172', 'S208', 'S230'] ['S040', 'S233']\n",
            "['S008', 'S051', 'S344'] ['S006', 'S017', 'S053', 'S085', 'S096', 'S122', 'S128', 'S153', 'S164', 'S263', 'S291', 'S346'] ['S057'] ['S010', 'S038', 'S043', 'S058', 'S090', 'S093', 'S111', 'S127', 'S151', 'S195', 'S204', 'S205', 'S226', 'S272', 'S277', 'S312', 'S326', 'S331', 'S377']\n",
            "['S060', 'S249', 'S260', 'S318'] ['S065'] ['S072'] ['S007', 'S076'] ['S077', 'S098', 'S327', 'S340'] ['S083'] ['S095', 'S243', 'S341'] ['S112', 'S141']\n",
            "['S113'] ['S033', 'S045', 'S080', 'S114'] ['S079', 'S086', 'S117'] ['S027', 'S064', 'S126', 'S333'] ['S030', 'S130', 'S293'] ['S140'] ['S144', 'S371']\n",
            "['S152'] ['S034', 'S035', 'S161', 'S370', 'S374'] ['S176', 'S347'] ['S105', 'S149', 'S179', 'S354'] ['S181'] ['S135', 'S188'] ['S022', 'S084', 'S166', 'S192', 'S193', 'S200', 'S242', 'S292']\n",
            "['S197', 'S356'] ['S011', 'S187', 'S199', 'S222', 'S329'] ['S201'] ['S039', 'S055', 'S094', 'S210', 'S351', 'S352'] ['S003', 'S018', 'S024', 'S097', 'S099', 'S103', 'S162', 'S169', 'S174', 'S182', 'S203', 'S206', 'S214', 'S232', 'S247', 'S258', 'S273', 'S280', 'S287', 'S315', 'S317', 'S330', 'S335', 'S353', 'S357', 'S372', 'S373', 'S376']\n",
            "['S219'] ['S102', 'S225', 'S283'] ['S228'] ['S239', 'S286'] ['S250'] ['S026', 'S044', 'S056', 'S063', 'S167', 'S202', 'S211', 'S236', 'S253', 'S256', 'S265', 'S325']\n",
            "['S267'] ['S271'] ['S288'] ['S002', 'S036', 'S046', 'S047', 'S049', 'S050', 'S061', 'S078', 'S081', 'S082', 'S088', 'S101', 'S104', 'S115', 'S118', 'S119', 'S137', 'S143', 'S147', 'S158', 'S168', 'S170', 'S171', 'S178', 'S184', 'S190', 'S213', 'S223', 'S251', 'S254', 'S262', 'S278', 'S294', 'S296', 'S311', 'S314', 'S339', 'S358', 'S364']\n",
            "['S303'] ['S016', 'S307'] ['S309'] ['S316'] ['S224', 'S320'] ['S322'] ['S337'] ['S342'] ['S037', 'S124', 'S133', 'S183', 'S191', 'S207', 'S299', 'S362']\n",
            "['S363'] "
          ]
        }
      ],
      "source": [
        "printer(affinity_Propagation(K14_kodu1))"
      ]
    },
    {
      "cell_type": "code",
      "execution_count": 94,
      "metadata": {},
      "outputs": [
        {
          "name": "stdout",
          "output_type": "stream",
          "text": [
            "['S001', 'S002', 'S003', 'S006', 'S007', 'S008', 'S010', 'S011', 'S012', 'S016', 'S017', 'S018', 'S022', 'S024', 'S025', 'S027', 'S030', 'S032', 'S033', 'S034', 'S035', 'S036', 'S037', 'S038', 'S040', 'S043', 'S045', 'S046', 'S047', 'S049', 'S050', 'S051', 'S053', 'S055', 'S058', 'S060', 'S061', 'S063', 'S064', 'S076', 'S077', 'S078', 'S079', 'S080', 'S081', 'S082', 'S083', 'S085', 'S088', 'S090', 'S091', 'S093', 'S094', 'S095', 'S096', 'S097', 'S098', 'S099', 'S101', 'S102', 'S103', 'S104', 'S110', 'S111', 'S113', 'S114', 'S115', 'S116', 'S117', 'S118', 'S119', 'S122', 'S126', 'S128', 'S130', 'S137', 'S140', 'S143', 'S144', 'S147', 'S149', 'S151', 'S152', 'S153', 'S158', 'S160', 'S161', 'S162', 'S164', 'S165', 'S166', 'S167', 'S168', 'S169', 'S170', 'S171', 'S172', 'S174', 'S176', 'S178', 'S179', 'S182', 'S183', 'S184', 'S187', 'S190', 'S191', 'S192', 'S193', 'S197', 'S199', 'S200', 'S201', 'S203', 'S204', 'S205', 'S207', 'S208', 'S210', 'S213', 'S214', 'S218', 'S219', 'S222', 'S223', 'S224', 'S225', 'S226', 'S228', 'S230', 'S232', 'S233', 'S235', 'S236', 'S239', 'S242', 'S243', 'S247', 'S249', 'S250', 'S251', 'S253', 'S254', 'S256', 'S258', 'S260', 'S262', 'S263', 'S267', 'S271', 'S272', 'S277', 'S278', 'S280', 'S283', 'S286', 'S287', 'S288', 'S291', 'S292', 'S293', 'S294', 'S296', 'S299', 'S303', 'S307', 'S311', 'S312', 'S314', 'S315', 'S316', 'S317', 'S318', 'S320', 'S326', 'S327', 'S330', 'S331', 'S333', 'S335', 'S337', 'S339', 'S340', 'S341', 'S342', 'S344', 'S346', 'S347', 'S349', 'S351', 'S353', 'S355', 'S356', 'S357', 'S358', 'S362', 'S363', 'S364', 'S370', 'S371', 'S372', 'S373', 'S374', 'S376', 'S377']\n",
            "['S026'] ['S039'] ['S044'] ['S056'] ['S057'] ['S065'] ['S072'] ['S352', 'S084'] ['S086'] ['S105'] ['S112', 'S141'] ['S124'] ['S127'] ['S133'] ['S135'] ['S181']\n",
            "['S188'] ['S195'] ['S202'] ['S206'] ['S211'] ['S265'] ['S273'] ['S309'] ['S322'] ['S325'] ['S329'] ['S354'] "
          ]
        }
      ],
      "source": [
        "printer(kruskal(K14_kodu1))"
      ]
    },
    {
      "cell_type": "code",
      "execution_count": 95,
      "metadata": {},
      "outputs": [],
      "source": [
        "K14_kodu2 = pd.read_csv(\"matrices/K14_kodu2.csv\", index_col=\"idx\")"
      ]
    },
    {
      "cell_type": "code",
      "execution_count": 96,
      "metadata": {},
      "outputs": [
        {
          "name": "stdout",
          "output_type": "stream",
          "text": [
            "['S046', 'S086', 'S200', 'S329'] ['S057'] ['S002', 'S006', 'S016', 'S017', 'S064', 'S102', 'S143', 'S169', 'S187', 'S225', 'S267', 'S293', 'S322', 'S340']\n",
            "['S072', 'S206', 'S303', 'S353'] ['S050', 'S091', 'S174', 'S205', 'S247', 'S288', 'S373'] ['S039', 'S094', 'S097', 'S122', 'S151', 'S164', 'S170', 'S188', 'S230', 'S250', 'S283']\n",
            "['S103'] ['S036', 'S055', 'S105', 'S160', 'S190', 'S224', 'S232', 'S253', 'S254', 'S335', 'S355'] ['S025', 'S077', 'S104', 'S111', 'S128', 'S141', 'S352']\n",
            "['S112', 'S208', 'S265'] ['S061', 'S116', 'S119', 'S197', 'S218', 'S251', 'S296', 'S316', 'S347'] ['S012', 'S032', 'S040', 'S051', 'S118', 'S149', 'S179', 'S184', 'S258', 'S307', 'S315']\n",
            "['S126', 'S140', 'S144', 'S181', 'S214'] ['S022', 'S096', 'S161', 'S165', 'S183', 'S207', 'S260'] ['S083', 'S099', 'S133', 'S171', 'S243', 'S280', 'S330', 'S370']\n",
            "['S007', 'S024', 'S081', 'S166', 'S172', 'S195', 'S199', 'S202', 'S239'] ['S201'] ['S063', 'S078', 'S158', 'S176', 'S178', 'S219', 'S354'] ['S010', 'S011', 'S018', 'S026', 'S027', 'S033', 'S035', 'S079', 'S080', 'S192', 'S203', 'S211', 'S222', 'S228', 'S272', 'S326', 'S337', 'S344', 'S345']\n",
            "['S037', 'S065', 'S082', 'S084', 'S101', 'S114', 'S147', 'S168', 'S226', 'S242', 'S262', 'S277', 'S325', 'S327', 'S341', 'S362', 'S363', 'S371']\n",
            "['S034', 'S047', 'S076', 'S137', 'S162', 'S191', 'S291', 'S292', 'S312', 'S314'] ['S294'] ['S088', 'S113', 'S153', 'S317'] ['S095', 'S135', 'S320', 'S331']\n",
            "['S045', 'S182', 'S235', 'S333', 'S342', 'S372'] ['S093', 'S117', 'S152', 'S193', 'S223', 'S278', 'S339', 'S346'] ['S357'] ['S001', 'S124', 'S271', 'S318', 'S374', 'S376']\n"
          ]
        }
      ],
      "source": [
        "printer(affinity_Propagation(K14_kodu2))"
      ]
    },
    {
      "cell_type": "code",
      "execution_count": 97,
      "metadata": {},
      "outputs": [
        {
          "name": "stdout",
          "output_type": "stream",
          "text": [
            "['S001'] ['S002', 'S006', 'S016', 'S017', 'S143', 'S039', 'S283', 'S293', 'S169', 'S170', 'S064', 'S188', 'S094', 'S340', 'S102', 'S225'] ['S007']\n",
            "['S228', 'S222', 'S010', 'S326'] ['S011'] ['S012'] ['S018'] ['S022'] ['S024'] ['S026'] ['S027'] ['S118', 'S315', 'S051', 'S258', 'S032'] ['S033'] ['S034']\n",
            "['S035'] ['S036'] ['S037'] ['S045'] ['S046', 'S329'] ['S078', 'S354', 'S327', 'S158', 'S206', 'S040', 'S166', 'S047', 'S219', 'S063', 'S176'] ['S373', 'S288', 'S247', 'S174', 'S050', 'S091']\n",
            "['S055'] ['S057'] ['S119', 'S116', 'S251', 'S296', 'S061'] ['S353', 'S072', 'S303'] ['S314', 'S179', 'S371', 'S076', 'S065', 'S243', 'S133', 'S325', 'S083', 'S226', 'S200', 'S292', 'S171', 'S362', 'S370']\n",
            "['S079'] ['S080'] ['S081'] ['S082'] ['S084'] ['S086'] ['S088'] ['S223', 'S093'] ['S095'] ['S096'] ['S097'] ['S099'] ['S101'] ['S103'] ['S077', 'S128', 'S376', 'S318', 'S141', 'S025', 'S271', 'S104', 'S111', 'S352']\n",
            "['S105', 'S160'] ['S112', 'S208', 'S265'] ['S317', 'S113'] ['S114'] ['S122'] ['S124'] ['S126'] ['S135'] ['S137'] ['S140', 'S181', 'S144'] ['S147'] ['S149']\n",
            "['S151'] ['S152'] ['S153'] ['S161'] ['S162'] ['S164'] ['S260', 'S165'] ['S168'] ['S172'] ['S178'] ['S182', 'S333'] ['S183', 'S207'] ['S184'] ['S187'] ['S190']\n",
            "['S191'] ['S192'] ['S193'] ['S195'] ['S197'] ['S199'] ['S201'] ['S202'] ['S203'] ['S205'] ['S211'] ['S214'] ['S218'] ['S224'] ['S230'] ['S232'] ['S235'] ['S239']\n",
            "['S242'] ['S250'] ['S253'] ['S254'] ['S262'] ['S267'] ['S272'] ['S277'] ['S339', 'S278', 'S346', 'S117'] ['S280'] ['S291'] ['S294'] ['S307'] ['S312'] ['S316']\n",
            "['S331', 'S320'] ['S322'] ['S330'] ['S335'] ['S337'] ['S341'] ['S342'] ['S344'] ['S345'] ['S347'] ['S355'] ['S357'] ['S363'] ['S372'] ['S374'] "
          ]
        }
      ],
      "source": [
        "printer(kruskal(K14_kodu2))"
      ]
    },
    {
      "cell_type": "code",
      "execution_count": 98,
      "metadata": {},
      "outputs": [],
      "source": [
        "K15_kodu1 = pd.read_csv(\"matrices/K15_kodu1.csv\", index_col=\"idx\")"
      ]
    },
    {
      "cell_type": "code",
      "execution_count": 99,
      "metadata": {},
      "outputs": [
        {
          "name": "stdout",
          "output_type": "stream",
          "text": [
            "['S016', 'S021', 'S034', 'S035', 'S060', 'S081', 'S086', 'S091', 'S128', 'S133', 'S141', 'S147', 'S161', 'S167', 'S177', 'S232', 'S233', 'S235', 'S258', 'S271', 'S273', 'S311', 'S326', 'S335', 'S355', 'S357', 'S370', 'S373']\n",
            "['S048'] ['S001', 'S010', 'S012', 'S022', 'S024', 'S025', 'S029', 'S032', 'S033', 'S039', 'S041', 'S045', 'S046', 'S051', 'S052', 'S061', 'S063', 'S069', 'S077', 'S079', 'S080', 'S082', 'S083', 'S084', 'S088', 'S090', 'S094', 'S098', 'S109', 'S112', 'S114', 'S116', 'S118', 'S119', 'S122', 'S124', 'S129', 'S132', 'S143', 'S149', 'S152', 'S155', 'S162', 'S163', 'S165', 'S168', 'S169', 'S170', 'S171', 'S176', 'S178', 'S182', 'S184', 'S185', 'S187', 'S189', 'S190', 'S193', 'S195', 'S197', 'S208', 'S219', 'S223', 'S225', 'S227', 'S228', 'S239', 'S246', 'S251', 'S252', 'S254', 'S256', 'S277', 'S280', 'S288', 'S292', 'S293', 'S312', 'S316', 'S317', 'S320', 'S325', 'S328', 'S329', 'S331', 'S333', 'S334', 'S339', 'S340', 'S344', 'S345', 'S351', 'S352', 'S354', 'S362', 'S364', 'S371', 'S374']\n",
            "['S007', 'S038', 'S093', 'S099', 'S164', 'S192', 'S204', 'S210', 'S224', 'S242', 'S262', 'S291'] ['S103'] ['S011', 'S013', 'S047', 'S053', 'S073', 'S085', 'S095', 'S105', 'S113', 'S117', 'S126', 'S151', 'S203', 'S211', 'S214', 'S260', 'S266', 'S278', 'S307', 'S346']\n",
            "['S050', 'S072', 'S140', 'S144', 'S181', 'S206', 'S247', 'S322'] ['S076', 'S078', 'S130', 'S183', 'S188', 'S200', 'S218', 'S303'] ['S037', 'S043', 'S049', 'S096', 'S102', 'S134', 'S199', 'S209', 'S230', 'S283', 'S296', 'S330', 'S347']\n",
            "['S201'] ['S002', 'S097', 'S153', 'S234', 'S249', 'S263'] ['S018', 'S067', 'S135', 'S207', 'S236', 'S255', 'S267', 'S315', 'S327', 'S337', 'S353', 'S376']\n",
            "['S349'] ['S259', 'S308', 'S363'] ['S366'] "
          ]
        }
      ],
      "source": [
        "printer(affinity_Propagation(K15_kodu1))"
      ]
    },
    {
      "cell_type": "code",
      "execution_count": 100,
      "metadata": {},
      "outputs": [
        {
          "name": "stdout",
          "output_type": "stream",
          "text": [
            "['S016'] ['S018', 'S072'] ['S048'] ['S001', 'S002', 'S007', 'S010', 'S011', 'S012', 'S013', 'S021', 'S022', 'S024', 'S025', 'S029', 'S032', 'S033', 'S034', 'S035', 'S037', 'S038', 'S039', 'S041', 'S043', 'S045', 'S046', 'S047', 'S049', 'S051', 'S053', 'S060', 'S061', 'S063', 'S069', 'S073', 'S077', 'S079', 'S080', 'S082', 'S083', 'S085', 'S086', 'S088', 'S090', 'S091', 'S093', 'S094', 'S095', 'S096', 'S097', 'S098', 'S099', 'S105', 'S109', 'S112', 'S113', 'S114', 'S116', 'S117', 'S118', 'S119', 'S122', 'S124', 'S126', 'S128', 'S132', 'S133', 'S134', 'S141', 'S147', 'S149', 'S151', 'S152', 'S153', 'S155', 'S161', 'S163', 'S164', 'S165', 'S167', 'S168', 'S170', 'S176', 'S178', 'S182', 'S184', 'S185', 'S187', 'S189', 'S192', 'S193', 'S195', 'S197', 'S199', 'S203', 'S204', 'S208', 'S209', 'S210', 'S211', 'S214', 'S219', 'S224', 'S227', 'S228', 'S230', 'S232', 'S233', 'S234', 'S235', 'S239', 'S242', 'S246', 'S249', 'S251', 'S252', 'S254', 'S256', 'S258', 'S259', 'S263', 'S266', 'S271', 'S273', 'S277', 'S278', 'S280', 'S283', 'S288', 'S291', 'S292', 'S293', 'S296', 'S308', 'S312', 'S316', 'S317', 'S320', 'S325', 'S326', 'S328', 'S330', 'S331', 'S333', 'S339', 'S344', 'S345', 'S346', 'S347', 'S351', 'S352', 'S355', 'S357', 'S362', 'S363', 'S364', 'S371', 'S373']\n",
            "['S052'] ['S067'] ['S076'] ['S218', 'S181', 'S078', 'S303', 'S183', 'S130', 'S353', 'S188', 'S315', 'S140', 'S247', 'S144', 'S327', 'S200', 'S206', 'S050', 'S337']\n",
            "['S081'] ['S084'] ['S102'] ['S103'] ['S129'] ['S135'] ['S143'] ['S162'] ['S169'] ['S171'] ['S177'] ['S190'] ['S201'] ['S207'] ['S223'] ['S225'] ['S236'] ['S255']\n",
            "['S260'] ['S262'] ['S267'] ['S307'] ['S370', 'S311'] ['S322'] ['S329'] ['S376', 'S334'] ['S335'] ['S340'] ['S349'] ['S354'] ['S366'] ['S374'] "
          ]
        }
      ],
      "source": [
        "printer(kruskal(K15_kodu1))"
      ]
    },
    {
      "cell_type": "code",
      "execution_count": 101,
      "metadata": {},
      "outputs": [],
      "source": [
        "K15_kodu2 = pd.read_csv(\"matrices/K15_kodu2.csv\", index_col=\"idx\")"
      ]
    },
    {
      "cell_type": "code",
      "execution_count": 102,
      "metadata": {},
      "outputs": [
        {
          "name": "stdout",
          "output_type": "stream",
          "text": [
            "['S001', 'S370'] ['S021', 'S024', 'S025', 'S029', 'S039', 'S063', 'S080', 'S090', 'S103', 'S124', 'S134', 'S141', 'S151', 'S188', 'S193', 'S199', 'S203', 'S225', 'S242', 'S249', 'S256', 'S326', 'S333', 'S337', 'S345', 'S371']\n",
            "['S038', 'S153', 'S347'] ['S043', 'S077', 'S112', 'S116', 'S352'] ['S072', 'S084', 'S118', 'S132', 'S346'] ['S053', 'S085', 'S307'] ['S045', 'S079', 'S122', 'S140', 'S144', 'S161', 'S168', 'S181', 'S195', 'S206', 'S214', 'S234', 'S235', 'S315']\n",
            "['S011', 'S016', 'S067', 'S073', 'S076', 'S088', 'S105', 'S113', 'S164', 'S200', 'S201', 'S204', 'S210', 'S224', 'S259', 'S262', 'S288', 'S322', 'S327', 'S363']\n",
            "['S177'] ['S093', 'S187', 'S189', 'S303', 'S351', 'S357'] ['S010', 'S012', 'S069', 'S078', 'S083', 'S117', 'S147', 'S162', 'S176', 'S183', 'S197', 'S320', 'S339']\n",
            "['S128', 'S149', 'S208', 'S223', 'S331'] ['S061', 'S130', 'S133', 'S184', 'S227', 'S271', 'S291', 'S317', 'S335'] ['S034', 'S050', 'S155', 'S207', 'S230', 'S233', 'S293', 'S308', 'S355']\n",
            "['S002', 'S007', 'S013', 'S018', 'S022', 'S032', 'S033', 'S035', 'S037', 'S046', 'S047', 'S051', 'S052', 'S060', 'S082', 'S086', 'S091', 'S095', 'S096', 'S097', 'S099', 'S102', 'S109', 'S114', 'S119', 'S126', 'S129', 'S135', 'S143', 'S163', 'S165', 'S167', 'S169', 'S170', 'S171', 'S178', 'S190', 'S192', 'S209', 'S211', 'S218', 'S219', 'S228', 'S232', 'S236', 'S239', 'S246', 'S247', 'S251', 'S252', 'S254', 'S255', 'S258', 'S260', 'S266', 'S277', 'S280', 'S292', 'S296', 'S312', 'S325', 'S328', 'S329', 'S334', 'S344', 'S349', 'S353', 'S362', 'S364', 'S373', 'S374', 'S376']\n",
            "['S049', 'S081', 'S182', 'S316', 'S330'] ['S366'] "
          ]
        }
      ],
      "source": [
        "printer(affinity_Propagation(K15_kodu2))"
      ]
    },
    {
      "cell_type": "code",
      "execution_count": 103,
      "metadata": {},
      "outputs": [
        {
          "name": "stdout",
          "output_type": "stream",
          "text": [
            "['S001', 'S370'] ['S010'] ['S034'] ['S049'] ['S132', 'S072'] ['S081'] ['S084'] ['S088'] ['S105'] ['S118', 'S113'] ['S002', 'S007', 'S011', 'S012', 'S013', 'S016', 'S018', 'S021', 'S022', 'S024', 'S025', 'S029', 'S032', 'S033', 'S035', 'S037', 'S038', 'S039', 'S043', 'S045', 'S046', 'S047', 'S050', 'S051', 'S052', 'S053', 'S060', 'S061', 'S063', 'S067', 'S069', 'S073', 'S076', 'S077', 'S078', 'S079', 'S080', 'S082', 'S083', 'S085', 'S086', 'S090', 'S091', 'S093', 'S095', 'S096', 'S097', 'S099', 'S102', 'S103', 'S109', 'S112', 'S114', 'S116', 'S117', 'S119', 'S122', 'S124', 'S126', 'S128', 'S129', 'S130', 'S134', 'S135', 'S140', 'S141', 'S143', 'S144', 'S147', 'S149', 'S151', 'S153', 'S155', 'S161', 'S163', 'S164', 'S165', 'S167', 'S168', 'S169', 'S170', 'S171', 'S176', 'S178', 'S181', 'S183', 'S187', 'S189', 'S190', 'S192', 'S193', 'S195', 'S197', 'S199', 'S201', 'S203', 'S204', 'S206', 'S207', 'S208', 'S209', 'S210', 'S211', 'S214', 'S218', 'S219', 'S223', 'S224', 'S225', 'S227', 'S228', 'S230', 'S232', 'S233', 'S234', 'S235', 'S236', 'S239', 'S242', 'S246', 'S247', 'S249', 'S251', 'S252', 'S254', 'S255', 'S256', 'S258', 'S259', 'S260', 'S262', 'S266', 'S271', 'S277', 'S280', 'S288', 'S291', 'S292', 'S293', 'S296', 'S303', 'S307', 'S308', 'S312', 'S315', 'S320', 'S325', 'S326', 'S327', 'S328', 'S329', 'S331', 'S333', 'S334', 'S335', 'S337', 'S339', 'S344', 'S345', 'S347', 'S349', 'S351', 'S352', 'S353', 'S355', 'S357', 'S362', 'S364', 'S371', 'S373', 'S374', 'S376']\n",
            "['S133'] ['S162'] ['S177'] ['S316', 'S182', 'S330'] ['S184'] ['S188'] ['S200'] ['S317'] ['S322'] ['S346'] ['S363'] ['S366'] "
          ]
        }
      ],
      "source": [
        "printer(kruskal(K15_kodu2))"
      ]
    },
    {
      "cell_type": "code",
      "execution_count": 104,
      "metadata": {},
      "outputs": [],
      "source": [
        "K15_kodu3 = pd.read_csv(\"matrices/K15_kodu3.csv\", index_col=\"idx\")"
      ]
    },
    {
      "cell_type": "code",
      "execution_count": 105,
      "metadata": {},
      "outputs": [
        {
          "name": "stdout",
          "output_type": "stream",
          "text": [
            "['S053'] ['S073'] ['S090'] ['S093'] ['S011', 'S016', 'S046', 'S067', 'S084', 'S088', 'S094', 'S102', 'S126', 'S129', 'S130', 'S147', 'S151', 'S153', 'S155', 'S171', 'S177', 'S184', 'S197', 'S206', 'S209', 'S234', 'S271', 'S277', 'S307', 'S308', 'S322', 'S328', 'S349', 'S355']\n",
            "['S103'] ['S128'] ['S201'] ['S227'] ['S018', 'S050', 'S072', 'S078', 'S122', 'S135', 'S162', 'S181', 'S218', 'S225', 'S236', 'S255', 'S327', 'S329', 'S374']\n",
            "['S001', 'S007', 'S010', 'S021', 'S022', 'S025', 'S032', 'S035', 'S037', 'S038', 'S069', 'S079', 'S081', 'S082', 'S083', 'S086', 'S091', 'S095', 'S097', 'S105', 'S117', 'S132', 'S140', 'S161', 'S164', 'S167', 'S168', 'S169', 'S178', 'S187', 'S190', 'S192', 'S203', 'S204', 'S211', 'S214', 'S219', 'S228', 'S230', 'S232', 'S233', 'S235', 'S247', 'S249', 'S251', 'S254', 'S259', 'S262', 'S283', 'S288', 'S291', 'S292', 'S296', 'S317', 'S320', 'S326', 'S330', 'S331', 'S333', 'S345', 'S362', 'S363', 'S370', 'S371', 'S373']\n",
            "['S045', 'S063', 'S114', 'S133', 'S134', 'S141', 'S149', 'S200', 'S223', 'S224', 'S258', 'S260', 'S266', 'S312', 'S315', 'S337', 'S353', 'S376']\n",
            "['S280'] ['S002', 'S012', 'S024', 'S029', 'S033', 'S034', 'S039', 'S043', 'S051', 'S061', 'S076', 'S077', 'S080', 'S096', 'S099', 'S112', 'S116', 'S118', 'S119', 'S124', 'S143', 'S163', 'S165', 'S176', 'S182', 'S183', 'S188', 'S195', 'S207', 'S208', 'S239', 'S293', 'S303', 'S316', 'S325', 'S334', 'S335', 'S339', 'S344', 'S346', 'S352', 'S364']\n",
            "['S347'] ['S357'] ['S366'] "
          ]
        }
      ],
      "source": [
        "printer(affinity_Propagation(K15_kodu3))"
      ]
    },
    {
      "cell_type": "code",
      "execution_count": 106,
      "metadata": {},
      "outputs": [
        {
          "name": "stdout",
          "output_type": "stream",
          "text": [
            "['S001'] ['S018'] ['S045'] ['S050'] ['S051'] ['S053'] ['S067'] ['S072'] ['S073'] ['S076'] ['S090'] ['S093'] ['S096'] ['S099'] ['S103'] ['S118'] ['S122'] ['S128']\n",
            "['S135'] ['S140'] ['S141'] ['S162'] ['S169'] ['S182', 'S316'] ['S184'] ['S201'] ['S207'] ['S227'] ['S002', 'S007', 'S010', 'S011', 'S012', 'S016', 'S021', 'S022', 'S024', 'S025', 'S029', 'S032', 'S033', 'S034', 'S035', 'S037', 'S038', 'S039', 'S043', 'S046', 'S061', 'S063', 'S069', 'S077', 'S078', 'S079', 'S080', 'S081', 'S082', 'S083', 'S084', 'S086', 'S088', 'S091', 'S094', 'S095', 'S097', 'S102', 'S105', 'S112', 'S114', 'S116', 'S117', 'S119', 'S124', 'S126', 'S129', 'S130', 'S132', 'S133', 'S134', 'S143', 'S147', 'S149', 'S151', 'S153', 'S155', 'S161', 'S163', 'S164', 'S165', 'S167', 'S168', 'S171', 'S176', 'S177', 'S178', 'S181', 'S183', 'S187', 'S188', 'S190', 'S192', 'S195', 'S197', 'S200', 'S203', 'S204', 'S206', 'S208', 'S209', 'S211', 'S214', 'S218', 'S219', 'S223', 'S224', 'S225', 'S228', 'S230', 'S232', 'S234', 'S235', 'S236', 'S239', 'S247', 'S249', 'S251', 'S254', 'S259', 'S260', 'S262', 'S266', 'S271', 'S277', 'S283', 'S288', 'S291', 'S292', 'S293', 'S296', 'S303', 'S307', 'S308', 'S312', 'S315', 'S317', 'S320', 'S322', 'S326', 'S328', 'S330', 'S331', 'S333', 'S334', 'S337', 'S339', 'S344', 'S345', 'S346', 'S349', 'S355', 'S362', 'S363', 'S364', 'S370', 'S371', 'S373', 'S374', 'S376']\n",
            "['S233'] ['S255'] ['S258'] ['S280'] ['S325'] ['S327'] ['S329'] ['S335'] ['S347'] ['S352'] ['S353'] ['S357'] ['S366'] "
          ]
        }
      ],
      "source": [
        "printer(kruskal(K15_kodu3))"
      ]
    },
    {
      "attachments": {},
      "cell_type": "markdown",
      "metadata": {},
      "source": [
        "### Reference\n",
        "\n",
        "[1] Image -- https://iq.opengenus.org/what-is-a-minimum-spanning-tree/"
      ]
    }
  ],
  "metadata": {
    "colab": {
      "provenance": []
    },
    "kernelspec": {
      "display_name": "Python 3",
      "language": "python",
      "name": "python3"
    },
    "language_info": {
      "codemirror_mode": {
        "name": "ipython",
        "version": 3
      },
      "file_extension": ".py",
      "mimetype": "text/x-python",
      "name": "python",
      "nbconvert_exporter": "python",
      "pygments_lexer": "ipython3",
      "version": "3.10.4"
    },
    "orig_nbformat": 4,
    "vscode": {
      "interpreter": {
        "hash": "369f2c481f4da34e4445cda3fffd2e751bd1c4d706f27375911949ba6bb62e1c"
      }
    }
  },
  "nbformat": 4,
  "nbformat_minor": 0
}

{
 "cells": [
  {
   "attachments": {},
   "cell_type": "markdown",
   "metadata": {},
   "source": [
    "# Data Exploration"
   ]
  },
  {
   "attachments": {},
   "cell_type": "markdown",
   "metadata": {},
   "source": [
    "In this notebook we explore the dataset we have and what we have to work with. We also delve into semantics of pythons's built-in `ast` package for parsing code into AST - Abstract Syntax Tree."
   ]
  },
  {
   "cell_type": "code",
   "execution_count": 1,
   "metadata": {},
   "outputs": [],
   "source": [
    "import ast\n",
    "import os\n",
    "from IPython.display import Image"
   ]
  },
  {
   "attachments": {},
   "cell_type": "markdown",
   "metadata": {},
   "source": [
    "### Student submissions"
   ]
  },
  {
   "attachments": {},
   "cell_type": "markdown",
   "metadata": {},
   "source": [
    "We will explore only last submissions, as intermediate ones are more likely to be empty or broken.\n",
    "\n",
    "Last submissions are located int `processed` directory. They were extracted using `extract.py` script from unpacked `Masinõpe` dataset (not included in this repository). The dataset was provided by Reimo Palm."
   ]
  },
  {
   "attachments": {},
   "cell_type": "markdown",
   "metadata": {},
   "source": [
    "Let's find out how long the code is:"
   ]
  },
  {
   "cell_type": "code",
   "execution_count": 2,
   "metadata": {},
   "outputs": [],
   "source": [
    "longest = (0, '')\n",
    "# We saw tasks that were 5 lines long, so it will be reasonable to intialise variable with this value and it will gradually minimise\n",
    "shortest = (100,'') \n",
    "average_lengths = {}\n",
    "for hw in next(os.walk('processed'))[1]:\n",
    "    for student in next(os.walk(f'processed/{hw}'))[1]:\n",
    "        length_overall = 0\n",
    "        submission_count = 0\n",
    "        for script in next(os.walk(f'processed/{hw}/{student}'))[2]:\n",
    "            with open(f'processed/{hw}/{student}/{script}', 'r', encoding='UTF-8') as f:\n",
    "                # Drop empty and blank lines\n",
    "                lines = sum(1 for _ in filter(lambda line: line.strip(), f.readlines()))\n",
    "                if lines > longest[0]:\n",
    "                    longest = (lines, f'{hw}/{student}/{script}')\n",
    "                if lines < shortest[0]:\n",
    "                    shortest = (lines, f'{hw}/{student}/{script}')\n",
    "                length_overall += lines\n",
    "        submission_count += 1  \n",
    "        average_lengths[hw] = length_overall / submission_count\n"
   ]
  },
  {
   "cell_type": "code",
   "execution_count": 3,
   "metadata": {},
   "outputs": [
    {
     "name": "stdout",
     "output_type": "stream",
     "text": [
      "Shortest script, K02/S231/kodu3.py, took 0 lines of code\n",
      "Longest script, K01/S034/kodu1.py, took 397 lines of code\n",
      "On average, homework K01 is 27 lines long\n",
      "On average, homework K02 is 30 lines long\n",
      "On average, homework K03 is 63 lines long\n",
      "On average, homework K04 is 53 lines long\n",
      "On average, homework K05 is 87 lines long\n",
      "On average, homework K07 is 75 lines long\n",
      "On average, homework K08 is 84 lines long\n",
      "On average, homework K09 is 40 lines long\n",
      "On average, homework K10 is 66 lines long\n",
      "On average, homework K11 is 38 lines long\n",
      "On average, homework K13 is 21 lines long\n",
      "On average, homework K14 is 28 lines long\n",
      "On average, homework K15 is 43 lines long\n"
     ]
    }
   ],
   "source": [
    "print(f'Shortest script, {shortest[1]}, took {shortest[0]} lines of code')\n",
    "print(f'Longest script, {longest[1]}, took {longest[0]} lines of code')\n",
    "for k, v in average_lengths.items():\n",
    "    print(f'On average, homework {k} is {v:.0f} lines long')\n",
    "# from collections import deque\n",
    "# deque(((print(f'On average, homework {k} took {v:.0f} lines of code') for k, v in average_lengths.items())), maxlen=0)"
   ]
  },
  {
   "attachments": {},
   "cell_type": "markdown",
   "metadata": {},
   "source": [
    "This was hardly insightful. At least we know that we need to account for empty files and that someone was creative and diligent enough to draw this masterpiece:"
   ]
  },
  {
   "cell_type": "code",
   "execution_count": 4,
   "metadata": {},
   "outputs": [
    {
     "data": {
      "image/png": "[encoded data removed]",
      "text/plain": [
       "<IPython.core.display.Image object>"
      ]
     },
     "execution_count": 4,
     "metadata": {},
     "output_type": "execute_result"
    }
   ],
   "source": [
    "Image('assets/masterpiece.png') \n",
    "# Author: student 034"
   ]
  },
  {
   "attachments": {},
   "cell_type": "markdown",
   "metadata": {},
   "source": [
    "Now, we will check the number of submissions:"
   ]
  },
  {
   "cell_type": "code",
   "execution_count": 5,
   "metadata": {},
   "outputs": [
    {
     "name": "stdout",
     "output_type": "stream",
     "text": [
      "Overall, there were 377 who submitted at least something\n",
      "6 students submitted 1 task\n",
      "22 students submitted 2 tasks\n",
      "6 students submitted 3 tasks\n",
      "8 students submitted 4 tasks\n",
      "9 students submitted 5 tasks\n",
      "11 students submitted 6 tasks\n",
      "12 students submitted 7 tasks\n",
      "13 students submitted 8 tasks\n",
      "16 students submitted 9 tasks\n",
      "27 students submitted 10 tasks\n",
      "42 students submitted 11 tasks\n",
      "51 students submitted 12 tasks\n",
      "154 students submitted 13 tasks\n"
     ]
    }
   ],
   "source": [
    "submissions_per_student = {}\n",
    "for hw in next(os.walk('processed'))[1]:\n",
    "    for student in next(os.walk(f'processed/{hw}'))[1]:\n",
    "        length_overall = 0\n",
    "        submission_count = 0\n",
    "        submissions_per_student[student] = submissions_per_student.get(student, 0) + 1\n",
    "\n",
    "submissions_stats = {i:0 for i in submissions_per_student.values()}\n",
    "for k, v in submissions_per_student.items():\n",
    "    submissions_stats[v] = submissions_stats[v] + 1\n",
    "sorted_stats = {k:submissions_stats[k] for k in sorted(submissions_stats)}\n",
    "students = sum(sorted_stats.values())\n",
    "print(f'Overall, there were {students} who submitted at least something')\n",
    "for k, v in sorted_stats.items():\n",
    "    print(f'{v} students submitted {k} {\"task\" if k==1 else \"tasks\"}')"
   ]
  },
  {
   "attachments": {},
   "cell_type": "markdown",
   "metadata": {},
   "source": [
    "Majority of the students submitted most of the tasks\n",
    "\n",
    "We can expect our similarity matrices to have at least dimensions of 200x200"
   ]
  },
  {
   "attachments": {},
   "cell_type": "markdown",
   "metadata": {},
   "source": [
    "We also need to know whether there are any pecularities in the naming of scripts we have to take into account:"
   ]
  },
  {
   "cell_type": "code",
   "execution_count": 6,
   "metadata": {},
   "outputs": [
    {
     "data": {
      "text/plain": [
       "{'K01': {'kodu1.py'},\n",
       " 'K02': {'kodu2.py', 'kodu3.py', 'kodu4.py'},\n",
       " 'K03': {'kodu1.py', 'kodu2.py', 'kodu3.py', 'kodu4.py'},\n",
       " 'K04': {'kodu1.py', 'kodu2.py', 'kodu3.py'},\n",
       " 'K05': {'kodu1.py', 'kodu2.py', 'kodu3.py'},\n",
       " 'K07': {'TAKSOHINNAD.txt',\n",
       "  'kodu1.py',\n",
       "  'kodu2.py',\n",
       "  'kodu3.py',\n",
       "  'kodu4.py',\n",
       "  'lisa.py',\n",
       "  'lisaülesanne.py',\n",
       "  'taksohinnad.txt',\n",
       "  'varvid.py'},\n",
       " 'K08': {'film.py', 'kodu1.py', 'kodu3.py'},\n",
       " 'K09': {'kodu1.py', 'kodu2.py'},\n",
       " 'K10': {'kodu1.py', 'kodu2.py'},\n",
       " 'K11': {'kodu1.py', 'kodu2.py'},\n",
       " 'K13': {'kodu1.py', 'kodu2.py'},\n",
       " 'K14': {'kodu1.py', 'kodu2.py'},\n",
       " 'K15': {'kodu1.py', 'kodu2.py', 'kodu3.py'}}"
      ]
     },
     "execution_count": 6,
     "metadata": {},
     "output_type": "execute_result"
    }
   ],
   "source": [
    "scripts = {}\n",
    "for hw in next(os.walk('processed'))[1]:\n",
    "    for student in next(os.walk(f'processed/{hw}'))[1]:\n",
    "        for script in next(os.walk(f'processed/{hw}/{student}'))[2]:\n",
    "            if hw not in scripts:\n",
    "                scripts[hw] = set()\n",
    "            scripts[hw].add(script)\n",
    "scripts"
   ]
  },
  {
   "attachments": {},
   "cell_type": "markdown",
   "metadata": {},
   "source": [
    "So, everything except for K07 is standardised (Reimo Palm warned us about `film.py` script in K08 homework).\n",
    "\n",
    "Time to see how bad the situation is:"
   ]
  },
  {
   "cell_type": "code",
   "execution_count": 7,
   "metadata": {},
   "outputs": [
    {
     "data": {
      "text/plain": [
       "{'taksohinnad.txt': [1, ['S026']],\n",
       " 'kodu4.py': [4, ['S048', 'S063', 'S329', 'S371']],\n",
       " 'lisaülesanne.py': [1, ['S080']],\n",
       " 'TAKSOHINNAD.txt': [1, ['S152']],\n",
       " 'varvid.py': [1, ['S214']],\n",
       " 'lisa.py': [1, ['S363']]}"
      ]
     },
     "execution_count": 7,
     "metadata": {},
     "output_type": "execute_result"
    }
   ],
   "source": [
    "scripts = {}\n",
    "#Having run script multiple times, we added scripts that had more than 250 submissions to this set\n",
    "standard_scripts = {'kodu1.py', 'kodu2.py', 'kodu3.py'}\n",
    "for student in next(os.walk(f'processed/K07'))[1]:\n",
    "    for script in next(os.walk(f'processed/K07/{student}'))[2]:\n",
    "        if script in standard_scripts:\n",
    "            continue\n",
    "        if script not in scripts:\n",
    "            scripts[script] = [0, []]\n",
    "        scripts[script][0] += 1\n",
    "        scripts[script][1].append(student)\n",
    "scripts"
   ]
  },
  {
   "attachments": {},
   "cell_type": "markdown",
   "metadata": {},
   "source": [
    "We see that the that only 7 people submitted bonus task. We can account for that and delete these files."
   ]
  },
  {
   "cell_type": "code",
   "execution_count": 8,
   "metadata": {},
   "outputs": [],
   "source": [
    "for filename, [_, s_codes] in scripts.items():\n",
    "    for student in s_codes:\n",
    "        path = f'processed/K07/{student}/{filename}'\n",
    "        if os.path.exists(path):\n",
    "            os.remove(path)"
   ]
  },
  {
   "attachments": {},
   "cell_type": "markdown",
   "metadata": {},
   "source": [
    "Finally, let's find out how many scripts are valid. For that we will call `ast.parse` function on a script. The rules are simple if `SyntaxError` is thrown then Python interpreter would do the same i.e. script won`t be interpreted. "
   ]
  },
  {
   "cell_type": "code",
   "execution_count": 9,
   "metadata": {},
   "outputs": [
    {
     "name": "stdout",
     "output_type": "stream",
     "text": [
      "cannot assign to literal here. Maybe you meant '==' instead of '='?\n",
      "invalid syntax\n",
      "invalid syntax\n",
      "invalid syntax\n",
      "invalid syntax\n",
      "invalid syntax\n",
      "expected ':'\n",
      "expected 'except' or 'finally' block\n",
      "expected an indented block after 'else' statement on line 17\n",
      "invalid syntax\n",
      "invalid syntax\n",
      "invalid syntax\n",
      "illegal target for annotation\n",
      "unexpected indent\n",
      "invalid syntax\n",
      "expected an indented block after 'for' statement on line 6\n",
      "invalid syntax\n",
      "invalid syntax\n",
      "expected an indented block after 'for' statement on line 3\n",
      "expected ':'\n",
      "invalid syntax\n",
      "invalid syntax\n",
      "invalid syntax. Perhaps you forgot a comma?\n",
      "unindent does not match any outer indentation level\n",
      "invalid syntax\n",
      "invalid syntax. Perhaps you forgot a comma?\n",
      "leading zeros in decimal integer literals are not permitted; use an 0o prefix for octal integers\n",
      "expected an indented block after function definition on line 1\n",
      "unmatched ')'\n",
      "expected an indented block after 'while' statement on line 18\n",
      "expected ':'\n",
      "invalid syntax\n",
      "invalid syntax\n",
      "invalid syntax\n",
      "invalid syntax\n",
      "invalid syntax. Perhaps you forgot a comma?\n",
      "invalid syntax\n",
      "invalid syntax\n",
      "expected ':'\n",
      "expected an indented block after 'with' statement on line 20\n",
      "invalid syntax\n",
      "expected an indented block after 'if' statement on line 8\n",
      "expected an indented block after 'while' statement on line 12\n",
      "invalid syntax\n",
      "expected an indented block after 'for' statement on line 13\n",
      "invalid syntax\n",
      "invalid syntax\n",
      "expected an indented block after 'for' statement on line 3\n",
      "leading zeros in decimal integer literals are not permitted; use an 0o prefix for octal integers\n",
      "invalid syntax\n",
      "invalid syntax\n",
      "invalid character '“' (U+201C)\n",
      "unexpected indent\n",
      "expected an indented block after function definition on line 19\n",
      "invalid syntax\n",
      "cannot use starred expression here\n",
      "invalid syntax\n",
      "invalid syntax\n",
      "'(' was never closed\n",
      "expected an indented block after function definition on line 3\n",
      "expected an indented block after 'for' statement on line 27\n",
      "invalid syntax\n",
      "invalid syntax\n",
      "invalid syntax. Perhaps you forgot a comma?\n",
      "expected 'except' or 'finally' block\n",
      "expected an indented block after function definition on line 1\n",
      "expected an indented block after function definition on line 3\n",
      "invalid syntax\n",
      "invalid syntax\n",
      "expected an indented block after function definition on line 3\n",
      "invalid syntax\n",
      "expected an indented block after 'for' statement on line 17\n",
      "'(' was never closed\n",
      "invalid syntax\n",
      "'[' was never closed\n",
      "invalid syntax\n",
      "invalid syntax\n",
      "invalid syntax. Perhaps you forgot a comma?\n",
      "expected an indented block after 'for' statement on line 8\n",
      "invalid syntax\n",
      "expected an indented block after 'if' statement on line 28\n",
      "invalid syntax\n",
      "expected an indented block after 'if' statement on line 12\n",
      "invalid syntax\n",
      "expected an indented block after 'else' statement on line 33\n",
      "invalid syntax\n",
      "expected ':'\n",
      "unexpected indent\n",
      "invalid syntax\n",
      "expected an indented block after 'if' statement on line 14\n",
      "expected an indented block after 'if' statement on line 17\n",
      "expected an indented block after 'for' statement on line 26\n",
      "expected an indented block after 'else' statement on line 8\n",
      "invalid syntax\n",
      "invalid syntax\n",
      "expected an indented block after function definition on line 15\n",
      "unmatched ')'\n",
      "expected an indented block after 'if' statement on line 2\n",
      "'(' was never closed\n",
      "invalid syntax\n",
      "'(' was never closed\n",
      "expected ':'\n",
      "expected an indented block after 'for' statement on line 18\n",
      "expected an indented block after function definition on line 4\n",
      "invalid syntax\n",
      "expected an indented block after 'if' statement on line 9\n",
      "unindent does not match any outer indentation level\n",
      "cannot assign to function call here. Maybe you meant '==' instead of '='?\n",
      "expected an indented block after 'if' statement on line 7\n",
      "There were 109 invalid scripts\n",
      "It constitutes 1.13% of the scripts\n"
     ]
    }
   ],
   "source": [
    "invalid_scripts = 0\n",
    "scripts_overall = 0\n",
    "invalid_scripts_paths = []\n",
    "for hw in next(os.walk('processed'))[1]:\n",
    "    for student in next(os.walk(f'processed/{hw}'))[1]:\n",
    "        for script in next(os.walk(f'processed/{hw}/{student}'))[2]:\n",
    "            with open(f'processed/{hw}/{student}/{script}', 'r', encoding='UTF-8') as f:\n",
    "                scripts_overall += 1\n",
    "                try:\n",
    "                    ast.parse(f.read())\n",
    "                except SyntaxError as e:\n",
    "                    invalid_scripts += 1\n",
    "                    invalid_scripts_paths.append(f'{hw}/{student}/{script}')\n",
    "                    print(e.msg)\n",
    "\n",
    "print(f'There were {invalid_scripts} invalid scripts')\n",
    "print(f'It constitutes {invalid_scripts/scripts_overall:.2%} of the scripts')"
   ]
  },
  {
   "cell_type": "code",
   "execution_count": 10,
   "metadata": {},
   "outputs": [
    {
     "data": {
      "text/plain": [
       "['K02/S126/kodu4.py',\n",
       " 'K02/S284/kodu4.py',\n",
       " 'K02/S332/kodu2.py',\n",
       " 'K03/S024/kodu3.py',\n",
       " 'K03/S104/kodu1.py',\n",
       " 'K03/S104/kodu3.py',\n",
       " 'K03/S104/kodu4.py',\n",
       " 'K03/S160/kodu4.py',\n",
       " 'K03/S175/kodu2.py',\n",
       " 'K03/S199/kodu3.py',\n",
       " 'K03/S201/kodu4.py',\n",
       " 'K03/S226/kodu2.py',\n",
       " 'K03/S226/kodu4.py',\n",
       " 'K03/S264/kodu4.py',\n",
       " 'K03/S267/kodu2.py',\n",
       " 'K03/S290/kodu4.py',\n",
       " 'K03/S301/kodu2.py',\n",
       " 'K03/S349/kodu2.py',\n",
       " 'K03/S367/kodu4.py',\n",
       " 'K04/S011/kodu3.py',\n",
       " 'K04/S048/kodu1.py',\n",
       " 'K04/S048/kodu3.py',\n",
       " 'K04/S058/kodu1.py',\n",
       " 'K04/S152/kodu1.py',\n",
       " 'K04/S152/kodu2.py',\n",
       " 'K04/S199/kodu3.py',\n",
       " 'K04/S264/kodu1.py',\n",
       " 'K04/S268/kodu2.py',\n",
       " 'K04/S275/kodu1.py',\n",
       " 'K04/S304/kodu1.py',\n",
       " 'K04/S341/kodu3.py',\n",
       " 'K04/S354/kodu2.py',\n",
       " 'K04/S367/kodu1.py',\n",
       " 'K05/S009/kodu1.py',\n",
       " 'K05/S009/kodu3.py',\n",
       " 'K05/S011/kodu1.py',\n",
       " 'K05/S057/kodu2.py',\n",
       " 'K05/S098/kodu2.py',\n",
       " 'K05/S104/kodu3.py',\n",
       " 'K05/S224/kodu1.py',\n",
       " 'K05/S226/kodu2.py',\n",
       " 'K05/S236/kodu1.py',\n",
       " 'K05/S245/kodu3.py',\n",
       " 'K05/S349/kodu2.py',\n",
       " 'K05/S359/kodu2.py',\n",
       " 'K07/S009/kodu1.py',\n",
       " 'K07/S107/kodu2.py',\n",
       " 'K07/S127/kodu2.py',\n",
       " 'K07/S134/kodu3.py',\n",
       " 'K07/S193/kodu3.py',\n",
       " 'K07/S245/kodu1.py',\n",
       " 'K07/S245/kodu3.py',\n",
       " 'K07/S278/kodu2.py',\n",
       " 'K08/S019/film.py',\n",
       " 'K08/S024/kodu3.py',\n",
       " 'K08/S043/kodu3.py',\n",
       " 'K08/S104/kodu1.py',\n",
       " 'K08/S130/kodu3.py',\n",
       " 'K08/S160/kodu3.py',\n",
       " 'K08/S170/kodu3.py',\n",
       " 'K08/S193/film.py',\n",
       " 'K08/S199/kodu3.py',\n",
       " 'K08/S245/film.py',\n",
       " 'K08/S252/kodu1.py',\n",
       " 'K08/S278/film.py',\n",
       " 'K08/S300/kodu3.py',\n",
       " 'K08/S308/film.py',\n",
       " 'K08/S354/kodu3.py',\n",
       " 'K09/S006/kodu1.py',\n",
       " 'K09/S094/kodu1.py',\n",
       " 'K09/S126/kodu1.py',\n",
       " 'K09/S193/kodu1.py',\n",
       " 'K09/S204/kodu1.py',\n",
       " 'K09/S238/kodu1.py',\n",
       " 'K09/S349/kodu1.py',\n",
       " 'K09/S364/kodu2.py',\n",
       " 'K10/S104/kodu1.py',\n",
       " 'K10/S104/kodu2.py',\n",
       " 'K10/S110/kodu2.py',\n",
       " 'K10/S126/kodu2.py',\n",
       " 'K10/S158/kodu2.py',\n",
       " 'K10/S182/kodu2.py',\n",
       " 'K10/S194/kodu1.py',\n",
       " 'K10/S199/kodu1.py',\n",
       " 'K10/S287/kodu1.py',\n",
       " 'K10/S323/kodu2.py',\n",
       " 'K10/S355/kodu2.py',\n",
       " 'K10/S367/kodu1.py',\n",
       " 'K11/S170/kodu1.py',\n",
       " 'K11/S299/kodu1.py',\n",
       " 'K11/S308/kodu1.py',\n",
       " 'K13/S167/kodu2.py',\n",
       " 'K13/S279/kodu2.py',\n",
       " 'K13/S349/kodu2.py',\n",
       " 'K13/S373/kodu2.py',\n",
       " 'K14/S058/kodu2.py',\n",
       " 'K14/S204/kodu2.py',\n",
       " 'K14/S210/kodu2.py',\n",
       " 'K14/S345/kodu1.py',\n",
       " 'K14/S349/kodu2.py',\n",
       " 'K14/S364/kodu2.py',\n",
       " 'K14/S377/kodu2.py',\n",
       " 'K15/S052/kodu3.py',\n",
       " 'K15/S094/kodu2.py',\n",
       " 'K15/S199/kodu3.py',\n",
       " 'K15/S242/kodu3.py',\n",
       " 'K15/S252/kodu3.py',\n",
       " 'K15/S283/kodu2.py',\n",
       " 'K15/S354/kodu2.py']"
      ]
     },
     "execution_count": 10,
     "metadata": {},
     "output_type": "execute_result"
    }
   ],
   "source": [
    "invalid_scripts_paths"
   ]
  },
  {
   "attachments": {},
   "cell_type": "markdown",
   "metadata": {},
   "source": [
    "Code block reported 109 invalid scripts, 1.13% of all submisssions.\n",
    "We cross-checked and syntax mistakes are indeed made in the last submissions. Fortunately, only about 1% of submitted scripts is invalid. To simplify further processing we will remove them as well."
   ]
  },
  {
   "cell_type": "code",
   "execution_count": 11,
   "metadata": {},
   "outputs": [],
   "source": [
    "for sub_path in invalid_scripts_paths:\n",
    "    path = f'processed/{sub_path}'\n",
    "    if os.path.exists(path):\n",
    "        os.remove(path)"
   ]
  },
  {
   "attachments": {},
   "cell_type": "markdown",
   "metadata": {},
   "source": [
    "Since we won't process the code as a plaint text further analysis will be conducted using `ast` package. "
   ]
  },
  {
   "attachments": {},
   "cell_type": "markdown",
   "metadata": {},
   "source": [
    "### AST or Abstract Syntax Tree"
   ]
  },
  {
   "attachments": {},
   "cell_type": "markdown",
   "metadata": {},
   "source": [
    "#### What is an AST?\n",
    "\n",
    "AST is a tree representation of the source code, its nodes consist of tokens that represent syntactic features of the given language."
   ]
  },
  {
   "cell_type": "code",
   "execution_count": 12,
   "metadata": {},
   "outputs": [
    {
     "name": "stdout",
     "output_type": "stream",
     "text": [
      "Hi there!\n",
      "Hi there!\n",
      "Hi there!\n",
      "Hi there!\n",
      "Hi there!\n",
      "Hi there!\n",
      "Hi there!\n",
      "Hi there!\n",
      "Hi there!\n",
      "Hi there!\n"
     ]
    },
    {
     "data": {
      "image/png": "[encoded data removed]",
      "text/plain": [
       "<IPython.core.display.Image object>"
      ]
     },
     "execution_count": 12,
     "metadata": {
      "image/png": {
       "height": 492,
       "width": 400
      }
     },
     "output_type": "execute_result"
    }
   ],
   "source": [
    "#This code corresponds to the AST below\n",
    "for i in range(10):\n",
    "    print('Hi there!')\n",
    "\n",
    "\n",
    "Image('assets/ast.png', width=400, height=492)#[1]"
   ]
  },
  {
   "cell_type": "code",
   "execution_count": 13,
   "metadata": {},
   "outputs": [
    {
     "name": "stdout",
     "output_type": "stream",
     "text": [
      "Module(\n",
      "  body=[\n",
      "    For(\n",
      "      target=Name(id='i', ctx=Store()),\n",
      "      iter=Call(\n",
      "        func=Name(id='range', ctx=Load()),\n",
      "        args=[\n",
      "          Constant(value=10)],\n",
      "        keywords=[]),\n",
      "      body=[\n",
      "        Expr(\n",
      "          value=Call(\n",
      "            func=Name(id='print', ctx=Load()),\n",
      "            args=[\n",
      "              Constant(value='Hi there!')],\n",
      "            keywords=[]))],\n",
      "      orelse=[])],\n",
      "  type_ignores=[])\n"
     ]
    }
   ],
   "source": [
    "a = \"\"\"\n",
    "for i in range(10):\n",
    "    print('Hi there!')\n",
    "\"\"\"\n",
    "print(ast.dump(ast.parse(a),indent=2))"
   ]
  },
  {
   "attachments": {},
   "cell_type": "markdown",
   "metadata": {},
   "source": [
    "#### Motivation behind using AST\n",
    "\n",
    "It is quite easy to rename variables and make plain text analysis fail. Therefore, we need to account for control-flow and syntax factor of the source code. AST allows us to do exactly that.\n",
    "It allows us to analyse code and reduce the role variable renaming plays in the analysis."
   ]
  },
  {
   "attachments": {},
   "cell_type": "markdown",
   "metadata": {},
   "source": [
    "Let's first explore what ASTs are generated from familiar python code snippets (`ast` has an abstract about python abstract grammar and how it is linked to fields and attributes of `ast.Node` classes, yet it is more intuitive to see the actual tree structure than guess it)"
   ]
  },
  {
   "attachments": {},
   "cell_type": "markdown",
   "metadata": {},
   "source": [
    "#### Variable declarations"
   ]
  },
  {
   "cell_type": "code",
   "execution_count": 14,
   "metadata": {},
   "outputs": [
    {
     "name": "stdout",
     "output_type": "stream",
     "text": [
      "Module(\n",
      "  body=[\n",
      "    Assign(\n",
      "      targets=[\n",
      "        Name(id='a', ctx=Store())],\n",
      "      value=Constant(value=5))],\n",
      "  type_ignores=[])\n"
     ]
    }
   ],
   "source": [
    "a = \"a=5\"\n",
    "print(ast.dump(ast.parse(a),indent=2))"
   ]
  },
  {
   "cell_type": "code",
   "execution_count": 15,
   "metadata": {},
   "outputs": [
    {
     "name": "stdout",
     "output_type": "stream",
     "text": [
      "Module(\n",
      "  body=[\n",
      "    Assign(\n",
      "      targets=[\n",
      "        Name(id='a', ctx=Store())],\n",
      "      value=Constant(value='Sussy Baka'))],\n",
      "  type_ignores=[])\n"
     ]
    }
   ],
   "source": [
    "a = \"a='Sussy Baka'\"\n",
    "print(ast.dump(ast.parse(a),indent=2))"
   ]
  },
  {
   "cell_type": "code",
   "execution_count": 16,
   "metadata": {},
   "outputs": [
    {
     "name": "stdout",
     "output_type": "stream",
     "text": [
      "Module(\n",
      "  body=[\n",
      "    Assign(\n",
      "      targets=[\n",
      "        Name(id='a', ctx=Store())],\n",
      "      value=Constant(value=True))],\n",
      "  type_ignores=[])\n"
     ]
    },
    {
     "data": {
      "text/plain": [
       "'bool'"
      ]
     },
     "execution_count": 16,
     "metadata": {},
     "output_type": "execute_result"
    }
   ],
   "source": [
    "a = \"a=True\"\n",
    "print(ast.dump(ast.parse(a),indent=2))\n",
    "ast.parse(a).body[0].value.value.__class__.__name__"
   ]
  },
  {
   "attachments": {},
   "cell_type": "markdown",
   "metadata": {},
   "source": [
    "So constants in the AST have the same type name as the primitives"
   ]
  },
  {
   "cell_type": "code",
   "execution_count": 17,
   "metadata": {},
   "outputs": [
    {
     "name": "stdout",
     "output_type": "stream",
     "text": [
      "Module(\n",
      "  body=[\n",
      "    Assign(\n",
      "      targets=[\n",
      "        Name(id='a', ctx=Store())],\n",
      "      value=Constant(value=5)),\n",
      "    Assign(\n",
      "      targets=[\n",
      "        Name(id='b', ctx=Store())],\n",
      "      value=Name(id='a', ctx=Load()))],\n",
      "  type_ignores=[])\n"
     ]
    }
   ],
   "source": [
    "a = \"a=5\\nb=a\"\n",
    "print(ast.dump(ast.parse(a),indent=2))"
   ]
  },
  {
   "cell_type": "code",
   "execution_count": 18,
   "metadata": {},
   "outputs": [
    {
     "name": "stdout",
     "output_type": "stream",
     "text": [
      "Module(\n",
      "  body=[\n",
      "    Assign(\n",
      "      targets=[\n",
      "        Name(id='a', ctx=Store())],\n",
      "      value=Constant(value=2)),\n",
      "    Assign(\n",
      "      targets=[\n",
      "        Name(id='a', ctx=Store())],\n",
      "      value=Constant(value='some val'))],\n",
      "  type_ignores=[])\n"
     ]
    }
   ],
   "source": [
    "a = \"a=2\\na='some val'\"\n",
    "print(ast.dump(ast.parse(a),indent=2))"
   ]
  },
  {
   "cell_type": "code",
   "execution_count": 19,
   "metadata": {},
   "outputs": [
    {
     "name": "stdout",
     "output_type": "stream",
     "text": [
      "Module(\n",
      "  body=[\n",
      "    Assign(\n",
      "      targets=[\n",
      "        Name(id='a', ctx=Store())],\n",
      "      value=Name(id='b', ctx=Load()))],\n",
      "  type_ignores=[])\n"
     ]
    }
   ],
   "source": [
    "a = \"a=b\"\n",
    "print(ast.dump(ast.parse(a),indent=2))"
   ]
  },
  {
   "attachments": {},
   "cell_type": "markdown",
   "metadata": {},
   "source": [
    "We can see that AST does not help us to filter faulty programs, `a=b` is syntactic valid structure, yet b is undefined and code will throw runtime error"
   ]
  },
  {
   "attachments": {},
   "cell_type": "markdown",
   "metadata": {},
   "source": [
    "So far, we have seen that root node is Module, AST nodes are stored either as a field e.g. `value` or in a list e.g. `body`\n",
    "\n",
    "Other insights: \n",
    "- variable instantiation corresponds to `Assign`\n",
    "- variable names corresponds to `Name` node, names is stored in `id` field, can be cleaned\n",
    "- `ctx` field corresponds to the action performed on variable(we store new value or load it), can be cleaned \n",
    "- Strings are constants (booleans and numbers are obivously constants too), node is `Constant`"
   ]
  },
  {
   "attachments": {},
   "cell_type": "markdown",
   "metadata": {},
   "source": [
    "#### Arithmetic operations"
   ]
  },
  {
   "cell_type": "code",
   "execution_count": 20,
   "metadata": {},
   "outputs": [
    {
     "name": "stdout",
     "output_type": "stream",
     "text": [
      "Module(\n",
      "  body=[\n",
      "    Expr(\n",
      "      value=BinOp(\n",
      "        left=Constant(value=2),\n",
      "        op=Add(),\n",
      "        right=Constant(value=2)))],\n",
      "  type_ignores=[])\n"
     ]
    }
   ],
   "source": [
    "a = \"2+2\"\n",
    "print(ast.dump(ast.parse(a),indent=2))"
   ]
  },
  {
   "cell_type": "code",
   "execution_count": 21,
   "metadata": {},
   "outputs": [
    {
     "name": "stdout",
     "output_type": "stream",
     "text": [
      "Module(\n",
      "  body=[\n",
      "    Assign(\n",
      "      targets=[\n",
      "        Name(id='a', ctx=Store())],\n",
      "      value=BinOp(\n",
      "        left=Constant(value=2),\n",
      "        op=Add(),\n",
      "        right=Constant(value=2)))],\n",
      "  type_ignores=[])\n"
     ]
    }
   ],
   "source": [
    "a = \"a=2+2\"\n",
    "print(ast.dump(ast.parse(a),indent=2))"
   ]
  },
  {
   "cell_type": "code",
   "execution_count": 22,
   "metadata": {},
   "outputs": [
    {
     "name": "stdout",
     "output_type": "stream",
     "text": [
      "Module(\n",
      "  body=[\n",
      "    Assign(\n",
      "      targets=[\n",
      "        Name(id='a', ctx=Store())],\n",
      "      value=BinOp(\n",
      "        left=Constant(value=2),\n",
      "        op=Mod(),\n",
      "        right=Constant(value=2)))],\n",
      "  type_ignores=[])\n"
     ]
    }
   ],
   "source": [
    "a = \"a=2%2\"\n",
    "print(ast.dump(ast.parse(a),indent=2))"
   ]
  },
  {
   "cell_type": "code",
   "execution_count": 23,
   "metadata": {},
   "outputs": [
    {
     "name": "stdout",
     "output_type": "stream",
     "text": [
      "Module(\n",
      "  body=[\n",
      "    Expr(\n",
      "      value=BinOp(\n",
      "        left=BinOp(\n",
      "          left=Constant(value=2),\n",
      "          op=Add(),\n",
      "          right=BinOp(\n",
      "            left=Constant(value=2),\n",
      "            op=Mult(),\n",
      "            right=Constant(value=2))),\n",
      "        op=Sub(),\n",
      "        right=Constant(value=1)))],\n",
      "  type_ignores=[])\n"
     ]
    }
   ],
   "source": [
    "a = \"2+2*2-1\"\n",
    "print(ast.dump(ast.parse(a),indent=2))"
   ]
  },
  {
   "attachments": {},
   "cell_type": "markdown",
   "metadata": {},
   "source": [
    "Nothing really interesting here, binary operations represent a binary tree"
   ]
  },
  {
   "cell_type": "code",
   "execution_count": 24,
   "metadata": {},
   "outputs": [
    {
     "name": "stdout",
     "output_type": "stream",
     "text": [
      "Module(\n",
      "  body=[\n",
      "    Expr(\n",
      "      value=UnaryOp(\n",
      "        op=USub(),\n",
      "        operand=Constant(value=1)))],\n",
      "  type_ignores=[])\n"
     ]
    }
   ],
   "source": [
    "a = \"-1\"\n",
    "print(ast.dump(ast.parse(a),indent=2))"
   ]
  },
  {
   "attachments": {},
   "cell_type": "markdown",
   "metadata": {},
   "source": [
    "Negative constants are actually positive constants to which unary minus is applied"
   ]
  },
  {
   "attachments": {},
   "cell_type": "markdown",
   "metadata": {},
   "source": [
    "#### Comparison operators"
   ]
  },
  {
   "cell_type": "code",
   "execution_count": 25,
   "metadata": {},
   "outputs": [
    {
     "name": "stdout",
     "output_type": "stream",
     "text": [
      "Module(\n",
      "  body=[\n",
      "    Expr(\n",
      "      value=Compare(\n",
      "        left=Constant(value=3),\n",
      "        ops=[\n",
      "          Eq()],\n",
      "        comparators=[\n",
      "          Constant(value=2)]))],\n",
      "  type_ignores=[])\n"
     ]
    }
   ],
   "source": [
    "a = \"3==2\"\n",
    "print(ast.dump(ast.parse(a), indent=2))"
   ]
  },
  {
   "cell_type": "code",
   "execution_count": 26,
   "metadata": {},
   "outputs": [
    {
     "name": "stdout",
     "output_type": "stream",
     "text": [
      "Module(\n",
      "  body=[\n",
      "    Assign(\n",
      "      targets=[\n",
      "        Name(id='a', ctx=Store())],\n",
      "      value=Constant(value=3)),\n",
      "    Expr(\n",
      "      value=Compare(\n",
      "        left=Name(id='a', ctx=Load()),\n",
      "        ops=[\n",
      "          Eq()],\n",
      "        comparators=[\n",
      "          Constant(value=2)]))],\n",
      "  type_ignores=[])\n"
     ]
    }
   ],
   "source": [
    "a = \"a=3\\na==2\"\n",
    "print(ast.dump(ast.parse(a),indent=2))"
   ]
  },
  {
   "cell_type": "code",
   "execution_count": 27,
   "metadata": {},
   "outputs": [
    {
     "name": "stdout",
     "output_type": "stream",
     "text": [
      "Module(\n",
      "  body=[\n",
      "    Expr(\n",
      "      value=Compare(\n",
      "        left=Constant(value=1),\n",
      "        ops=[\n",
      "          Eq(),\n",
      "          Eq()],\n",
      "        comparators=[\n",
      "          Constant(value=2),\n",
      "          Constant(value=3)]))],\n",
      "  type_ignores=[])\n"
     ]
    }
   ],
   "source": [
    "a = \"1==2==3\"\n",
    "print(ast.dump(ast.parse(a),indent=2))"
   ]
  },
  {
   "cell_type": "code",
   "execution_count": 28,
   "metadata": {},
   "outputs": [
    {
     "name": "stdout",
     "output_type": "stream",
     "text": [
      "Module(\n",
      "  body=[\n",
      "    Expr(\n",
      "      value=Compare(\n",
      "        left=Constant(value=1),\n",
      "        ops=[\n",
      "          LtE(),\n",
      "          GtE()],\n",
      "        comparators=[\n",
      "          Constant(value=3),\n",
      "          Constant(value=2)]))],\n",
      "  type_ignores=[])\n"
     ]
    }
   ],
   "source": [
    "a = \"1<=3>=2\"\n",
    "print(ast.dump(ast.parse(a),indent=2))"
   ]
  },
  {
   "attachments": {},
   "cell_type": "markdown",
   "metadata": {},
   "source": [
    "Comparison operators represent a sequence, rather contrintuitive we would say"
   ]
  },
  {
   "attachments": {},
   "cell_type": "markdown",
   "metadata": {},
   "source": [
    "#### If-else control flow"
   ]
  },
  {
   "cell_type": "code",
   "execution_count": 29,
   "metadata": {},
   "outputs": [
    {
     "name": "stdout",
     "output_type": "stream",
     "text": [
      "Module(\n",
      "  body=[\n",
      "    If(\n",
      "      test=Compare(\n",
      "        left=Constant(value=3),\n",
      "        ops=[\n",
      "          Eq()],\n",
      "        comparators=[\n",
      "          Constant(value=2)]),\n",
      "      body=[\n",
      "        Pass()],\n",
      "      orelse=[\n",
      "        If(\n",
      "          test=Compare(\n",
      "            left=Constant(value=2),\n",
      "            ops=[\n",
      "              Eq()],\n",
      "            comparators=[\n",
      "              Constant(value=2)]),\n",
      "          body=[\n",
      "            Pass()],\n",
      "          orelse=[\n",
      "            Expr(\n",
      "              value=Constant(value=Ellipsis))])])],\n",
      "  type_ignores=[])\n"
     ]
    }
   ],
   "source": [
    "a = \"\"\"\n",
    "if 3==2:\n",
    "    pass\n",
    "elif 2==2:\n",
    "    pass \n",
    "else:\n",
    "    ...\n",
    "\"\"\"\n",
    "print(ast.dump(ast.parse(a),indent=2))"
   ]
  },
  {
   "attachments": {},
   "cell_type": "markdown",
   "metadata": {},
   "source": [
    "We see that `elif` is syntactic sugar it is just else with if-else block inside\n",
    "\n",
    "On the side note\n",
    "- Ellipsis is a constant too"
   ]
  },
  {
   "attachments": {},
   "cell_type": "markdown",
   "metadata": {},
   "source": [
    "If-else expression"
   ]
  },
  {
   "cell_type": "code",
   "execution_count": 30,
   "metadata": {},
   "outputs": [
    {
     "name": "stdout",
     "output_type": "stream",
     "text": [
      "Module(\n",
      "  body=[\n",
      "    Expr(\n",
      "      value=IfExp(\n",
      "        test=Constant(value=True),\n",
      "        body=Constant(value=2),\n",
      "        orelse=Constant(value=5)))],\n",
      "  type_ignores=[])\n"
     ]
    }
   ],
   "source": [
    "a = \"\"\"2 if True else 5\"\"\"\n",
    "print(ast.dump(ast.parse(a),indent=2))"
   ]
  },
  {
   "attachments": {},
   "cell_type": "markdown",
   "metadata": {},
   "source": [
    "#### Data Structures"
   ]
  },
  {
   "attachments": {},
   "cell_type": "markdown",
   "metadata": {},
   "source": [
    "Lists"
   ]
  },
  {
   "cell_type": "code",
   "execution_count": 31,
   "metadata": {},
   "outputs": [
    {
     "name": "stdout",
     "output_type": "stream",
     "text": [
      "Module(\n",
      "  body=[\n",
      "    Expr(\n",
      "      value=List(\n",
      "        elts=[\n",
      "          Constant(value=1),\n",
      "          Constant(value=2),\n",
      "          Constant(value=3),\n",
      "          Constant(value=4),\n",
      "          Constant(value=5)],\n",
      "        ctx=Load()))],\n",
      "  type_ignores=[])\n"
     ]
    }
   ],
   "source": [
    "a = \"[1,2,3,4,5]\"\n",
    "print(ast.dump(ast.parse(a),indent=2))"
   ]
  },
  {
   "cell_type": "code",
   "execution_count": 32,
   "metadata": {},
   "outputs": [
    {
     "name": "stdout",
     "output_type": "stream",
     "text": [
      "Module(\n",
      "  body=[\n",
      "    Assign(\n",
      "      targets=[\n",
      "        Name(id='a', ctx=Store())],\n",
      "      value=List(\n",
      "        elts=[\n",
      "          Constant(value=1),\n",
      "          Constant(value=2),\n",
      "          Constant(value=3),\n",
      "          Constant(value=4),\n",
      "          Constant(value=5)],\n",
      "        ctx=Load())),\n",
      "    Assign(\n",
      "      targets=[\n",
      "        Subscript(\n",
      "          value=Name(id='a', ctx=Load()),\n",
      "          slice=Constant(value=0),\n",
      "          ctx=Store())],\n",
      "      value=Constant(value=2))],\n",
      "  type_ignores=[])\n"
     ]
    }
   ],
   "source": [
    "a = \"\"\"\n",
    "a=[1,2,3,4,5]\n",
    "a[0]=2\n",
    "\"\"\"\n",
    "print(ast.dump(ast.parse(a),indent=2))"
   ]
  },
  {
   "cell_type": "code",
   "execution_count": 33,
   "metadata": {},
   "outputs": [
    {
     "name": "stdout",
     "output_type": "stream",
     "text": [
      "Module(\n",
      "  body=[\n",
      "    Assign(\n",
      "      targets=[\n",
      "        Name(id='a', ctx=Store())],\n",
      "      value=List(\n",
      "        elts=[\n",
      "          Constant(value=1),\n",
      "          Constant(value=2),\n",
      "          Constant(value=3),\n",
      "          Constant(value=4),\n",
      "          Constant(value=5)],\n",
      "        ctx=Load())),\n",
      "    Assign(\n",
      "      targets=[\n",
      "        Subscript(\n",
      "          value=Name(id='a', ctx=Load()),\n",
      "          slice=Slice(\n",
      "            lower=Constant(value=1),\n",
      "            upper=Constant(value=2)),\n",
      "          ctx=Store())],\n",
      "      value=List(\n",
      "        elts=[\n",
      "          Constant(value=2),\n",
      "          Constant(value=3)],\n",
      "        ctx=Load()))],\n",
      "  type_ignores=[])\n"
     ]
    }
   ],
   "source": [
    "a = \"\"\"\n",
    "a=[1,2,3,4,5]\n",
    "a[1:2]=[2,3]\n",
    "\"\"\"\n",
    "print(ast.dump(ast.parse(a),indent=2))"
   ]
  },
  {
   "cell_type": "code",
   "execution_count": 34,
   "metadata": {},
   "outputs": [
    {
     "name": "stdout",
     "output_type": "stream",
     "text": [
      "Module(\n",
      "  body=[\n",
      "    Assign(\n",
      "      targets=[\n",
      "        Name(id='a', ctx=Store())],\n",
      "      value=List(\n",
      "        elts=[\n",
      "          Constant(value=1),\n",
      "          Constant(value=2),\n",
      "          Constant(value=3),\n",
      "          Constant(value=4),\n",
      "          Constant(value=5)],\n",
      "        ctx=Load())),\n",
      "    Assign(\n",
      "      targets=[\n",
      "        Subscript(\n",
      "          value=Name(id='a', ctx=Load()),\n",
      "          slice=Slice(),\n",
      "          ctx=Store())],\n",
      "      value=List(\n",
      "        elts=[\n",
      "          Constant(value=2),\n",
      "          Constant(value=3)],\n",
      "        ctx=Load()))],\n",
      "  type_ignores=[])\n"
     ]
    }
   ],
   "source": [
    "a = \"\"\"\n",
    "a=[1,2,3,4,5]\n",
    "a[:]=[2,3]\n",
    "\"\"\"\n",
    "print(ast.dump(ast.parse(a),indent=2))"
   ]
  },
  {
   "cell_type": "code",
   "execution_count": 35,
   "metadata": {},
   "outputs": [
    {
     "name": "stdout",
     "output_type": "stream",
     "text": [
      "Module(\n",
      "  body=[\n",
      "    Assign(\n",
      "      targets=[\n",
      "        Name(id='a', ctx=Store())],\n",
      "      value=List(\n",
      "        elts=[\n",
      "          Constant(value=1),\n",
      "          Constant(value=2),\n",
      "          Constant(value=3),\n",
      "          Constant(value=4),\n",
      "          Constant(value=5)],\n",
      "        ctx=Load())),\n",
      "    Expr(\n",
      "      value=Subscript(\n",
      "        value=Name(id='a', ctx=Load()),\n",
      "        slice=Slice(\n",
      "          lower=Constant(value=1),\n",
      "          upper=Constant(value=2)),\n",
      "        ctx=Load()))],\n",
      "  type_ignores=[])\n"
     ]
    }
   ],
   "source": [
    "a = \"\"\"\n",
    "a=[1,2,3,4,5]\n",
    "a[1:2]\n",
    "\"\"\"\n",
    "print(ast.dump(ast.parse(a),indent=2))"
   ]
  },
  {
   "cell_type": "code",
   "execution_count": 36,
   "metadata": {},
   "outputs": [
    {
     "name": "stdout",
     "output_type": "stream",
     "text": [
      "Module(\n",
      "  body=[\n",
      "    Assign(\n",
      "      targets=[\n",
      "        Name(id='a', ctx=Store())],\n",
      "      value=List(\n",
      "        elts=[\n",
      "          Constant(value=1),\n",
      "          Constant(value=2),\n",
      "          Constant(value=3),\n",
      "          Constant(value=4),\n",
      "          Constant(value=5)],\n",
      "        ctx=Load())),\n",
      "    Expr(\n",
      "      value=Call(\n",
      "        func=Attribute(\n",
      "          value=Name(id='a', ctx=Load()),\n",
      "          attr='append',\n",
      "          ctx=Load()),\n",
      "        args=[\n",
      "          Constant(value=3)],\n",
      "        keywords=[]))],\n",
      "  type_ignores=[])\n"
     ]
    }
   ],
   "source": [
    "a = \"\"\"\n",
    "a=[1,2,3,4,5]\n",
    "a.append(3)\n",
    "\"\"\"\n",
    "print(ast.dump(ast.parse(a),indent=2))"
   ]
  },
  {
   "attachments": {},
   "cell_type": "markdown",
   "metadata": {},
   "source": [
    "Tuples"
   ]
  },
  {
   "cell_type": "code",
   "execution_count": 37,
   "metadata": {},
   "outputs": [
    {
     "name": "stdout",
     "output_type": "stream",
     "text": [
      "Module(\n",
      "  body=[\n",
      "    Expr(\n",
      "      value=Tuple(\n",
      "        elts=[\n",
      "          Constant(value=1),\n",
      "          Constant(value=2)],\n",
      "        ctx=Load()))],\n",
      "  type_ignores=[])\n"
     ]
    }
   ],
   "source": [
    "a = \"(1, 2)\"\n",
    "print(ast.dump(ast.parse(a),indent=2))"
   ]
  },
  {
   "attachments": {},
   "cell_type": "markdown",
   "metadata": {},
   "source": [
    "Dictionaries"
   ]
  },
  {
   "cell_type": "code",
   "execution_count": 38,
   "metadata": {},
   "outputs": [
    {
     "name": "stdout",
     "output_type": "stream",
     "text": [
      "Module(\n",
      "  body=[\n",
      "    Expr(\n",
      "      value=Dict(\n",
      "        keys=[\n",
      "          Constant(value='a')],\n",
      "        values=[\n",
      "          Constant(value=2)]))],\n",
      "  type_ignores=[])\n"
     ]
    }
   ],
   "source": [
    "a = \"{'a':2}\"\n",
    "print(ast.dump(ast.parse(a),indent=2))"
   ]
  },
  {
   "cell_type": "code",
   "execution_count": 39,
   "metadata": {},
   "outputs": [
    {
     "name": "stdout",
     "output_type": "stream",
     "text": [
      "Module(\n",
      "  body=[\n",
      "    Assign(\n",
      "      targets=[\n",
      "        Name(id='a', ctx=Store())],\n",
      "      value=Dict(\n",
      "        keys=[\n",
      "          Constant(value='a')],\n",
      "        values=[\n",
      "          Constant(value=1)])),\n",
      "    Assign(\n",
      "      targets=[\n",
      "        Subscript(\n",
      "          value=Name(id='a', ctx=Load()),\n",
      "          slice=Constant(value='b'),\n",
      "          ctx=Store())],\n",
      "      value=Constant(value=2))],\n",
      "  type_ignores=[])\n"
     ]
    }
   ],
   "source": [
    "a = \"\"\"\n",
    "a={'a':1}\n",
    "a['b']=2\n",
    "\"\"\"\n",
    "print(ast.dump(ast.parse(a),indent=2))"
   ]
  },
  {
   "attachments": {},
   "cell_type": "markdown",
   "metadata": {},
   "source": [
    "Sets"
   ]
  },
  {
   "cell_type": "code",
   "execution_count": 40,
   "metadata": {},
   "outputs": [
    {
     "name": "stdout",
     "output_type": "stream",
     "text": [
      "Module(\n",
      "  body=[\n",
      "    Expr(\n",
      "      value=Set(\n",
      "        elts=[\n",
      "          Constant(value=1),\n",
      "          Constant(value=2),\n",
      "          Constant(value=3)]))],\n",
      "  type_ignores=[])\n"
     ]
    }
   ],
   "source": [
    "a = \"{1, 2, 3}\"\n",
    "print(ast.dump(ast.parse(a),indent=2))"
   ]
  },
  {
   "attachments": {},
   "cell_type": "markdown",
   "metadata": {},
   "source": [
    "#### Loops"
   ]
  },
  {
   "cell_type": "code",
   "execution_count": 41,
   "metadata": {},
   "outputs": [
    {
     "name": "stdout",
     "output_type": "stream",
     "text": [
      "Module(\n",
      "  body=[\n",
      "    For(\n",
      "      target=Name(id='_', ctx=Store()),\n",
      "      iter=List(\n",
      "        elts=[\n",
      "          Constant(value=1),\n",
      "          Constant(value=2),\n",
      "          Constant(value=3)],\n",
      "        ctx=Load()),\n",
      "      body=[\n",
      "        Pass()],\n",
      "      orelse=[])],\n",
      "  type_ignores=[])\n"
     ]
    }
   ],
   "source": [
    "a = \"\"\"\n",
    "for _ in [1,2,3]:\n",
    "    pass\n",
    "\"\"\"\n",
    "print(ast.dump(ast.parse(a),indent=2))"
   ]
  },
  {
   "cell_type": "code",
   "execution_count": 42,
   "metadata": {},
   "outputs": [
    {
     "name": "stdout",
     "output_type": "stream",
     "text": [
      "Module(\n",
      "  body=[\n",
      "    For(\n",
      "      target=Name(id='i', ctx=Store()),\n",
      "      iter=Call(\n",
      "        func=Name(id='range', ctx=Load()),\n",
      "        args=[\n",
      "          Constant(value=5)],\n",
      "        keywords=[]),\n",
      "      body=[\n",
      "        Pass()],\n",
      "      orelse=[])],\n",
      "  type_ignores=[])\n"
     ]
    }
   ],
   "source": [
    "a=\"\"\"\n",
    "for i in range(5):\n",
    "    pass\n",
    "\"\"\"\n",
    "print(ast.dump(ast.parse(a),indent=2))"
   ]
  },
  {
   "cell_type": "code",
   "execution_count": 43,
   "metadata": {},
   "outputs": [
    {
     "name": "stdout",
     "output_type": "stream",
     "text": [
      "Module(\n",
      "  body=[\n",
      "    While(\n",
      "      test=Constant(value=True),\n",
      "      body=[\n",
      "        Pass()],\n",
      "      orelse=[])],\n",
      "  type_ignores=[])\n"
     ]
    }
   ],
   "source": [
    "a=\"\"\"\n",
    "while True:\n",
    "    pass\n",
    "\"\"\"\n",
    "print(ast.dump(ast.parse(a),indent=2))"
   ]
  },
  {
   "attachments": {},
   "cell_type": "markdown",
   "metadata": {},
   "source": [
    "Quite unexpectedly loops have `orelse` attribute"
   ]
  },
  {
   "attachments": {},
   "cell_type": "markdown",
   "metadata": {},
   "source": [
    "#### Functions"
   ]
  },
  {
   "cell_type": "code",
   "execution_count": 44,
   "metadata": {},
   "outputs": [
    {
     "name": "stdout",
     "output_type": "stream",
     "text": [
      "Module(\n",
      "  body=[\n",
      "    FunctionDef(\n",
      "      name='foo',\n",
      "      args=arguments(\n",
      "        posonlyargs=[],\n",
      "        args=[\n",
      "          arg(arg='a'),\n",
      "          arg(arg='b')],\n",
      "        kwonlyargs=[],\n",
      "        kw_defaults=[],\n",
      "        defaults=[\n",
      "          Constant(value=2)]),\n",
      "      body=[\n",
      "        Pass()],\n",
      "      decorator_list=[])],\n",
      "  type_ignores=[])\n"
     ]
    }
   ],
   "source": [
    "a=\"\"\"\n",
    "def foo(a, b=2):\n",
    "    pass\n",
    "\"\"\"\n",
    "print(ast.dump(ast.parse(a),indent=2))"
   ]
  },
  {
   "cell_type": "code",
   "execution_count": 45,
   "metadata": {},
   "outputs": [
    {
     "name": "stdout",
     "output_type": "stream",
     "text": [
      "Module(\n",
      "  body=[\n",
      "    FunctionDef(\n",
      "      name='foo',\n",
      "      args=arguments(\n",
      "        posonlyargs=[\n",
      "          arg(arg='a')],\n",
      "        args=[\n",
      "          arg(arg='b')],\n",
      "        kwonlyargs=[\n",
      "          arg(arg='c'),\n",
      "          arg(arg='d')],\n",
      "        kw_defaults=[\n",
      "          Constant(value=2),\n",
      "          None],\n",
      "        defaults=[]),\n",
      "      body=[\n",
      "        Pass()],\n",
      "      decorator_list=[])],\n",
      "  type_ignores=[])\n"
     ]
    }
   ],
   "source": [
    "a=\"\"\"\n",
    "def foo(a, /, b, *, c=2, d):\n",
    "    pass\n",
    "\"\"\"\n",
    "print(ast.dump(ast.parse(a),indent=2))"
   ]
  },
  {
   "cell_type": "code",
   "execution_count": 46,
   "metadata": {},
   "outputs": [
    {
     "name": "stdout",
     "output_type": "stream",
     "text": [
      "Module(\n",
      "  body=[\n",
      "    Expr(\n",
      "      value=Call(\n",
      "        func=Name(id='foo', ctx=Load()),\n",
      "        args=[\n",
      "          Constant(value=2),\n",
      "          Constant(value=3)],\n",
      "        keywords=[\n",
      "          keyword(\n",
      "            value=Dict(\n",
      "              keys=[\n",
      "                Name(id='c', ctx=Load()),\n",
      "                Name(id='d', ctx=Load())],\n",
      "              values=[\n",
      "                Constant(value=2),\n",
      "                Constant(value=2)]))]))],\n",
      "  type_ignores=[])\n"
     ]
    }
   ],
   "source": [
    "a=\"\"\"\n",
    "foo(2,3, **{c:2, d:2})\n",
    "\"\"\"\n",
    "print(ast.dump(ast.parse(a),indent=2))"
   ]
  },
  {
   "cell_type": "code",
   "execution_count": 47,
   "metadata": {},
   "outputs": [
    {
     "name": "stdout",
     "output_type": "stream",
     "text": [
      "Module(\n",
      "  body=[\n",
      "    FunctionDef(\n",
      "      name='foo',\n",
      "      args=arguments(\n",
      "        posonlyargs=[\n",
      "          arg(arg='a')],\n",
      "        args=[\n",
      "          arg(arg='b')],\n",
      "        vararg=arg(arg='c'),\n",
      "        kwonlyargs=[\n",
      "          arg(arg='d')],\n",
      "        kw_defaults=[\n",
      "          Constant(value=2)],\n",
      "        defaults=[]),\n",
      "      body=[\n",
      "        Pass()],\n",
      "      decorator_list=[])],\n",
      "  type_ignores=[])\n"
     ]
    }
   ],
   "source": [
    "a=\"\"\"\n",
    "def foo(a, /, b, *c, d=2):\n",
    "    pass\n",
    "\"\"\"\n",
    "print(ast.dump(ast.parse(a),indent=2))"
   ]
  },
  {
   "attachments": {},
   "cell_type": "markdown",
   "metadata": {},
   "source": [
    "Closures"
   ]
  },
  {
   "cell_type": "code",
   "execution_count": 48,
   "metadata": {},
   "outputs": [
    {
     "name": "stdout",
     "output_type": "stream",
     "text": [
      "Module(\n",
      "  body=[\n",
      "    FunctionDef(\n",
      "      name='foo',\n",
      "      args=arguments(\n",
      "        posonlyargs=[],\n",
      "        args=[],\n",
      "        kwonlyargs=[],\n",
      "        kw_defaults=[],\n",
      "        defaults=[]),\n",
      "      body=[\n",
      "        FunctionDef(\n",
      "          name='bar',\n",
      "          args=arguments(\n",
      "            posonlyargs=[],\n",
      "            args=[],\n",
      "            kwonlyargs=[],\n",
      "            kw_defaults=[],\n",
      "            defaults=[]),\n",
      "          body=[\n",
      "            Pass()],\n",
      "          decorator_list=[])],\n",
      "      decorator_list=[])],\n",
      "  type_ignores=[])\n"
     ]
    }
   ],
   "source": [
    "a=\"\"\"\n",
    "def foo():\n",
    "    def bar():\n",
    "        pass\n",
    "\"\"\"\n",
    "print(ast.dump(ast.parse(a),indent=2))"
   ]
  },
  {
   "attachments": {},
   "cell_type": "markdown",
   "metadata": {},
   "source": [
    "Lambdas"
   ]
  },
  {
   "cell_type": "code",
   "execution_count": 49,
   "metadata": {},
   "outputs": [
    {
     "name": "stdout",
     "output_type": "stream",
     "text": [
      "Module(\n",
      "  body=[\n",
      "    Assign(\n",
      "      targets=[\n",
      "        Name(id='a', ctx=Store())],\n",
      "      value=Lambda(\n",
      "        args=arguments(\n",
      "          posonlyargs=[],\n",
      "          args=[\n",
      "            arg(arg='x')],\n",
      "          kwonlyargs=[],\n",
      "          kw_defaults=[],\n",
      "          defaults=[]),\n",
      "        body=Name(id='x', ctx=Load())))],\n",
      "  type_ignores=[])\n"
     ]
    }
   ],
   "source": [
    "a=\"a = lambda x: x\"\n",
    "print(ast.dump(ast.parse(a),indent=2))"
   ]
  },
  {
   "cell_type": "code",
   "execution_count": 50,
   "metadata": {},
   "outputs": [
    {
     "name": "stdout",
     "output_type": "stream",
     "text": [
      "Module(\n",
      "  body=[\n",
      "    Assign(\n",
      "      targets=[\n",
      "        Name(id='a', ctx=Store())],\n",
      "      value=Lambda(\n",
      "        args=arguments(\n",
      "          posonlyargs=[],\n",
      "          args=[\n",
      "            arg(arg='x')],\n",
      "          kwonlyargs=[],\n",
      "          kw_defaults=[],\n",
      "          defaults=[]),\n",
      "        body=Name(id='x', ctx=Load()))),\n",
      "    Expr(\n",
      "      value=Call(\n",
      "        func=Name(id='a', ctx=Load()),\n",
      "        args=[\n",
      "          Constant(value=2)],\n",
      "        keywords=[]))],\n",
      "  type_ignores=[])\n"
     ]
    }
   ],
   "source": [
    "a=\"\"\"\n",
    "a = lambda x: x\n",
    "a(2)\n",
    "\"\"\"\n",
    "print(ast.dump(ast.parse(a),indent=2))"
   ]
  },
  {
   "attachments": {},
   "cell_type": "markdown",
   "metadata": {},
   "source": [
    "Python allows for a lot of magic when it comes to arguments passed to functions, yet"
   ]
  },
  {
   "attachments": {},
   "cell_type": "markdown",
   "metadata": {},
   "source": [
    "#### Classes and OOP\n",
    "\n",
    "We do not expect to find code that relies on OOP in submissions, yet we need to know how to find out whether code uses it (since OOP was not taught in 2021 Computer Programming I curricula we do not expect to find a lot of submissions using classes and OOP related stuff and probably want to delete those submissions)"
   ]
  },
  {
   "cell_type": "code",
   "execution_count": 51,
   "metadata": {},
   "outputs": [
    {
     "name": "stdout",
     "output_type": "stream",
     "text": [
      "Module(\n",
      "  body=[\n",
      "    ClassDef(\n",
      "      name='Foo',\n",
      "      bases=[],\n",
      "      keywords=[],\n",
      "      body=[\n",
      "        FunctionDef(\n",
      "          name='__init__',\n",
      "          args=arguments(\n",
      "            posonlyargs=[],\n",
      "            args=[],\n",
      "            kwonlyargs=[],\n",
      "            kw_defaults=[],\n",
      "            defaults=[]),\n",
      "          body=[\n",
      "            Assign(\n",
      "              targets=[\n",
      "                Attribute(\n",
      "                  value=Name(id='self', ctx=Load()),\n",
      "                  attr='a',\n",
      "                  ctx=Store())],\n",
      "              value=Constant(value=2))],\n",
      "          decorator_list=[]),\n",
      "        FunctionDef(\n",
      "          name='foo_method',\n",
      "          args=arguments(\n",
      "            posonlyargs=[],\n",
      "            args=[\n",
      "              arg(arg='self')],\n",
      "            kwonlyargs=[],\n",
      "            kw_defaults=[],\n",
      "            defaults=[]),\n",
      "          body=[\n",
      "            Return(\n",
      "              value=Constant(value=0))],\n",
      "          decorator_list=[])],\n",
      "      decorator_list=[])],\n",
      "  type_ignores=[])\n"
     ]
    }
   ],
   "source": [
    "a=\"\"\"\n",
    "class Foo():\n",
    "    def __init__():\n",
    "        self.a = 2\n",
    "    \n",
    "    def foo_method(self):\n",
    "        return 0\n",
    "\"\"\"\n",
    "print(ast.dump(ast.parse(a),indent=2))"
   ]
  },
  {
   "attachments": {},
   "cell_type": "markdown",
   "metadata": {},
   "source": [
    "#### Other pythonic constructs"
   ]
  },
  {
   "attachments": {},
   "cell_type": "markdown",
   "metadata": {},
   "source": [
    "List comprehensions"
   ]
  },
  {
   "cell_type": "code",
   "execution_count": 52,
   "metadata": {},
   "outputs": [
    {
     "name": "stdout",
     "output_type": "stream",
     "text": [
      "Module(\n",
      "  body=[\n",
      "    Expr(\n",
      "      value=ListComp(\n",
      "        elt=Name(id='i', ctx=Load()),\n",
      "        generators=[\n",
      "          comprehension(\n",
      "            target=Name(id='i', ctx=Store()),\n",
      "            iter=Call(\n",
      "              func=Name(id='range', ctx=Load()),\n",
      "              args=[\n",
      "                Constant(value=4)],\n",
      "              keywords=[]),\n",
      "            ifs=[],\n",
      "            is_async=0)]))],\n",
      "  type_ignores=[])\n"
     ]
    }
   ],
   "source": [
    "a=\"[i for i in range(4)]\"\n",
    "print(ast.dump(ast.parse(a),indent=2))"
   ]
  },
  {
   "cell_type": "code",
   "execution_count": 53,
   "metadata": {},
   "outputs": [
    {
     "name": "stdout",
     "output_type": "stream",
     "text": [
      "Module(\n",
      "  body=[\n",
      "    Expr(\n",
      "      value=BinOp(\n",
      "        left=List(\n",
      "          elts=[\n",
      "            Constant(value=0)],\n",
      "          ctx=Load()),\n",
      "        op=Mult(),\n",
      "        right=Constant(value=10)))],\n",
      "  type_ignores=[])\n"
     ]
    }
   ],
   "source": [
    "a=\"[0]*10\"\n",
    "print(ast.dump(ast.parse(a),indent=2))"
   ]
  },
  {
   "attachments": {},
   "cell_type": "markdown",
   "metadata": {},
   "source": [
    "Generators"
   ]
  },
  {
   "cell_type": "code",
   "execution_count": 54,
   "metadata": {},
   "outputs": [
    {
     "name": "stdout",
     "output_type": "stream",
     "text": [
      "Module(\n",
      "  body=[\n",
      "    Assign(\n",
      "      targets=[\n",
      "        Name(id='b', ctx=Store())],\n",
      "      value=GeneratorExp(\n",
      "        elt=Name(id='i', ctx=Load()),\n",
      "        generators=[\n",
      "          comprehension(\n",
      "            target=Name(id='i', ctx=Store()),\n",
      "            iter=Call(\n",
      "              func=Name(id='range', ctx=Load()),\n",
      "              args=[\n",
      "                Constant(value=5)],\n",
      "              keywords=[]),\n",
      "            ifs=[],\n",
      "            is_async=0)]))],\n",
      "  type_ignores=[])\n"
     ]
    }
   ],
   "source": [
    "a=\"b=(i for i in range(5))\"\n",
    "print(ast.dump(ast.parse(a),indent=2))"
   ]
  },
  {
   "cell_type": "code",
   "execution_count": 55,
   "metadata": {},
   "outputs": [
    {
     "name": "stdout",
     "output_type": "stream",
     "text": [
      "Module(\n",
      "  body=[\n",
      "    FunctionDef(\n",
      "      name='foo',\n",
      "      args=arguments(\n",
      "        posonlyargs=[],\n",
      "        args=[\n",
      "          arg(arg='a')],\n",
      "        kwonlyargs=[],\n",
      "        kw_defaults=[],\n",
      "        defaults=[]),\n",
      "      body=[\n",
      "        For(\n",
      "          target=Name(id='i', ctx=Store()),\n",
      "          iter=Call(\n",
      "            func=Name(id='range', ctx=Load()),\n",
      "            args=[\n",
      "              Constant(value=5)],\n",
      "            keywords=[]),\n",
      "          body=[\n",
      "            Expr(\n",
      "              value=Yield(\n",
      "                value=Name(id='i', ctx=Load())))],\n",
      "          orelse=[])],\n",
      "      decorator_list=[])],\n",
      "  type_ignores=[])\n"
     ]
    }
   ],
   "source": [
    "a=\"\"\"\n",
    "def foo(a):\n",
    "    for i in range(5):\n",
    "        yield i\n",
    "\"\"\"\n",
    "print(ast.dump(ast.parse(a),indent=2))"
   ]
  },
  {
   "cell_type": "code",
   "execution_count": 56,
   "metadata": {},
   "outputs": [
    {
     "name": "stdout",
     "output_type": "stream",
     "text": [
      "Module(\n",
      "  body=[\n",
      "    Assign(\n",
      "      targets=[\n",
      "        Tuple(\n",
      "          elts=[\n",
      "            Name(id='a', ctx=Store()),\n",
      "            Name(id='b', ctx=Store())],\n",
      "          ctx=Store())],\n",
      "      value=Tuple(\n",
      "        elts=[\n",
      "          Constant(value=1),\n",
      "          Constant(value=2)],\n",
      "        ctx=Load()))],\n",
      "  type_ignores=[])\n"
     ]
    }
   ],
   "source": [
    "a=\"a, b=1, 2\"\n",
    "print(ast.dump(ast.parse(a),indent=2))"
   ]
  },
  {
   "attachments": {},
   "cell_type": "markdown",
   "metadata": {},
   "source": [
    "Unpacking"
   ]
  },
  {
   "cell_type": "code",
   "execution_count": 57,
   "metadata": {},
   "outputs": [
    {
     "name": "stdout",
     "output_type": "stream",
     "text": [
      "Module(\n",
      "  body=[\n",
      "    Assign(\n",
      "      targets=[\n",
      "        Name(id='a', ctx=Store())],\n",
      "      value=List(\n",
      "        elts=[\n",
      "          Constant(value=1),\n",
      "          Constant(value=2),\n",
      "          Constant(value=3)],\n",
      "        ctx=Load())),\n",
      "    Assign(\n",
      "      targets=[\n",
      "        Tuple(\n",
      "          elts=[\n",
      "            Name(id='b', ctx=Store()),\n",
      "            Starred(\n",
      "              value=Name(id='c', ctx=Store()),\n",
      "              ctx=Store())],\n",
      "          ctx=Store())],\n",
      "      value=Name(id='a', ctx=Load()))],\n",
      "  type_ignores=[])\n"
     ]
    }
   ],
   "source": [
    "a=\"\"\"\n",
    "a = [1, 2, 3]\n",
    "b,*c = a\n",
    "\"\"\"\n",
    "print(ast.dump(ast.parse(a),indent=2))"
   ]
  },
  {
   "attachments": {},
   "cell_type": "markdown",
   "metadata": {},
   "source": [
    "#### Built-in functions and imports"
   ]
  },
  {
   "cell_type": "code",
   "execution_count": 58,
   "metadata": {},
   "outputs": [
    {
     "name": "stdout",
     "output_type": "stream",
     "text": [
      "Module(\n",
      "  body=[\n",
      "    Import(\n",
      "      names=[\n",
      "        alias(name='os')])],\n",
      "  type_ignores=[])\n"
     ]
    }
   ],
   "source": [
    "a=\"import os\"\n",
    "print(ast.dump(ast.parse(a),indent=2))"
   ]
  },
  {
   "cell_type": "code",
   "execution_count": 59,
   "metadata": {},
   "outputs": [
    {
     "name": "stdout",
     "output_type": "stream",
     "text": [
      "Module(\n",
      "  body=[\n",
      "    ImportFrom(\n",
      "      module='random',\n",
      "      names=[\n",
      "        alias(name='randint')],\n",
      "      level=0)],\n",
      "  type_ignores=[])\n"
     ]
    }
   ],
   "source": [
    "a=\"from random import randint\"\n",
    "print(ast.dump(ast.parse(a),indent=2))"
   ]
  },
  {
   "cell_type": "code",
   "execution_count": 60,
   "metadata": {},
   "outputs": [
    {
     "name": "stdout",
     "output_type": "stream",
     "text": [
      "Module(\n",
      "  body=[\n",
      "    Import(\n",
      "      names=[\n",
      "        alias(name='numpy', asname='np')])],\n",
      "  type_ignores=[])\n"
     ]
    }
   ],
   "source": [
    "a=\"import numpy as np\"\n",
    "print(ast.dump(ast.parse(a),indent=2))"
   ]
  },
  {
   "cell_type": "code",
   "execution_count": 61,
   "metadata": {},
   "outputs": [
    {
     "name": "stdout",
     "output_type": "stream",
     "text": [
      "Module(\n",
      "  body=[\n",
      "    ImportFrom(\n",
      "      module='numpy',\n",
      "      names=[\n",
      "        alias(name='*')],\n",
      "      level=0)],\n",
      "  type_ignores=[])\n"
     ]
    }
   ],
   "source": [
    "a=\"from numpy import *\"\n",
    "print(ast.dump(ast.parse(a),indent=2))"
   ]
  },
  {
   "cell_type": "code",
   "execution_count": 62,
   "metadata": {},
   "outputs": [
    {
     "name": "stdout",
     "output_type": "stream",
     "text": [
      "Module(\n",
      "  body=[\n",
      "    Expr(\n",
      "      value=Call(\n",
      "        func=Attribute(\n",
      "          value=Name(id='np', ctx=Load()),\n",
      "          attr='array',\n",
      "          ctx=Load()),\n",
      "        args=[\n",
      "          List(\n",
      "            elts=[\n",
      "              Constant(value=1),\n",
      "              Constant(value=2),\n",
      "              Constant(value=3),\n",
      "              Constant(value=4)],\n",
      "            ctx=Load())],\n",
      "        keywords=[]))],\n",
      "  type_ignores=[])\n"
     ]
    }
   ],
   "source": [
    "a=\"np.array([1,2,3,4])\"\n",
    "print(ast.dump(ast.parse(a),indent=2))"
   ]
  },
  {
   "cell_type": "code",
   "execution_count": 63,
   "metadata": {},
   "outputs": [
    {
     "name": "stdout",
     "output_type": "stream",
     "text": [
      "Module(\n",
      "  body=[\n",
      "    Expr(\n",
      "      value=Call(\n",
      "        func=Name(id='sum', ctx=Load()),\n",
      "        args=[\n",
      "          List(\n",
      "            elts=[\n",
      "              Constant(value=1),\n",
      "              Constant(value=2)],\n",
      "            ctx=Load())],\n",
      "        keywords=[]))],\n",
      "  type_ignores=[])\n"
     ]
    }
   ],
   "source": [
    "a=\"sum([1,2])\"\n",
    "print(ast.dump(ast.parse(a),indent=2))"
   ]
  },
  {
   "attachments": {},
   "cell_type": "markdown",
   "metadata": {},
   "source": [
    "As we can see calling methods defined in modules can be simplified by substituting Attribute node for Name to deal with aliases and imported functions"
   ]
  },
  {
   "attachments": {},
   "cell_type": "markdown",
   "metadata": {},
   "source": [
    "#### Trivia"
   ]
  },
  {
   "attachments": {},
   "cell_type": "markdown",
   "metadata": {},
   "source": [
    "Comments: "
   ]
  },
  {
   "cell_type": "code",
   "execution_count": 64,
   "metadata": {},
   "outputs": [
    {
     "name": "stdout",
     "output_type": "stream",
     "text": [
      "Module(body=[], type_ignores=[])\n"
     ]
    }
   ],
   "source": [
    "a=\"#some comment\"\n",
    "print(ast.dump(ast.parse(a),indent=2))"
   ]
  },
  {
   "attachments": {},
   "cell_type": "markdown",
   "metadata": {},
   "source": [
    "Yay! They are cleaned automatically"
   ]
  },
  {
   "attachments": {},
   "cell_type": "markdown",
   "metadata": {},
   "source": [
    "Docstrings"
   ]
  },
  {
   "cell_type": "code",
   "execution_count": 65,
   "metadata": {},
   "outputs": [
    {
     "name": "stdout",
     "output_type": "stream",
     "text": [
      "Module(\n",
      "  body=[\n",
      "    Expr(\n",
      "      value=Constant(value='some docstring'))],\n",
      "  type_ignores=[])\n"
     ]
    }
   ],
   "source": [
    "a=\"'''some docstring'''\"\n",
    "print(ast.dump(ast.parse(a),indent=2))"
   ]
  },
  {
   "attachments": {},
   "cell_type": "markdown",
   "metadata": {},
   "source": [
    "Unfortunately, they are not cleaned from the code.\n",
    "Let's try to understand how to detect them just in case"
   ]
  },
  {
   "cell_type": "code",
   "execution_count": 66,
   "metadata": {},
   "outputs": [
    {
     "name": "stdout",
     "output_type": "stream",
     "text": [
      "Module(\n",
      "  body=[\n",
      "    Expr(\n",
      "      value=Constant(value='some string'))],\n",
      "  type_ignores=[])\n"
     ]
    }
   ],
   "source": [
    "a=\"'some string'\"\n",
    "print(ast.dump(ast.parse(a),indent=2)) "
   ]
  },
  {
   "cell_type": "code",
   "execution_count": 67,
   "metadata": {},
   "outputs": [
    {
     "name": "stdout",
     "output_type": "stream",
     "text": [
      "Module(\n",
      "  body=[\n",
      "    Assign(\n",
      "      targets=[\n",
      "        Name(id='a', ctx=Store())],\n",
      "      value=BinOp(\n",
      "        left=Constant(value='some docstring'),\n",
      "        op=Add(),\n",
      "        right=Constant(value='some string')))],\n",
      "  type_ignores=[])\n"
     ]
    }
   ],
   "source": [
    "a=\"a='some docstring' + 'some string'\"\n",
    "print(ast.dump(ast.parse(a),indent=2))"
   ]
  },
  {
   "cell_type": "code",
   "execution_count": 68,
   "metadata": {},
   "outputs": [
    {
     "name": "stdout",
     "output_type": "stream",
     "text": [
      "Module(\n",
      "  body=[\n",
      "    Expr(\n",
      "      value=Call(\n",
      "        func=Name(id='print', ctx=Load()),\n",
      "        args=[\n",
      "          Constant(value='some docstring')],\n",
      "        keywords=[]))],\n",
      "  type_ignores=[])\n"
     ]
    }
   ],
   "source": [
    "a=\"print('some docstring')\"\n",
    "print(ast.dump(ast.parse(a),indent=2))"
   ]
  },
  {
   "attachments": {},
   "cell_type": "markdown",
   "metadata": {},
   "source": [
    "So from constructs using strings, docstrings can be dsitinguished as `Expr` node with `Constant` node value. `Constant` node itself has string value"
   ]
  },
  {
   "cell_type": "code",
   "execution_count": 69,
   "metadata": {},
   "outputs": [
    {
     "name": "stdout",
     "output_type": "stream",
     "text": [
      "Module(\n",
      "  body=[\n",
      "    Expr(\n",
      "      value=Constant(value=5))],\n",
      "  type_ignores=[])\n"
     ]
    }
   ],
   "source": [
    "a=\"5\"\n",
    "print(ast.dump(ast.parse(a),indent=2))"
   ]
  },
  {
   "attachments": {},
   "cell_type": "markdown",
   "metadata": {},
   "source": [
    "Plus, we can actually clean all constant expressions"
   ]
  },
  {
   "attachments": {},
   "cell_type": "markdown",
   "metadata": {},
   "source": [
    "### Working with AST\n",
    "\n",
    "As we can see AST consists of many nodes and its structure is pretty heterogeneous. It would be quite tricky to process it in a simple recursion as can be done with binary trees. Fortunately, `ast` has helper classes `ast.NodeVisitor` for tree traversal and `ast.NodeTransformer` for tree modification.\n",
    "We will need to subclass these classes, they in turn work by calling `visit_Classname` method on `ast.ClassName` `ast.Node` subclass i.e. we need to define a method for each `ast.Node` type we want to visit/transform.\n",
    "\n",
    "We now proceed by testing `ast.NodeVisitor` and `ast.NodeTransformer`\n"
   ]
  },
  {
   "attachments": {},
   "cell_type": "markdown",
   "metadata": {},
   "source": [
    "We will test `ast.NodeVisitor` by looking for submissions containing docstrings, class definitions, main function (we may need to unwrap it in AST) and some random function name (we will use it for generality latter in submission processing script by wrapping maincode into this function)"
   ]
  },
  {
   "cell_type": "code",
   "execution_count": 70,
   "metadata": {},
   "outputs": [],
   "source": [
    "class Visitor(ast.NodeVisitor):\n",
    "    def __init__(self) -> None:\n",
    "        self.classdef = None\n",
    "        self.mainfun = None\n",
    "        self.ae = None\n",
    "        self.docstrings = []\n",
    "        super().__init__()\n",
    "    \n",
    "    def visit_ClassDef(self, node: ast.ClassDef):\n",
    "        self.classdef = node\n",
    "        super().generic_visit(node)\n",
    "\n",
    "    def visit_FunctionDef(self, node: ast.FunctionDef):\n",
    "        if node.name == 'main':\n",
    "            self.mainfun = node\n",
    "        if node.name == 'XAEA_Xii':\n",
    "            self.mainfun = node\n",
    "        super().generic_visit(node)\n",
    "\n",
    "    def visit_Expr(self, node: ast.Expr):\n",
    "        if isinstance(node.value, ast.Str):\n",
    "            self.docstrings.append(node.value)\n",
    "        super().generic_visit(node)\n",
    "\n",
    "\n",
    "submissions_for_revision = []\n",
    "for hw in next(os.walk('processed'))[1]:\n",
    "    for student in next(os.walk(f'processed/{hw}'))[1]:\n",
    "        for script in next(os.walk(f'processed/{hw}/{student}'))[2]:\n",
    "            with open(f'processed/{hw}/{student}/{script}', 'r', encoding='UTF-8') as f:\n",
    "                tree = ast.parse(f.read())\n",
    "                visitor = Visitor() \n",
    "                visitor.visit(tree)\n",
    "                path = f'processed/{hw}/{student}/{script}'\n",
    "                if visitor.classdef:\n",
    "                    submissions_for_revision.append(('ClassDef', path))\n",
    "                if visitor.mainfun:\n",
    "                    submissions_for_revision.append(('MainFun', path))\n",
    "                if visitor.ae:\n",
    "                    submissions_for_revision.append(('AE', path))\n",
    "                if visitor.docstrings:\n",
    "                    submissions_for_revision.append(('Docstring', path))"
   ]
  },
  {
   "cell_type": "code",
   "execution_count": 71,
   "metadata": {},
   "outputs": [
    {
     "name": "stdout",
     "output_type": "stream",
     "text": [
      "('ClassDef', 'processed/K01/S015/kodu1.py')\n",
      "('ClassDef', 'processed/K02/S168/kodu3.py')\n",
      "('ClassDef', 'processed/K04/S303/kodu1.py')\n"
     ]
    }
   ],
   "source": [
    "print(*filter(lambda pair: pair[0] == 'ClassDef', submissions_for_revision), sep='\\n')"
   ]
  },
  {
   "cell_type": "code",
   "execution_count": 72,
   "metadata": {},
   "outputs": [
    {
     "name": "stdout",
     "output_type": "stream",
     "text": [
      "('MainFun', 'processed/K03/S147/kodu4.py')\n",
      "('MainFun', 'processed/K04/S088/kodu1.py')\n",
      "('MainFun', 'processed/K04/S369/kodu1.py')\n",
      "('MainFun', 'processed/K05/S013/kodu1.py')\n",
      "('MainFun', 'processed/K05/S052/kodu1.py')\n",
      "('MainFun', 'processed/K05/S088/kodu1.py')\n",
      "('MainFun', 'processed/K08/S365/film.py')\n"
     ]
    }
   ],
   "source": [
    "print(*filter(lambda pair: pair[0] == 'MainFun', submissions_for_revision), sep='\\n')"
   ]
  },
  {
   "cell_type": "code",
   "execution_count": 73,
   "metadata": {},
   "outputs": [
    {
     "name": "stdout",
     "output_type": "stream",
     "text": [
      "\n"
     ]
    }
   ],
   "source": [
    "print(*filter(lambda pair: pair[0] == 'AE', submissions_for_revision), sep='\\n')"
   ]
  },
  {
   "cell_type": "code",
   "execution_count": 74,
   "metadata": {},
   "outputs": [
    {
     "name": "stdout",
     "output_type": "stream",
     "text": [
      "('Docstring', 'processed/K01/S260/kodu1.py')\n",
      "('Docstring', 'processed/K02/S254/kodu2.py')\n",
      "('Docstring', 'processed/K02/S353/kodu2.py')\n",
      "('Docstring', 'processed/K02/S353/kodu3.py')\n",
      "('Docstring', 'processed/K03/S020/kodu1.py')\n",
      "('Docstring', 'processed/K03/S020/kodu2.py')\n",
      "('Docstring', 'processed/K03/S020/kodu3.py')\n",
      "('Docstring', 'processed/K03/S020/kodu4.py')\n",
      "('Docstring', 'processed/K03/S168/kodu2.py')\n",
      "('Docstring', 'processed/K03/S254/kodu2.py')\n",
      "('Docstring', 'processed/K03/S333/kodu1.py')\n",
      "('Docstring', 'processed/K03/S353/kodu2.py')\n",
      "('Docstring', 'processed/K03/S362/kodu2.py')\n",
      "('Docstring', 'processed/K04/S049/kodu1.py')\n",
      "('Docstring', 'processed/K04/S333/kodu1.py')\n",
      "('Docstring', 'processed/K05/S036/kodu2.py')\n",
      "('Docstring', 'processed/K05/S063/kodu1.py')\n",
      "('Docstring', 'processed/K05/S063/kodu2.py')\n",
      "('Docstring', 'processed/K05/S063/kodu3.py')\n",
      "('Docstring', 'processed/K05/S082/kodu3.py')\n",
      "('Docstring', 'processed/K05/S157/kodu1.py')\n",
      "('Docstring', 'processed/K05/S169/kodu1.py')\n",
      "('Docstring', 'processed/K07/S187/kodu2.py')\n",
      "('Docstring', 'processed/K07/S194/kodu1.py')\n",
      "('Docstring', 'processed/K08/S022/kodu3.py')\n",
      "('Docstring', 'processed/K08/S047/film.py')\n",
      "('Docstring', 'processed/K08/S082/film.py')\n",
      "('Docstring', 'processed/K08/S178/kodu3.py')\n",
      "('Docstring', 'processed/K08/S260/kodu3.py')\n",
      "('Docstring', 'processed/K09/S010/kodu1.py')\n",
      "('Docstring', 'processed/K09/S128/kodu2.py')\n",
      "('Docstring', 'processed/K09/S129/kodu1.py')\n",
      "('Docstring', 'processed/K09/S148/kodu1.py')\n",
      "('Docstring', 'processed/K09/S333/kodu1.py')\n",
      "('Docstring', 'processed/K10/S063/kodu1.py')\n",
      "('Docstring', 'processed/K10/S063/kodu2.py')\n",
      "('Docstring', 'processed/K10/S082/kodu1.py')\n",
      "('Docstring', 'processed/K10/S082/kodu2.py')\n",
      "('Docstring', 'processed/K10/S118/kodu2.py')\n",
      "('Docstring', 'processed/K10/S187/kodu2.py')\n",
      "('Docstring', 'processed/K11/S022/kodu2.py')\n",
      "('Docstring', 'processed/K11/S060/kodu1.py')\n",
      "('Docstring', 'processed/K11/S063/kodu1.py')\n",
      "('Docstring', 'processed/K11/S063/kodu2.py')\n",
      "('Docstring', 'processed/K11/S133/kodu1.py')\n",
      "('Docstring', 'processed/K11/S148/kodu2.py')\n",
      "('Docstring', 'processed/K13/S063/kodu1.py')\n",
      "('Docstring', 'processed/K13/S063/kodu2.py')\n",
      "('Docstring', 'processed/K13/S178/kodu2.py')\n",
      "('Docstring', 'processed/K13/S187/kodu2.py')\n",
      "('Docstring', 'processed/K14/S063/kodu1.py')\n",
      "('Docstring', 'processed/K14/S063/kodu2.py')\n",
      "('Docstring', 'processed/K14/S353/kodu2.py')\n",
      "('Docstring', 'processed/K15/S063/kodu1.py')\n",
      "('Docstring', 'processed/K15/S063/kodu2.py')\n",
      "('Docstring', 'processed/K15/S063/kodu3.py')\n",
      "('Docstring', 'processed/K15/S082/kodu3.py')\n",
      "('Docstring', 'processed/K15/S118/kodu2.py')\n",
      "('Docstring', 'processed/K15/S178/kodu2.py')\n"
     ]
    }
   ],
   "source": [
    "print(*filter(lambda pair: pair[0] == 'Docstring', submissions_for_revision), sep='\\n')"
   ]
  },
  {
   "attachments": {},
   "cell_type": "markdown",
   "metadata": {},
   "source": [
    "We checked class definitions. They are small and do not really change the logic (two custom Exceptions/Errors and dataclass) so we can just leave the class definitions as they are, as it will make solutions more different hinting at different mindset when solving the task\n",
    "\n",
    "We will unwrap main functions during AST processing and we will use `XAEA_Xii` as a function name to wrap all maincode into it\n",
    "\n",
    "And we will clean docstrings from AST"
   ]
  },
  {
   "attachments": {},
   "cell_type": "markdown",
   "metadata": {},
   "source": [
    "We will test `ast.NodeTransformer` by extracting function definitions from main code"
   ]
  },
  {
   "cell_type": "code",
   "execution_count": 75,
   "metadata": {},
   "outputs": [
    {
     "name": "stdout",
     "output_type": "stream",
     "text": [
      "Module(\n",
      "  body=[\n",
      "    Assign(\n",
      "      targets=[\n",
      "        Name(id='a', ctx=Store())],\n",
      "      value=BinOp(\n",
      "        left=Constant(value=2),\n",
      "        op=Add(),\n",
      "        right=Constant(value=2)))])\n",
      "Functions\n",
      "FunctionDef(\n",
      "  name='foo',\n",
      "  args=arguments(\n",
      "    posonlyargs=[],\n",
      "    args=[],\n",
      "    kwonlyargs=[],\n",
      "    kw_defaults=[],\n",
      "    defaults=[]),\n",
      "  body=[\n",
      "    Return()])\n",
      "FunctionDef(\n",
      "  name='bar',\n",
      "  args=arguments(\n",
      "    posonlyargs=[],\n",
      "    args=[],\n",
      "    kwonlyargs=[],\n",
      "    kw_defaults=[],\n",
      "    defaults=[]),\n",
      "  body=[\n",
      "    Return()])\n"
     ]
    }
   ],
   "source": [
    "class Transformer(ast.NodeTransformer):\n",
    "    def __init__(self) -> None:\n",
    "        self.main = None\n",
    "        self.funs = []\n",
    "        super().__init__()\n",
    "\n",
    "    def generic_visit(self, node):\n",
    "        return super().generic_visit(node)\n",
    "    \n",
    "    def visit_Module(self, node: ast.Module):\n",
    "        self.main = node\n",
    "        del node.type_ignores\n",
    "        super().generic_visit(node)\n",
    "        return node\n",
    "\n",
    "    def visit_FunctionDef(self, node: ast.FunctionDef):\n",
    "        self.funs.append(node)\n",
    "        delattr(node, \"decorator_list\")\n",
    "        delattr(node, \"type_comment\")\n",
    "        super().generic_visit(node)\n",
    "\n",
    "    def get(self):\n",
    "        return self.main, self.funs\n",
    "\n",
    "a = \"\"\"\n",
    "def foo():\n",
    "    return\n",
    "\n",
    "def bar():\n",
    "    return\n",
    "\n",
    "a = 2+2\n",
    "\"\"\"\n",
    "\n",
    "test_tree = ast.parse(a)\n",
    "transformer = Transformer()\n",
    "transformer.visit(test_tree)\n",
    "main, funs = transformer.get()\n",
    "print(ast.dump(main, indent=2))\n",
    "print('Functions')\n",
    "for fun in funs:\n",
    "    print(ast.dump(fun, indent=2))\n",
    "    "
   ]
  },
  {
   "attachments": {},
   "cell_type": "markdown",
   "metadata": {},
   "source": [
    "### Conclusions\n",
    "- There is a number of attributes that do not play role in code similarity, we could clean them for optimisation and better results \n",
    "- Loops have `orelse` construct we need to account for that\n",
    "- Comments are not added to AST, yet docstrings are\n",
    "- AST structure is pretty general, yet its nodes are still heteregenous. Given that, we have to use Visitor design pattern to apply our business logic to it"
   ]
  },
  {
   "attachments": {},
   "cell_type": "markdown",
   "metadata": {},
   "source": [
    "### Reference\n",
    "[1] https://www.codeproject.com/Articles/5310967/Analyzing-Python-with-the-AST-Package"
   ]
  }
 ],
 "metadata": {
  "kernelspec": {
   "display_name": "Python 3",
   "language": "python",
   "name": "python3"
  },
  "language_info": {
   "codemirror_mode": {
    "name": "ipython",
    "version": 3
   },
   "file_extension": ".py",
   "mimetype": "text/x-python",
   "name": "python",
   "nbconvert_exporter": "python",
   "pygments_lexer": "ipython3",
   "version": "3.10.4"
  },
  "orig_nbformat": 4,
  "vscode": {
   "interpreter": {
    "hash": "369f2c481f4da34e4445cda3fffd2e751bd1c4d706f27375911949ba6bb62e1c"
   }
  }
 },
 "nbformat": 4,
 "nbformat_minor": 2
}
